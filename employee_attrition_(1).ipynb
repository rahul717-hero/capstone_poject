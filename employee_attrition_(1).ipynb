{
  "nbformat": 4,
  "nbformat_minor": 0,
  "metadata": {
    "gist": {
      "data": {
        "description": "Desktop/MAX_Demo_Files/Data_Science_Pipeline_Demo.ipynb",
        "public": false
      },
      "id": ""
    },
    "kernelspec": {
      "display_name": "Python 3.5",
      "language": "python",
      "name": "python3"
    },
    "language_info": {
      "codemirror_mode": {
        "name": "ipython",
        "version": 3
      },
      "file_extension": ".py",
      "mimetype": "text/x-python",
      "name": "python",
      "nbconvert_exporter": "python",
      "pygments_lexer": "ipython3",
      "version": "3.5.5"
    },
    "colab": {
      "name": "employee-attrition (1).ipynb",
      "provenance": []
    }
  },
  "cells": [
    {
      "cell_type": "markdown",
      "metadata": {
        "id": "6JAfAmroG8au",
        "colab_type": "text"
      },
      "source": [
        "# Data Science pipeline to solve employee attrition problem"
      ]
    },
    {
      "cell_type": "markdown",
      "metadata": {
        "id": "8gzAModnG8aw",
        "colab_type": "text"
      },
      "source": [
        "\n",
        "\n",
        "Employees are the backbone of the organization. Organization's performance is heavily based on the quality of the employees. Challenges that an organization has to face due employee attrition are:\n",
        "\n",
        "1. Expensive in terms of both money and time to train new employees.\n",
        "2. Loss of experienced employees\n",
        "3. Impact in productivity\n",
        "4. Impact profit\n",
        "\n",
        "Before getting our hands dirty with the data, first step is to frame the business question. Having clarity on below questions is very crucial because the solution that is being developed will make sense only if we have well stated problem.\n",
        "\n",
        "“Good data science is more about the questions you pose of the data rather than data munging and analysis” — Riley Newman\n",
        "\n",
        "### Business questions to brainstorm:\n",
        "\n",
        "1. What factors are contributing more to employee attrition?\n",
        "2. What type of measures should the company take in order to retain their employees?\n",
        "3. What business value does the model bring?\n",
        "4. Will the model save lots of money?\n",
        "5. Which business unit faces the attrition problem?\n"
      ]
    },
    {
      "cell_type": "markdown",
      "metadata": {
        "id": "aqsKG4E4G8ax",
        "colab_type": "text"
      },
      "source": [
        "### Data Science Process Pipeline "
      ]
    },
    {
      "cell_type": "markdown",
      "metadata": {
        "id": "S0x7BOQxG8ay",
        "colab_type": "text"
      },
      "source": [
        "<img src=\"https://github.com/IBM/employee-attrition-aif360/raw/master/doc/source/images/pipeline.png\" width=\"800\" />"
      ]
    },
    {
      "cell_type": "markdown",
      "metadata": {
        "id": "uoGthtfDG8az",
        "colab_type": "text"
      },
      "source": [
        "Above image explains the steps involved in solving a data science problem. It starts from data extraction to result interpretation. Once the model produces acceptable performance, it can be deployed in real-time. "
      ]
    },
    {
      "cell_type": "code",
      "metadata": {
        "tags": [],
        "id": "cFSAwJ5aG8a0",
        "colab_type": "code",
        "colab": {
          "base_uri": "https://localhost:8080/",
          "height": 102
        },
        "outputId": "992d8c70-806a-46fe-efec-259f2c3bf9a6"
      },
      "source": [
        "!pip install sklearn"
      ],
      "execution_count": 1,
      "outputs": [
        {
          "output_type": "stream",
          "text": [
            "Requirement already satisfied: sklearn in /usr/local/lib/python3.6/dist-packages (0.0)\n",
            "Requirement already satisfied: scikit-learn in /usr/local/lib/python3.6/dist-packages (from sklearn) (0.22.1)\n",
            "Requirement already satisfied: joblib>=0.11 in /usr/local/lib/python3.6/dist-packages (from scikit-learn->sklearn) (0.14.1)\n",
            "Requirement already satisfied: scipy>=0.17.0 in /usr/local/lib/python3.6/dist-packages (from scikit-learn->sklearn) (1.4.1)\n",
            "Requirement already satisfied: numpy>=1.11.0 in /usr/local/lib/python3.6/dist-packages (from scikit-learn->sklearn) (1.17.5)\n"
          ],
          "name": "stdout"
        }
      ]
    },
    {
      "cell_type": "markdown",
      "metadata": {
        "id": "xp5fDSvTG8a4",
        "colab_type": "text"
      },
      "source": [
        "### Let's solve employee attrition problem..."
      ]
    },
    {
      "cell_type": "code",
      "metadata": {
        "id": "SeqMbQiIG8a5",
        "colab_type": "code",
        "colab": {
          "base_uri": "https://localhost:8080/",
          "height": 122
        },
        "outputId": "4114b2dc-8016-4425-95a0-81053e32d46d"
      },
      "source": [
        "!pip install pygal"
      ],
      "execution_count": 2,
      "outputs": [
        {
          "output_type": "stream",
          "text": [
            "Collecting pygal\n",
            "\u001b[?25l  Downloading https://files.pythonhosted.org/packages/5f/b7/201c9254ac0d2b8ffa3bb2d528d23a4130876d9ba90bc28e99633f323f17/pygal-2.4.0-py2.py3-none-any.whl (127kB)\n",
            "\r\u001b[K     |██▋                             | 10kB 13.7MB/s eta 0:00:01\r\u001b[K     |█████▏                          | 20kB 1.7MB/s eta 0:00:01\r\u001b[K     |███████▊                        | 30kB 2.5MB/s eta 0:00:01\r\u001b[K     |██████████▎                     | 40kB 1.7MB/s eta 0:00:01\r\u001b[K     |████████████▉                   | 51kB 2.1MB/s eta 0:00:01\r\u001b[K     |███████████████▍                | 61kB 2.5MB/s eta 0:00:01\r\u001b[K     |██████████████████              | 71kB 2.9MB/s eta 0:00:01\r\u001b[K     |████████████████████▌           | 81kB 3.3MB/s eta 0:00:01\r\u001b[K     |███████████████████████▏        | 92kB 3.7MB/s eta 0:00:01\r\u001b[K     |█████████████████████████▊      | 102kB 2.8MB/s eta 0:00:01\r\u001b[K     |████████████████████████████▎   | 112kB 2.8MB/s eta 0:00:01\r\u001b[K     |██████████████████████████████▉ | 122kB 2.8MB/s eta 0:00:01\r\u001b[K     |████████████████████████████████| 133kB 2.8MB/s \n",
            "\u001b[?25hInstalling collected packages: pygal\n",
            "Successfully installed pygal-2.4.0\n"
          ],
          "name": "stdout"
        }
      ]
    },
    {
      "cell_type": "code",
      "metadata": {
        "tags": [],
        "id": "ygG5PcfbG8bB",
        "colab_type": "code",
        "colab": {
          "base_uri": "https://localhost:8080/",
          "height": 241
        },
        "outputId": "ae6b3ab8-7275-4ac5-ba31-56e42852d511"
      },
      "source": [
        "!pip install seaborn"
      ],
      "execution_count": 3,
      "outputs": [
        {
          "output_type": "stream",
          "text": [
            "Requirement already satisfied: seaborn in /usr/local/lib/python3.6/dist-packages (0.10.0)\n",
            "Requirement already satisfied: pandas>=0.22.0 in /usr/local/lib/python3.6/dist-packages (from seaborn) (0.25.3)\n",
            "Requirement already satisfied: matplotlib>=2.1.2 in /usr/local/lib/python3.6/dist-packages (from seaborn) (3.1.3)\n",
            "Requirement already satisfied: numpy>=1.13.3 in /usr/local/lib/python3.6/dist-packages (from seaborn) (1.17.5)\n",
            "Requirement already satisfied: scipy>=1.0.1 in /usr/local/lib/python3.6/dist-packages (from seaborn) (1.4.1)\n",
            "Requirement already satisfied: pytz>=2017.2 in /usr/local/lib/python3.6/dist-packages (from pandas>=0.22.0->seaborn) (2018.9)\n",
            "Requirement already satisfied: python-dateutil>=2.6.1 in /usr/local/lib/python3.6/dist-packages (from pandas>=0.22.0->seaborn) (2.6.1)\n",
            "Requirement already satisfied: cycler>=0.10 in /usr/local/lib/python3.6/dist-packages (from matplotlib>=2.1.2->seaborn) (0.10.0)\n",
            "Requirement already satisfied: pyparsing!=2.0.4,!=2.1.2,!=2.1.6,>=2.0.1 in /usr/local/lib/python3.6/dist-packages (from matplotlib>=2.1.2->seaborn) (2.4.6)\n",
            "Requirement already satisfied: kiwisolver>=1.0.1 in /usr/local/lib/python3.6/dist-packages (from matplotlib>=2.1.2->seaborn) (1.1.0)\n",
            "Requirement already satisfied: six>=1.5 in /usr/local/lib/python3.6/dist-packages (from python-dateutil>=2.6.1->pandas>=0.22.0->seaborn) (1.12.0)\n",
            "Requirement already satisfied: setuptools in /usr/local/lib/python3.6/dist-packages (from kiwisolver>=1.0.1->matplotlib>=2.1.2->seaborn) (45.2.0)\n"
          ],
          "name": "stdout"
        }
      ]
    },
    {
      "cell_type": "code",
      "metadata": {
        "tags": [],
        "id": "lBR1wKwKG8bD",
        "colab_type": "code",
        "colab": {
          "base_uri": "https://localhost:8080/",
          "height": 224
        },
        "outputId": "41ce60e8-5f30-4455-b96e-47ab276cc250"
      },
      "source": [
        "!pip install bokeh"
      ],
      "execution_count": 4,
      "outputs": [
        {
          "output_type": "stream",
          "text": [
            "Requirement already satisfied: bokeh in /usr/local/lib/python3.6/dist-packages (1.4.0)\n",
            "Requirement already satisfied: numpy>=1.7.1 in /usr/local/lib/python3.6/dist-packages (from bokeh) (1.17.5)\n",
            "Requirement already satisfied: python-dateutil>=2.1 in /usr/local/lib/python3.6/dist-packages (from bokeh) (2.6.1)\n",
            "Requirement already satisfied: six>=1.5.2 in /usr/local/lib/python3.6/dist-packages (from bokeh) (1.12.0)\n",
            "Requirement already satisfied: packaging>=16.8 in /usr/local/lib/python3.6/dist-packages (from bokeh) (20.1)\n",
            "Requirement already satisfied: PyYAML>=3.10 in /usr/local/lib/python3.6/dist-packages (from bokeh) (3.13)\n",
            "Requirement already satisfied: tornado>=4.3 in /usr/local/lib/python3.6/dist-packages (from bokeh) (4.5.3)\n",
            "Requirement already satisfied: pillow>=4.0 in /usr/local/lib/python3.6/dist-packages (from bokeh) (6.2.2)\n",
            "Requirement already satisfied: Jinja2>=2.7 in /usr/local/lib/python3.6/dist-packages (from bokeh) (2.11.1)\n",
            "Requirement already satisfied: pyparsing>=2.0.2 in /usr/local/lib/python3.6/dist-packages (from packaging>=16.8->bokeh) (2.4.6)\n",
            "Requirement already satisfied: MarkupSafe>=0.23 in /usr/local/lib/python3.6/dist-packages (from Jinja2>=2.7->bokeh) (1.1.1)\n"
          ],
          "name": "stdout"
        }
      ]
    },
    {
      "cell_type": "code",
      "metadata": {
        "id": "xVggn_gMG8bH",
        "colab_type": "code",
        "colab": {
          "base_uri": "https://localhost:8080/",
          "height": 333
        },
        "outputId": "0ef8f5a3-6b9c-4a57-ddf1-b267ccc8a573"
      },
      "source": [
        "#import all required libraries\n",
        "#Data Analysis\n",
        "import pandas as pd\n",
        "import numpy as np\n",
        "import json\n",
        "#Visulaization libraries\n",
        "from bokeh.plotting import figure, show, output_file\n",
        "from bokeh.io import output_notebook\n",
        "from bokeh.models import ColumnDataSource, LabelSet\n",
        "from bokeh.palettes import Viridis5\n",
        "import seaborn as sns\n",
        "import matplotlib.pyplot as plt\n",
        "import pygal\n",
        "from plotly.offline import download_plotlyjs, init_notebook_mode, plot, iplot\n",
        "#model developemnt libraries\n",
        "from sklearn import preprocessing\n",
        "from sklearn import metrics\n",
        "from sklearn.pipeline import Pipeline\n",
        "from sklearn.feature_selection import chi2\n",
        "from sklearn.metrics import classification_report\n",
        "\n",
        "from IPython.display import SVG, display\n",
        "import warnings\n",
        "warnings.filterwarnings(\"ignore\")\n",
        "#deployment library\n",
        "from watson_machine_learning_client import WatsonMachineLearningAPIClient"
      ],
      "execution_count": 5,
      "outputs": [
        {
          "output_type": "error",
          "ename": "ModuleNotFoundError",
          "evalue": "ignored",
          "traceback": [
            "\u001b[0;31m---------------------------------------------------------------------------\u001b[0m",
            "\u001b[0;31mModuleNotFoundError\u001b[0m                       Traceback (most recent call last)",
            "\u001b[0;32m<ipython-input-5-8949ce74242a>\u001b[0m in \u001b[0;36m<module>\u001b[0;34m()\u001b[0m\n\u001b[1;32m     22\u001b[0m \u001b[0mwarnings\u001b[0m\u001b[0;34m.\u001b[0m\u001b[0mfilterwarnings\u001b[0m\u001b[0;34m(\u001b[0m\u001b[0;34m\"ignore\"\u001b[0m\u001b[0;34m)\u001b[0m\u001b[0;34m\u001b[0m\u001b[0;34m\u001b[0m\u001b[0m\n\u001b[1;32m     23\u001b[0m \u001b[0;31m#deployment library\u001b[0m\u001b[0;34m\u001b[0m\u001b[0;34m\u001b[0m\u001b[0;34m\u001b[0m\u001b[0m\n\u001b[0;32m---> 24\u001b[0;31m \u001b[0;32mfrom\u001b[0m \u001b[0mwatson_machine_learning_client\u001b[0m \u001b[0;32mimport\u001b[0m \u001b[0mWatsonMachineLearningAPIClient\u001b[0m\u001b[0;34m\u001b[0m\u001b[0;34m\u001b[0m\u001b[0m\n\u001b[0m",
            "\u001b[0;31mModuleNotFoundError\u001b[0m: No module named 'watson_machine_learning_client'",
            "",
            "\u001b[0;31m---------------------------------------------------------------------------\u001b[0;32m\nNOTE: If your import is failing due to a missing package, you can\nmanually install dependencies using either !pip or !apt.\n\nTo view examples of installing some common dependencies, click the\n\"Open Examples\" button below.\n\u001b[0;31m---------------------------------------------------------------------------\u001b[0m\n"
          ]
        }
      ]
    },
    {
      "cell_type": "markdown",
      "metadata": {
        "id": "wa5SQ7PKG8bJ",
        "colab_type": "text"
      },
      "source": [
        "## 1.  Data Collection"
      ]
    },
    {
      "cell_type": "markdown",
      "metadata": {
        "id": "pSQcaoajG8bK",
        "colab_type": "text"
      },
      "source": [
        "- Source: Kaggle\n",
        "- Data: IBM HR Analytics dataset (synthetically generated)\n",
        "  https://www.kaggle.com/pavansubhasht/ibm-hr-analytics-attrition-dataset/home\n",
        "- License: \n",
        "    *  Database: https://opendatacommons.org/licenses/odbl/1.0/\n",
        "    *  Contents: https://opendatacommons.org/licenses/dbcl/1.0/"
      ]
    },
    {
      "cell_type": "markdown",
      "metadata": {
        "id": "nv_YU4brG8bL",
        "colab_type": "text"
      },
      "source": [
        "#### Rule of thumb\n",
        "* Know all the available dataset for the problem (database/ internet/ third party etc) . Dataset must be reliable and   authentic.\n",
        "* Extract data in a format that can be used\n",
        "* Required Skills for data extraction in general(mostly used and not specific to the pattern):\n",
        "   - Distributed Storage: Hadoop, Apache Spark.\n",
        "   - Database Management: MySQL, PostgresSQL, MongoDB.\n",
        "   - Know to querying Relational Databases and retrieve unstructured Data like text, videos, audio files, documents."
      ]
    },
    {
      "cell_type": "markdown",
      "metadata": {
        "id": "3h-1BcBuG8bL",
        "colab_type": "text"
      },
      "source": [
        "#### Download dataset "
      ]
    },
    {
      "cell_type": "code",
      "metadata": {
        "id": "ynAADiPHG8bM",
        "colab_type": "code",
        "colab": {
          "base_uri": "https://localhost:8080/",
          "height": 289
        },
        "outputId": "c81b31f7-c1fa-4c3e-f941-236b036c267d"
      },
      "source": [
        "!wget https://github.com/IBM/employee-attrition-aif360/raw/master/data/emp_attrition.csv --output-document=emp_attrition.csv"
      ],
      "execution_count": 6,
      "outputs": [
        {
          "output_type": "stream",
          "text": [
            "--2020-03-13 18:17:49--  https://github.com/IBM/employee-attrition-aif360/raw/master/data/emp_attrition.csv\n",
            "Resolving github.com (github.com)... 192.30.253.112\n",
            "Connecting to github.com (github.com)|192.30.253.112|:443... connected.\n",
            "HTTP request sent, awaiting response... 302 Found\n",
            "Location: https://raw.githubusercontent.com/IBM/employee-attrition-aif360/master/data/emp_attrition.csv [following]\n",
            "--2020-03-13 18:17:49--  https://raw.githubusercontent.com/IBM/employee-attrition-aif360/master/data/emp_attrition.csv\n",
            "Resolving raw.githubusercontent.com (raw.githubusercontent.com)... 151.101.0.133, 151.101.64.133, 151.101.128.133, ...\n",
            "Connecting to raw.githubusercontent.com (raw.githubusercontent.com)|151.101.0.133|:443... connected.\n",
            "HTTP request sent, awaiting response... 200 OK\n",
            "Length: 227977 (223K) [text/plain]\n",
            "Saving to: ‘emp_attrition.csv’\n",
            "\n",
            "\remp_attrition.csv     0%[                    ]       0  --.-KB/s               \remp_attrition.csv   100%[===================>] 222.63K  --.-KB/s    in 0.05s   \n",
            "\n",
            "2020-03-13 18:17:50 (4.36 MB/s) - ‘emp_attrition.csv’ saved [227977/227977]\n",
            "\n"
          ],
          "name": "stdout"
        }
      ]
    },
    {
      "cell_type": "code",
      "metadata": {
        "id": "lyKiqjGPG8bP",
        "colab_type": "code",
        "colab": {
          "base_uri": "https://localhost:8080/",
          "height": 309
        },
        "outputId": "28a47314-f2ec-48f1-ab83-479e2b5c1bb5"
      },
      "source": [
        "#Reading csv file in pandas dataframe format. \n",
        "df_data = pd.read_csv('emp_attrition.csv')\n",
        "df_data.head()"
      ],
      "execution_count": 7,
      "outputs": [
        {
          "output_type": "execute_result",
          "data": {
            "text/html": [
              "<div>\n",
              "<style scoped>\n",
              "    .dataframe tbody tr th:only-of-type {\n",
              "        vertical-align: middle;\n",
              "    }\n",
              "\n",
              "    .dataframe tbody tr th {\n",
              "        vertical-align: top;\n",
              "    }\n",
              "\n",
              "    .dataframe thead th {\n",
              "        text-align: right;\n",
              "    }\n",
              "</style>\n",
              "<table border=\"1\" class=\"dataframe\">\n",
              "  <thead>\n",
              "    <tr style=\"text-align: right;\">\n",
              "      <th></th>\n",
              "      <th>Age</th>\n",
              "      <th>Attrition</th>\n",
              "      <th>BusinessTravel</th>\n",
              "      <th>DailyRate</th>\n",
              "      <th>Department</th>\n",
              "      <th>DistanceFromHome</th>\n",
              "      <th>Education</th>\n",
              "      <th>EducationField</th>\n",
              "      <th>EmployeeCount</th>\n",
              "      <th>EmployeeNumber</th>\n",
              "      <th>EnvironmentSatisfaction</th>\n",
              "      <th>Gender</th>\n",
              "      <th>HourlyRate</th>\n",
              "      <th>JobInvolvement</th>\n",
              "      <th>JobLevel</th>\n",
              "      <th>JobRole</th>\n",
              "      <th>JobSatisfaction</th>\n",
              "      <th>MaritalStatus</th>\n",
              "      <th>MonthlyIncome</th>\n",
              "      <th>MonthlyRate</th>\n",
              "      <th>NumCompaniesWorked</th>\n",
              "      <th>Over18</th>\n",
              "      <th>OverTime</th>\n",
              "      <th>PercentSalaryHike</th>\n",
              "      <th>PerformanceRating</th>\n",
              "      <th>RelationshipSatisfaction</th>\n",
              "      <th>StandardHours</th>\n",
              "      <th>StockOptionLevel</th>\n",
              "      <th>TotalWorkingYears</th>\n",
              "      <th>TrainingTimesLastYear</th>\n",
              "      <th>WorkLifeBalance</th>\n",
              "      <th>YearsAtCompany</th>\n",
              "      <th>YearsInCurrentRole</th>\n",
              "      <th>YearsSinceLastPromotion</th>\n",
              "      <th>YearsWithCurrManager</th>\n",
              "    </tr>\n",
              "  </thead>\n",
              "  <tbody>\n",
              "    <tr>\n",
              "      <th>0</th>\n",
              "      <td>41</td>\n",
              "      <td>Yes</td>\n",
              "      <td>Travel_Rarely</td>\n",
              "      <td>1102</td>\n",
              "      <td>Sales</td>\n",
              "      <td>1</td>\n",
              "      <td>2</td>\n",
              "      <td>Life Sciences</td>\n",
              "      <td>1</td>\n",
              "      <td>1</td>\n",
              "      <td>2</td>\n",
              "      <td>Female</td>\n",
              "      <td>94</td>\n",
              "      <td>3</td>\n",
              "      <td>2</td>\n",
              "      <td>Sales Executive</td>\n",
              "      <td>4</td>\n",
              "      <td>Single</td>\n",
              "      <td>5993</td>\n",
              "      <td>19479</td>\n",
              "      <td>8</td>\n",
              "      <td>Y</td>\n",
              "      <td>Yes</td>\n",
              "      <td>11</td>\n",
              "      <td>3</td>\n",
              "      <td>1</td>\n",
              "      <td>80</td>\n",
              "      <td>0</td>\n",
              "      <td>8</td>\n",
              "      <td>0</td>\n",
              "      <td>1</td>\n",
              "      <td>6</td>\n",
              "      <td>4</td>\n",
              "      <td>0</td>\n",
              "      <td>5</td>\n",
              "    </tr>\n",
              "    <tr>\n",
              "      <th>1</th>\n",
              "      <td>49</td>\n",
              "      <td>No</td>\n",
              "      <td>Travel_Frequently</td>\n",
              "      <td>279</td>\n",
              "      <td>Research &amp; Development</td>\n",
              "      <td>8</td>\n",
              "      <td>1</td>\n",
              "      <td>Life Sciences</td>\n",
              "      <td>1</td>\n",
              "      <td>2</td>\n",
              "      <td>3</td>\n",
              "      <td>Male</td>\n",
              "      <td>61</td>\n",
              "      <td>2</td>\n",
              "      <td>2</td>\n",
              "      <td>Research Scientist</td>\n",
              "      <td>2</td>\n",
              "      <td>Married</td>\n",
              "      <td>5130</td>\n",
              "      <td>24907</td>\n",
              "      <td>1</td>\n",
              "      <td>Y</td>\n",
              "      <td>No</td>\n",
              "      <td>23</td>\n",
              "      <td>4</td>\n",
              "      <td>4</td>\n",
              "      <td>80</td>\n",
              "      <td>1</td>\n",
              "      <td>10</td>\n",
              "      <td>3</td>\n",
              "      <td>3</td>\n",
              "      <td>10</td>\n",
              "      <td>7</td>\n",
              "      <td>1</td>\n",
              "      <td>7</td>\n",
              "    </tr>\n",
              "    <tr>\n",
              "      <th>2</th>\n",
              "      <td>37</td>\n",
              "      <td>Yes</td>\n",
              "      <td>Travel_Rarely</td>\n",
              "      <td>1373</td>\n",
              "      <td>Research &amp; Development</td>\n",
              "      <td>2</td>\n",
              "      <td>2</td>\n",
              "      <td>Other</td>\n",
              "      <td>1</td>\n",
              "      <td>4</td>\n",
              "      <td>4</td>\n",
              "      <td>Male</td>\n",
              "      <td>92</td>\n",
              "      <td>2</td>\n",
              "      <td>1</td>\n",
              "      <td>Laboratory Technician</td>\n",
              "      <td>3</td>\n",
              "      <td>Single</td>\n",
              "      <td>2090</td>\n",
              "      <td>2396</td>\n",
              "      <td>6</td>\n",
              "      <td>Y</td>\n",
              "      <td>Yes</td>\n",
              "      <td>15</td>\n",
              "      <td>3</td>\n",
              "      <td>2</td>\n",
              "      <td>80</td>\n",
              "      <td>0</td>\n",
              "      <td>7</td>\n",
              "      <td>3</td>\n",
              "      <td>3</td>\n",
              "      <td>0</td>\n",
              "      <td>0</td>\n",
              "      <td>0</td>\n",
              "      <td>0</td>\n",
              "    </tr>\n",
              "    <tr>\n",
              "      <th>3</th>\n",
              "      <td>33</td>\n",
              "      <td>No</td>\n",
              "      <td>Travel_Frequently</td>\n",
              "      <td>1392</td>\n",
              "      <td>Research &amp; Development</td>\n",
              "      <td>3</td>\n",
              "      <td>4</td>\n",
              "      <td>Life Sciences</td>\n",
              "      <td>1</td>\n",
              "      <td>5</td>\n",
              "      <td>4</td>\n",
              "      <td>Female</td>\n",
              "      <td>56</td>\n",
              "      <td>3</td>\n",
              "      <td>1</td>\n",
              "      <td>Research Scientist</td>\n",
              "      <td>3</td>\n",
              "      <td>Married</td>\n",
              "      <td>2909</td>\n",
              "      <td>23159</td>\n",
              "      <td>1</td>\n",
              "      <td>Y</td>\n",
              "      <td>Yes</td>\n",
              "      <td>11</td>\n",
              "      <td>3</td>\n",
              "      <td>3</td>\n",
              "      <td>80</td>\n",
              "      <td>0</td>\n",
              "      <td>8</td>\n",
              "      <td>3</td>\n",
              "      <td>3</td>\n",
              "      <td>8</td>\n",
              "      <td>7</td>\n",
              "      <td>3</td>\n",
              "      <td>0</td>\n",
              "    </tr>\n",
              "    <tr>\n",
              "      <th>4</th>\n",
              "      <td>27</td>\n",
              "      <td>No</td>\n",
              "      <td>Travel_Rarely</td>\n",
              "      <td>591</td>\n",
              "      <td>Research &amp; Development</td>\n",
              "      <td>2</td>\n",
              "      <td>1</td>\n",
              "      <td>Medical</td>\n",
              "      <td>1</td>\n",
              "      <td>7</td>\n",
              "      <td>1</td>\n",
              "      <td>Male</td>\n",
              "      <td>40</td>\n",
              "      <td>3</td>\n",
              "      <td>1</td>\n",
              "      <td>Laboratory Technician</td>\n",
              "      <td>2</td>\n",
              "      <td>Married</td>\n",
              "      <td>3468</td>\n",
              "      <td>16632</td>\n",
              "      <td>9</td>\n",
              "      <td>Y</td>\n",
              "      <td>No</td>\n",
              "      <td>12</td>\n",
              "      <td>3</td>\n",
              "      <td>4</td>\n",
              "      <td>80</td>\n",
              "      <td>1</td>\n",
              "      <td>6</td>\n",
              "      <td>3</td>\n",
              "      <td>3</td>\n",
              "      <td>2</td>\n",
              "      <td>2</td>\n",
              "      <td>2</td>\n",
              "      <td>2</td>\n",
              "    </tr>\n",
              "  </tbody>\n",
              "</table>\n",
              "</div>"
            ],
            "text/plain": [
              "   Age Attrition  ... YearsSinceLastPromotion  YearsWithCurrManager\n",
              "0   41       Yes  ...                       0                     5\n",
              "1   49        No  ...                       1                     7\n",
              "2   37       Yes  ...                       0                     0\n",
              "3   33        No  ...                       3                     0\n",
              "4   27        No  ...                       2                     2\n",
              "\n",
              "[5 rows x 35 columns]"
            ]
          },
          "metadata": {
            "tags": []
          },
          "execution_count": 7
        }
      ]
    },
    {
      "cell_type": "code",
      "metadata": {
        "id": "GCiaLQMhG8bR",
        "colab_type": "code",
        "colab": {},
        "outputId": "1e62239c-29c9-4dd5-8122-2cff1866a619"
      },
      "source": [
        "#Get list of columns in the dataset\n",
        "df_data.columns"
      ],
      "execution_count": 0,
      "outputs": [
        {
          "output_type": "execute_result",
          "data": {
            "text/plain": [
              "Index(['Age', 'Attrition', 'BusinessTravel', 'DailyRate', 'Department',\n",
              "       'DistanceFromHome', 'Education', 'EducationField', 'EmployeeCount',\n",
              "       'EmployeeNumber', 'EnvironmentSatisfaction', 'Gender', 'HourlyRate',\n",
              "       'JobInvolvement', 'JobLevel', 'JobRole', 'JobSatisfaction',\n",
              "       'MaritalStatus', 'MonthlyIncome', 'MonthlyRate', 'NumCompaniesWorked',\n",
              "       'Over18', 'OverTime', 'PercentSalaryHike', 'PerformanceRating',\n",
              "       'RelationshipSatisfaction', 'StandardHours', 'StockOptionLevel',\n",
              "       'TotalWorkingYears', 'TrainingTimesLastYear', 'WorkLifeBalance',\n",
              "       'YearsAtCompany', 'YearsInCurrentRole', 'YearsSinceLastPromotion',\n",
              "       'YearsWithCurrManager'],\n",
              "      dtype='object')"
            ]
          },
          "metadata": {
            "tags": []
          },
          "execution_count": 16
        }
      ]
    },
    {
      "cell_type": "code",
      "metadata": {
        "id": "gLRziirVG8bT",
        "colab_type": "code",
        "colab": {}
      },
      "source": [
        "#Dropping columns (intution)\n",
        "columns = ['DailyRate', 'EducationField', 'EmployeeCount', 'EmployeeNumber', 'HourlyRate', 'MonthlyRate',\n",
        "        'Over18', 'RelationshipSatisfaction', 'StandardHours']\n",
        "df_data.drop(columns, inplace=True, axis=1)"
      ],
      "execution_count": 0,
      "outputs": []
    },
    {
      "cell_type": "markdown",
      "metadata": {
        "id": "uGoev5WsG8bV",
        "colab_type": "text"
      },
      "source": [
        "### 1.1 Get description of data"
      ]
    },
    {
      "cell_type": "markdown",
      "metadata": {
        "id": "KAdkf60vG8bW",
        "colab_type": "text"
      },
      "source": [
        "Generates descriptive statistics that summarize the central tendency, dispersion and shape of a dataset’s distribution, excluding NaN values.\n",
        "\n",
        "Reference link: https://pandas.pydata.org/pandas-docs/stable/generated/pandas.DataFrame.describe.html"
      ]
    },
    {
      "cell_type": "code",
      "metadata": {
        "id": "l2ard5EuG8bX",
        "colab_type": "code",
        "colab": {
          "base_uri": "https://localhost:8080/",
          "height": 317
        },
        "outputId": "285b29ee-5d94-4a00-80a4-e259650699ff"
      },
      "source": [
        "#This will give description only for numeric fields\n",
        "df_data.describe()"
      ],
      "execution_count": 9,
      "outputs": [
        {
          "output_type": "execute_result",
          "data": {
            "text/html": [
              "<div>\n",
              "<style scoped>\n",
              "    .dataframe tbody tr th:only-of-type {\n",
              "        vertical-align: middle;\n",
              "    }\n",
              "\n",
              "    .dataframe tbody tr th {\n",
              "        vertical-align: top;\n",
              "    }\n",
              "\n",
              "    .dataframe thead th {\n",
              "        text-align: right;\n",
              "    }\n",
              "</style>\n",
              "<table border=\"1\" class=\"dataframe\">\n",
              "  <thead>\n",
              "    <tr style=\"text-align: right;\">\n",
              "      <th></th>\n",
              "      <th>Age</th>\n",
              "      <th>DistanceFromHome</th>\n",
              "      <th>Education</th>\n",
              "      <th>EnvironmentSatisfaction</th>\n",
              "      <th>JobInvolvement</th>\n",
              "      <th>JobLevel</th>\n",
              "      <th>JobSatisfaction</th>\n",
              "      <th>MonthlyIncome</th>\n",
              "      <th>NumCompaniesWorked</th>\n",
              "      <th>PercentSalaryHike</th>\n",
              "      <th>PerformanceRating</th>\n",
              "      <th>StockOptionLevel</th>\n",
              "      <th>TotalWorkingYears</th>\n",
              "      <th>TrainingTimesLastYear</th>\n",
              "      <th>WorkLifeBalance</th>\n",
              "      <th>YearsAtCompany</th>\n",
              "      <th>YearsInCurrentRole</th>\n",
              "      <th>YearsSinceLastPromotion</th>\n",
              "      <th>YearsWithCurrManager</th>\n",
              "    </tr>\n",
              "  </thead>\n",
              "  <tbody>\n",
              "    <tr>\n",
              "      <th>count</th>\n",
              "      <td>1470.000000</td>\n",
              "      <td>1470.000000</td>\n",
              "      <td>1470.000000</td>\n",
              "      <td>1470.000000</td>\n",
              "      <td>1470.000000</td>\n",
              "      <td>1470.000000</td>\n",
              "      <td>1470.000000</td>\n",
              "      <td>1470.000000</td>\n",
              "      <td>1470.000000</td>\n",
              "      <td>1470.000000</td>\n",
              "      <td>1470.000000</td>\n",
              "      <td>1470.000000</td>\n",
              "      <td>1470.000000</td>\n",
              "      <td>1470.000000</td>\n",
              "      <td>1470.000000</td>\n",
              "      <td>1470.000000</td>\n",
              "      <td>1470.000000</td>\n",
              "      <td>1470.000000</td>\n",
              "      <td>1470.000000</td>\n",
              "    </tr>\n",
              "    <tr>\n",
              "      <th>mean</th>\n",
              "      <td>36.923810</td>\n",
              "      <td>9.192517</td>\n",
              "      <td>2.912925</td>\n",
              "      <td>2.721769</td>\n",
              "      <td>2.729932</td>\n",
              "      <td>2.063946</td>\n",
              "      <td>2.728571</td>\n",
              "      <td>6502.931293</td>\n",
              "      <td>2.693197</td>\n",
              "      <td>15.209524</td>\n",
              "      <td>3.153741</td>\n",
              "      <td>0.793878</td>\n",
              "      <td>11.279592</td>\n",
              "      <td>2.799320</td>\n",
              "      <td>2.761224</td>\n",
              "      <td>7.008163</td>\n",
              "      <td>4.229252</td>\n",
              "      <td>2.187755</td>\n",
              "      <td>4.123129</td>\n",
              "    </tr>\n",
              "    <tr>\n",
              "      <th>std</th>\n",
              "      <td>9.135373</td>\n",
              "      <td>8.106864</td>\n",
              "      <td>1.024165</td>\n",
              "      <td>1.093082</td>\n",
              "      <td>0.711561</td>\n",
              "      <td>1.106940</td>\n",
              "      <td>1.102846</td>\n",
              "      <td>4707.956783</td>\n",
              "      <td>2.498009</td>\n",
              "      <td>3.659938</td>\n",
              "      <td>0.360824</td>\n",
              "      <td>0.852077</td>\n",
              "      <td>7.780782</td>\n",
              "      <td>1.289271</td>\n",
              "      <td>0.706476</td>\n",
              "      <td>6.126525</td>\n",
              "      <td>3.623137</td>\n",
              "      <td>3.222430</td>\n",
              "      <td>3.568136</td>\n",
              "    </tr>\n",
              "    <tr>\n",
              "      <th>min</th>\n",
              "      <td>18.000000</td>\n",
              "      <td>1.000000</td>\n",
              "      <td>1.000000</td>\n",
              "      <td>1.000000</td>\n",
              "      <td>1.000000</td>\n",
              "      <td>1.000000</td>\n",
              "      <td>1.000000</td>\n",
              "      <td>1009.000000</td>\n",
              "      <td>0.000000</td>\n",
              "      <td>11.000000</td>\n",
              "      <td>3.000000</td>\n",
              "      <td>0.000000</td>\n",
              "      <td>0.000000</td>\n",
              "      <td>0.000000</td>\n",
              "      <td>1.000000</td>\n",
              "      <td>0.000000</td>\n",
              "      <td>0.000000</td>\n",
              "      <td>0.000000</td>\n",
              "      <td>0.000000</td>\n",
              "    </tr>\n",
              "    <tr>\n",
              "      <th>25%</th>\n",
              "      <td>30.000000</td>\n",
              "      <td>2.000000</td>\n",
              "      <td>2.000000</td>\n",
              "      <td>2.000000</td>\n",
              "      <td>2.000000</td>\n",
              "      <td>1.000000</td>\n",
              "      <td>2.000000</td>\n",
              "      <td>2911.000000</td>\n",
              "      <td>1.000000</td>\n",
              "      <td>12.000000</td>\n",
              "      <td>3.000000</td>\n",
              "      <td>0.000000</td>\n",
              "      <td>6.000000</td>\n",
              "      <td>2.000000</td>\n",
              "      <td>2.000000</td>\n",
              "      <td>3.000000</td>\n",
              "      <td>2.000000</td>\n",
              "      <td>0.000000</td>\n",
              "      <td>2.000000</td>\n",
              "    </tr>\n",
              "    <tr>\n",
              "      <th>50%</th>\n",
              "      <td>36.000000</td>\n",
              "      <td>7.000000</td>\n",
              "      <td>3.000000</td>\n",
              "      <td>3.000000</td>\n",
              "      <td>3.000000</td>\n",
              "      <td>2.000000</td>\n",
              "      <td>3.000000</td>\n",
              "      <td>4919.000000</td>\n",
              "      <td>2.000000</td>\n",
              "      <td>14.000000</td>\n",
              "      <td>3.000000</td>\n",
              "      <td>1.000000</td>\n",
              "      <td>10.000000</td>\n",
              "      <td>3.000000</td>\n",
              "      <td>3.000000</td>\n",
              "      <td>5.000000</td>\n",
              "      <td>3.000000</td>\n",
              "      <td>1.000000</td>\n",
              "      <td>3.000000</td>\n",
              "    </tr>\n",
              "    <tr>\n",
              "      <th>75%</th>\n",
              "      <td>43.000000</td>\n",
              "      <td>14.000000</td>\n",
              "      <td>4.000000</td>\n",
              "      <td>4.000000</td>\n",
              "      <td>3.000000</td>\n",
              "      <td>3.000000</td>\n",
              "      <td>4.000000</td>\n",
              "      <td>8379.000000</td>\n",
              "      <td>4.000000</td>\n",
              "      <td>18.000000</td>\n",
              "      <td>3.000000</td>\n",
              "      <td>1.000000</td>\n",
              "      <td>15.000000</td>\n",
              "      <td>3.000000</td>\n",
              "      <td>3.000000</td>\n",
              "      <td>9.000000</td>\n",
              "      <td>7.000000</td>\n",
              "      <td>3.000000</td>\n",
              "      <td>7.000000</td>\n",
              "    </tr>\n",
              "    <tr>\n",
              "      <th>max</th>\n",
              "      <td>60.000000</td>\n",
              "      <td>29.000000</td>\n",
              "      <td>5.000000</td>\n",
              "      <td>4.000000</td>\n",
              "      <td>4.000000</td>\n",
              "      <td>5.000000</td>\n",
              "      <td>4.000000</td>\n",
              "      <td>19999.000000</td>\n",
              "      <td>9.000000</td>\n",
              "      <td>25.000000</td>\n",
              "      <td>4.000000</td>\n",
              "      <td>3.000000</td>\n",
              "      <td>40.000000</td>\n",
              "      <td>6.000000</td>\n",
              "      <td>4.000000</td>\n",
              "      <td>40.000000</td>\n",
              "      <td>18.000000</td>\n",
              "      <td>15.000000</td>\n",
              "      <td>17.000000</td>\n",
              "    </tr>\n",
              "  </tbody>\n",
              "</table>\n",
              "</div>"
            ],
            "text/plain": [
              "               Age  ...  YearsWithCurrManager\n",
              "count  1470.000000  ...           1470.000000\n",
              "mean     36.923810  ...              4.123129\n",
              "std       9.135373  ...              3.568136\n",
              "min      18.000000  ...              0.000000\n",
              "25%      30.000000  ...              2.000000\n",
              "50%      36.000000  ...              3.000000\n",
              "75%      43.000000  ...              7.000000\n",
              "max      60.000000  ...             17.000000\n",
              "\n",
              "[8 rows x 19 columns]"
            ]
          },
          "metadata": {
            "tags": []
          },
          "execution_count": 9
        }
      ]
    },
    {
      "cell_type": "code",
      "metadata": {
        "id": "zXnp07kjG8ba",
        "colab_type": "code",
        "colab": {
          "base_uri": "https://localhost:8080/",
          "height": 427
        },
        "outputId": "8660a54f-c9bc-4083-e514-0fb603be6dfe"
      },
      "source": [
        "#To get description of all columns\n",
        "df_data.describe(include = 'all')"
      ],
      "execution_count": 10,
      "outputs": [
        {
          "output_type": "execute_result",
          "data": {
            "text/html": [
              "<div>\n",
              "<style scoped>\n",
              "    .dataframe tbody tr th:only-of-type {\n",
              "        vertical-align: middle;\n",
              "    }\n",
              "\n",
              "    .dataframe tbody tr th {\n",
              "        vertical-align: top;\n",
              "    }\n",
              "\n",
              "    .dataframe thead th {\n",
              "        text-align: right;\n",
              "    }\n",
              "</style>\n",
              "<table border=\"1\" class=\"dataframe\">\n",
              "  <thead>\n",
              "    <tr style=\"text-align: right;\">\n",
              "      <th></th>\n",
              "      <th>Age</th>\n",
              "      <th>Attrition</th>\n",
              "      <th>BusinessTravel</th>\n",
              "      <th>Department</th>\n",
              "      <th>DistanceFromHome</th>\n",
              "      <th>Education</th>\n",
              "      <th>EnvironmentSatisfaction</th>\n",
              "      <th>Gender</th>\n",
              "      <th>JobInvolvement</th>\n",
              "      <th>JobLevel</th>\n",
              "      <th>JobRole</th>\n",
              "      <th>JobSatisfaction</th>\n",
              "      <th>MaritalStatus</th>\n",
              "      <th>MonthlyIncome</th>\n",
              "      <th>NumCompaniesWorked</th>\n",
              "      <th>OverTime</th>\n",
              "      <th>PercentSalaryHike</th>\n",
              "      <th>PerformanceRating</th>\n",
              "      <th>StockOptionLevel</th>\n",
              "      <th>TotalWorkingYears</th>\n",
              "      <th>TrainingTimesLastYear</th>\n",
              "      <th>WorkLifeBalance</th>\n",
              "      <th>YearsAtCompany</th>\n",
              "      <th>YearsInCurrentRole</th>\n",
              "      <th>YearsSinceLastPromotion</th>\n",
              "      <th>YearsWithCurrManager</th>\n",
              "    </tr>\n",
              "  </thead>\n",
              "  <tbody>\n",
              "    <tr>\n",
              "      <th>count</th>\n",
              "      <td>1470.000000</td>\n",
              "      <td>1470</td>\n",
              "      <td>1470</td>\n",
              "      <td>1470</td>\n",
              "      <td>1470.000000</td>\n",
              "      <td>1470.000000</td>\n",
              "      <td>1470.000000</td>\n",
              "      <td>1470</td>\n",
              "      <td>1470.000000</td>\n",
              "      <td>1470.000000</td>\n",
              "      <td>1470</td>\n",
              "      <td>1470.000000</td>\n",
              "      <td>1470</td>\n",
              "      <td>1470.000000</td>\n",
              "      <td>1470.000000</td>\n",
              "      <td>1470</td>\n",
              "      <td>1470.000000</td>\n",
              "      <td>1470.000000</td>\n",
              "      <td>1470.000000</td>\n",
              "      <td>1470.000000</td>\n",
              "      <td>1470.000000</td>\n",
              "      <td>1470.000000</td>\n",
              "      <td>1470.000000</td>\n",
              "      <td>1470.000000</td>\n",
              "      <td>1470.000000</td>\n",
              "      <td>1470.000000</td>\n",
              "    </tr>\n",
              "    <tr>\n",
              "      <th>unique</th>\n",
              "      <td>NaN</td>\n",
              "      <td>2</td>\n",
              "      <td>3</td>\n",
              "      <td>3</td>\n",
              "      <td>NaN</td>\n",
              "      <td>NaN</td>\n",
              "      <td>NaN</td>\n",
              "      <td>2</td>\n",
              "      <td>NaN</td>\n",
              "      <td>NaN</td>\n",
              "      <td>9</td>\n",
              "      <td>NaN</td>\n",
              "      <td>3</td>\n",
              "      <td>NaN</td>\n",
              "      <td>NaN</td>\n",
              "      <td>2</td>\n",
              "      <td>NaN</td>\n",
              "      <td>NaN</td>\n",
              "      <td>NaN</td>\n",
              "      <td>NaN</td>\n",
              "      <td>NaN</td>\n",
              "      <td>NaN</td>\n",
              "      <td>NaN</td>\n",
              "      <td>NaN</td>\n",
              "      <td>NaN</td>\n",
              "      <td>NaN</td>\n",
              "    </tr>\n",
              "    <tr>\n",
              "      <th>top</th>\n",
              "      <td>NaN</td>\n",
              "      <td>No</td>\n",
              "      <td>Travel_Rarely</td>\n",
              "      <td>Research &amp; Development</td>\n",
              "      <td>NaN</td>\n",
              "      <td>NaN</td>\n",
              "      <td>NaN</td>\n",
              "      <td>Male</td>\n",
              "      <td>NaN</td>\n",
              "      <td>NaN</td>\n",
              "      <td>Sales Executive</td>\n",
              "      <td>NaN</td>\n",
              "      <td>Married</td>\n",
              "      <td>NaN</td>\n",
              "      <td>NaN</td>\n",
              "      <td>No</td>\n",
              "      <td>NaN</td>\n",
              "      <td>NaN</td>\n",
              "      <td>NaN</td>\n",
              "      <td>NaN</td>\n",
              "      <td>NaN</td>\n",
              "      <td>NaN</td>\n",
              "      <td>NaN</td>\n",
              "      <td>NaN</td>\n",
              "      <td>NaN</td>\n",
              "      <td>NaN</td>\n",
              "    </tr>\n",
              "    <tr>\n",
              "      <th>freq</th>\n",
              "      <td>NaN</td>\n",
              "      <td>1233</td>\n",
              "      <td>1043</td>\n",
              "      <td>961</td>\n",
              "      <td>NaN</td>\n",
              "      <td>NaN</td>\n",
              "      <td>NaN</td>\n",
              "      <td>882</td>\n",
              "      <td>NaN</td>\n",
              "      <td>NaN</td>\n",
              "      <td>326</td>\n",
              "      <td>NaN</td>\n",
              "      <td>673</td>\n",
              "      <td>NaN</td>\n",
              "      <td>NaN</td>\n",
              "      <td>1054</td>\n",
              "      <td>NaN</td>\n",
              "      <td>NaN</td>\n",
              "      <td>NaN</td>\n",
              "      <td>NaN</td>\n",
              "      <td>NaN</td>\n",
              "      <td>NaN</td>\n",
              "      <td>NaN</td>\n",
              "      <td>NaN</td>\n",
              "      <td>NaN</td>\n",
              "      <td>NaN</td>\n",
              "    </tr>\n",
              "    <tr>\n",
              "      <th>mean</th>\n",
              "      <td>36.923810</td>\n",
              "      <td>NaN</td>\n",
              "      <td>NaN</td>\n",
              "      <td>NaN</td>\n",
              "      <td>9.192517</td>\n",
              "      <td>2.912925</td>\n",
              "      <td>2.721769</td>\n",
              "      <td>NaN</td>\n",
              "      <td>2.729932</td>\n",
              "      <td>2.063946</td>\n",
              "      <td>NaN</td>\n",
              "      <td>2.728571</td>\n",
              "      <td>NaN</td>\n",
              "      <td>6502.931293</td>\n",
              "      <td>2.693197</td>\n",
              "      <td>NaN</td>\n",
              "      <td>15.209524</td>\n",
              "      <td>3.153741</td>\n",
              "      <td>0.793878</td>\n",
              "      <td>11.279592</td>\n",
              "      <td>2.799320</td>\n",
              "      <td>2.761224</td>\n",
              "      <td>7.008163</td>\n",
              "      <td>4.229252</td>\n",
              "      <td>2.187755</td>\n",
              "      <td>4.123129</td>\n",
              "    </tr>\n",
              "    <tr>\n",
              "      <th>std</th>\n",
              "      <td>9.135373</td>\n",
              "      <td>NaN</td>\n",
              "      <td>NaN</td>\n",
              "      <td>NaN</td>\n",
              "      <td>8.106864</td>\n",
              "      <td>1.024165</td>\n",
              "      <td>1.093082</td>\n",
              "      <td>NaN</td>\n",
              "      <td>0.711561</td>\n",
              "      <td>1.106940</td>\n",
              "      <td>NaN</td>\n",
              "      <td>1.102846</td>\n",
              "      <td>NaN</td>\n",
              "      <td>4707.956783</td>\n",
              "      <td>2.498009</td>\n",
              "      <td>NaN</td>\n",
              "      <td>3.659938</td>\n",
              "      <td>0.360824</td>\n",
              "      <td>0.852077</td>\n",
              "      <td>7.780782</td>\n",
              "      <td>1.289271</td>\n",
              "      <td>0.706476</td>\n",
              "      <td>6.126525</td>\n",
              "      <td>3.623137</td>\n",
              "      <td>3.222430</td>\n",
              "      <td>3.568136</td>\n",
              "    </tr>\n",
              "    <tr>\n",
              "      <th>min</th>\n",
              "      <td>18.000000</td>\n",
              "      <td>NaN</td>\n",
              "      <td>NaN</td>\n",
              "      <td>NaN</td>\n",
              "      <td>1.000000</td>\n",
              "      <td>1.000000</td>\n",
              "      <td>1.000000</td>\n",
              "      <td>NaN</td>\n",
              "      <td>1.000000</td>\n",
              "      <td>1.000000</td>\n",
              "      <td>NaN</td>\n",
              "      <td>1.000000</td>\n",
              "      <td>NaN</td>\n",
              "      <td>1009.000000</td>\n",
              "      <td>0.000000</td>\n",
              "      <td>NaN</td>\n",
              "      <td>11.000000</td>\n",
              "      <td>3.000000</td>\n",
              "      <td>0.000000</td>\n",
              "      <td>0.000000</td>\n",
              "      <td>0.000000</td>\n",
              "      <td>1.000000</td>\n",
              "      <td>0.000000</td>\n",
              "      <td>0.000000</td>\n",
              "      <td>0.000000</td>\n",
              "      <td>0.000000</td>\n",
              "    </tr>\n",
              "    <tr>\n",
              "      <th>25%</th>\n",
              "      <td>30.000000</td>\n",
              "      <td>NaN</td>\n",
              "      <td>NaN</td>\n",
              "      <td>NaN</td>\n",
              "      <td>2.000000</td>\n",
              "      <td>2.000000</td>\n",
              "      <td>2.000000</td>\n",
              "      <td>NaN</td>\n",
              "      <td>2.000000</td>\n",
              "      <td>1.000000</td>\n",
              "      <td>NaN</td>\n",
              "      <td>2.000000</td>\n",
              "      <td>NaN</td>\n",
              "      <td>2911.000000</td>\n",
              "      <td>1.000000</td>\n",
              "      <td>NaN</td>\n",
              "      <td>12.000000</td>\n",
              "      <td>3.000000</td>\n",
              "      <td>0.000000</td>\n",
              "      <td>6.000000</td>\n",
              "      <td>2.000000</td>\n",
              "      <td>2.000000</td>\n",
              "      <td>3.000000</td>\n",
              "      <td>2.000000</td>\n",
              "      <td>0.000000</td>\n",
              "      <td>2.000000</td>\n",
              "    </tr>\n",
              "    <tr>\n",
              "      <th>50%</th>\n",
              "      <td>36.000000</td>\n",
              "      <td>NaN</td>\n",
              "      <td>NaN</td>\n",
              "      <td>NaN</td>\n",
              "      <td>7.000000</td>\n",
              "      <td>3.000000</td>\n",
              "      <td>3.000000</td>\n",
              "      <td>NaN</td>\n",
              "      <td>3.000000</td>\n",
              "      <td>2.000000</td>\n",
              "      <td>NaN</td>\n",
              "      <td>3.000000</td>\n",
              "      <td>NaN</td>\n",
              "      <td>4919.000000</td>\n",
              "      <td>2.000000</td>\n",
              "      <td>NaN</td>\n",
              "      <td>14.000000</td>\n",
              "      <td>3.000000</td>\n",
              "      <td>1.000000</td>\n",
              "      <td>10.000000</td>\n",
              "      <td>3.000000</td>\n",
              "      <td>3.000000</td>\n",
              "      <td>5.000000</td>\n",
              "      <td>3.000000</td>\n",
              "      <td>1.000000</td>\n",
              "      <td>3.000000</td>\n",
              "    </tr>\n",
              "    <tr>\n",
              "      <th>75%</th>\n",
              "      <td>43.000000</td>\n",
              "      <td>NaN</td>\n",
              "      <td>NaN</td>\n",
              "      <td>NaN</td>\n",
              "      <td>14.000000</td>\n",
              "      <td>4.000000</td>\n",
              "      <td>4.000000</td>\n",
              "      <td>NaN</td>\n",
              "      <td>3.000000</td>\n",
              "      <td>3.000000</td>\n",
              "      <td>NaN</td>\n",
              "      <td>4.000000</td>\n",
              "      <td>NaN</td>\n",
              "      <td>8379.000000</td>\n",
              "      <td>4.000000</td>\n",
              "      <td>NaN</td>\n",
              "      <td>18.000000</td>\n",
              "      <td>3.000000</td>\n",
              "      <td>1.000000</td>\n",
              "      <td>15.000000</td>\n",
              "      <td>3.000000</td>\n",
              "      <td>3.000000</td>\n",
              "      <td>9.000000</td>\n",
              "      <td>7.000000</td>\n",
              "      <td>3.000000</td>\n",
              "      <td>7.000000</td>\n",
              "    </tr>\n",
              "    <tr>\n",
              "      <th>max</th>\n",
              "      <td>60.000000</td>\n",
              "      <td>NaN</td>\n",
              "      <td>NaN</td>\n",
              "      <td>NaN</td>\n",
              "      <td>29.000000</td>\n",
              "      <td>5.000000</td>\n",
              "      <td>4.000000</td>\n",
              "      <td>NaN</td>\n",
              "      <td>4.000000</td>\n",
              "      <td>5.000000</td>\n",
              "      <td>NaN</td>\n",
              "      <td>4.000000</td>\n",
              "      <td>NaN</td>\n",
              "      <td>19999.000000</td>\n",
              "      <td>9.000000</td>\n",
              "      <td>NaN</td>\n",
              "      <td>25.000000</td>\n",
              "      <td>4.000000</td>\n",
              "      <td>3.000000</td>\n",
              "      <td>40.000000</td>\n",
              "      <td>6.000000</td>\n",
              "      <td>4.000000</td>\n",
              "      <td>40.000000</td>\n",
              "      <td>18.000000</td>\n",
              "      <td>15.000000</td>\n",
              "      <td>17.000000</td>\n",
              "    </tr>\n",
              "  </tbody>\n",
              "</table>\n",
              "</div>"
            ],
            "text/plain": [
              "                Age Attrition  ... YearsSinceLastPromotion YearsWithCurrManager\n",
              "count   1470.000000      1470  ...             1470.000000          1470.000000\n",
              "unique          NaN         2  ...                     NaN                  NaN\n",
              "top             NaN        No  ...                     NaN                  NaN\n",
              "freq            NaN      1233  ...                     NaN                  NaN\n",
              "mean      36.923810       NaN  ...                2.187755             4.123129\n",
              "std        9.135373       NaN  ...                3.222430             3.568136\n",
              "min       18.000000       NaN  ...                0.000000             0.000000\n",
              "25%       30.000000       NaN  ...                0.000000             2.000000\n",
              "50%       36.000000       NaN  ...                1.000000             3.000000\n",
              "75%       43.000000       NaN  ...                3.000000             7.000000\n",
              "max       60.000000       NaN  ...               15.000000            17.000000\n",
              "\n",
              "[11 rows x 26 columns]"
            ]
          },
          "metadata": {
            "tags": []
          },
          "execution_count": 10
        }
      ]
    },
    {
      "cell_type": "markdown",
      "metadata": {
        "id": "krTo_ioxG8bc",
        "colab_type": "text"
      },
      "source": [
        "## 2. Data Cleaning"
      ]
    },
    {
      "cell_type": "markdown",
      "metadata": {
        "id": "GoK4iFlgG8bd",
        "colab_type": "text"
      },
      "source": [
        "This phase is the most time consuming yet the most importat one. Here, we filter and extract only the information that is needed for problem solving. Quality of the model is highly dependant on the quality of the data that is given as an input. \n",
        "* Understand meaning of every feature and identify errors.\n",
        "* Look for any missing values and find a way to fill the missing values.\n",
        "* Remove duplicate or corrupted records.\n",
        "* Scaling and normalization of data.\n",
        "* Character encoding (string to numerical representation).\n",
        "* Handle inconsistent entry.\n",
        "* Use tools like pandas(python), dplyr(R), numpy."
      ]
    },
    {
      "cell_type": "markdown",
      "metadata": {
        "id": "-0D_OZGoG8bd",
        "colab_type": "text"
      },
      "source": [
        "### 2.1 Handling missing values"
      ]
    },
    {
      "cell_type": "code",
      "metadata": {
        "id": "GmAoJrWFG8be",
        "colab_type": "code",
        "colab": {},
        "outputId": "7defe9f7-33b7-4d05-f999-7192e3b793aa"
      },
      "source": [
        "#Find number of missing values in every feature\n",
        "df_data.isnull().sum()"
      ],
      "execution_count": 0,
      "outputs": [
        {
          "output_type": "execute_result",
          "data": {
            "text/plain": [
              "Age                        0\n",
              "Attrition                  0\n",
              "BusinessTravel             0\n",
              "Department                 0\n",
              "DistanceFromHome           0\n",
              "Education                  0\n",
              "EnvironmentSatisfaction    0\n",
              "Gender                     0\n",
              "JobInvolvement             0\n",
              "JobLevel                   0\n",
              "JobRole                    0\n",
              "JobSatisfaction            0\n",
              "MaritalStatus              0\n",
              "MonthlyIncome              0\n",
              "NumCompaniesWorked         0\n",
              "OverTime                   0\n",
              "PercentSalaryHike          0\n",
              "PerformanceRating          0\n",
              "StockOptionLevel           0\n",
              "TotalWorkingYears          0\n",
              "TrainingTimesLastYear      0\n",
              "WorkLifeBalance            0\n",
              "YearsAtCompany             0\n",
              "YearsInCurrentRole         0\n",
              "YearsSinceLastPromotion    0\n",
              "YearsWithCurrManager       0\n",
              "dtype: int64"
            ]
          },
          "metadata": {
            "tags": []
          },
          "execution_count": 20
        }
      ]
    },
    {
      "cell_type": "markdown",
      "metadata": {
        "id": "rDFsYebQG8bg",
        "colab_type": "text"
      },
      "source": [
        "Looks like the best dataset!!! No null values :-)\n",
        "\n",
        "#### But what if we have null values ???? Let's see what we can do in that case.\n",
        "\n",
        "* Find why that data is missing. Human error or missed during extraction\n",
        "* Drop missing values. \n",
        "* Some ways for filling missing values: \n",
        "  - Zero \n",
        "  - Mean ( works with normal distribution )\n",
        "  - Random values from same distribution ( works well with equal distribution ) \n",
        "  - Value after missing value (make sense if data set has some logical order)"
      ]
    },
    {
      "cell_type": "markdown",
      "metadata": {
        "id": "-Q8_VwgIG8bh",
        "colab_type": "text"
      },
      "source": [
        "### 2.2 Encode categorical features(in string) as most of the tools works with numbers"
      ]
    },
    {
      "cell_type": "code",
      "metadata": {
        "id": "aWKGHXEeG8bh",
        "colab_type": "code",
        "colab": {}
      },
      "source": [
        "#Columns with string values\n",
        "categorical_column = ['Attrition', 'BusinessTravel', 'Department',\n",
        "                      'Gender', 'JobRole', 'MaritalStatus', 'OverTime']"
      ],
      "execution_count": 0,
      "outputs": []
    },
    {
      "cell_type": "code",
      "metadata": {
        "id": "b1Zjm8KeG8bk",
        "colab_type": "code",
        "colab": {
          "base_uri": "https://localhost:8080/",
          "height": 275
        },
        "outputId": "9e0d6473-cbe3-49ab-e5ce-d9723f850ee3"
      },
      "source": [
        "#Deep copy the original data\n",
        "data_encoded = df_data.copy(deep=True)\n",
        "#Use Scikit-learn label encoding to encode character data\n",
        "lab_enc = preprocessing.LabelEncoder()\n",
        "for col in categorical_column:\n",
        "        data_encoded[col] = lab_enc.fit_transform(df_data[col])\n",
        "        le_name_mapping = dict(zip(lab_enc.classes_, lab_enc.transform(lab_enc.classes_)))\n",
        "        print('Feature', col)\n",
        "        print('mapping', le_name_mapping)"
      ],
      "execution_count": 12,
      "outputs": [
        {
          "output_type": "stream",
          "text": [
            "Feature Attrition\n",
            "mapping {'No': 0, 'Yes': 1}\n",
            "Feature BusinessTravel\n",
            "mapping {'Non-Travel': 0, 'Travel_Frequently': 1, 'Travel_Rarely': 2}\n",
            "Feature Department\n",
            "mapping {'Human Resources': 0, 'Research & Development': 1, 'Sales': 2}\n",
            "Feature Gender\n",
            "mapping {'Female': 0, 'Male': 1}\n",
            "Feature JobRole\n",
            "mapping {'Healthcare Representative': 0, 'Human Resources': 1, 'Laboratory Technician': 2, 'Manager': 3, 'Manufacturing Director': 4, 'Research Director': 5, 'Research Scientist': 6, 'Sales Executive': 7, 'Sales Representative': 8}\n",
            "Feature MaritalStatus\n",
            "mapping {'Divorced': 0, 'Married': 1, 'Single': 2}\n",
            "Feature OverTime\n",
            "mapping {'No': 0, 'Yes': 1}\n"
          ],
          "name": "stdout"
        }
      ]
    },
    {
      "cell_type": "code",
      "metadata": {
        "id": "txgR40-bG8bm",
        "colab_type": "code",
        "colab": {
          "base_uri": "https://localhost:8080/",
          "height": 224
        },
        "outputId": "05f55b46-5f3b-4704-9759-6e84c32465ed"
      },
      "source": [
        "data_encoded.head()"
      ],
      "execution_count": 13,
      "outputs": [
        {
          "output_type": "execute_result",
          "data": {
            "text/html": [
              "<div>\n",
              "<style scoped>\n",
              "    .dataframe tbody tr th:only-of-type {\n",
              "        vertical-align: middle;\n",
              "    }\n",
              "\n",
              "    .dataframe tbody tr th {\n",
              "        vertical-align: top;\n",
              "    }\n",
              "\n",
              "    .dataframe thead th {\n",
              "        text-align: right;\n",
              "    }\n",
              "</style>\n",
              "<table border=\"1\" class=\"dataframe\">\n",
              "  <thead>\n",
              "    <tr style=\"text-align: right;\">\n",
              "      <th></th>\n",
              "      <th>Age</th>\n",
              "      <th>Attrition</th>\n",
              "      <th>BusinessTravel</th>\n",
              "      <th>Department</th>\n",
              "      <th>DistanceFromHome</th>\n",
              "      <th>Education</th>\n",
              "      <th>EnvironmentSatisfaction</th>\n",
              "      <th>Gender</th>\n",
              "      <th>JobInvolvement</th>\n",
              "      <th>JobLevel</th>\n",
              "      <th>JobRole</th>\n",
              "      <th>JobSatisfaction</th>\n",
              "      <th>MaritalStatus</th>\n",
              "      <th>MonthlyIncome</th>\n",
              "      <th>NumCompaniesWorked</th>\n",
              "      <th>OverTime</th>\n",
              "      <th>PercentSalaryHike</th>\n",
              "      <th>PerformanceRating</th>\n",
              "      <th>StockOptionLevel</th>\n",
              "      <th>TotalWorkingYears</th>\n",
              "      <th>TrainingTimesLastYear</th>\n",
              "      <th>WorkLifeBalance</th>\n",
              "      <th>YearsAtCompany</th>\n",
              "      <th>YearsInCurrentRole</th>\n",
              "      <th>YearsSinceLastPromotion</th>\n",
              "      <th>YearsWithCurrManager</th>\n",
              "    </tr>\n",
              "  </thead>\n",
              "  <tbody>\n",
              "    <tr>\n",
              "      <th>0</th>\n",
              "      <td>41</td>\n",
              "      <td>1</td>\n",
              "      <td>2</td>\n",
              "      <td>2</td>\n",
              "      <td>1</td>\n",
              "      <td>2</td>\n",
              "      <td>2</td>\n",
              "      <td>0</td>\n",
              "      <td>3</td>\n",
              "      <td>2</td>\n",
              "      <td>7</td>\n",
              "      <td>4</td>\n",
              "      <td>2</td>\n",
              "      <td>5993</td>\n",
              "      <td>8</td>\n",
              "      <td>1</td>\n",
              "      <td>11</td>\n",
              "      <td>3</td>\n",
              "      <td>0</td>\n",
              "      <td>8</td>\n",
              "      <td>0</td>\n",
              "      <td>1</td>\n",
              "      <td>6</td>\n",
              "      <td>4</td>\n",
              "      <td>0</td>\n",
              "      <td>5</td>\n",
              "    </tr>\n",
              "    <tr>\n",
              "      <th>1</th>\n",
              "      <td>49</td>\n",
              "      <td>0</td>\n",
              "      <td>1</td>\n",
              "      <td>1</td>\n",
              "      <td>8</td>\n",
              "      <td>1</td>\n",
              "      <td>3</td>\n",
              "      <td>1</td>\n",
              "      <td>2</td>\n",
              "      <td>2</td>\n",
              "      <td>6</td>\n",
              "      <td>2</td>\n",
              "      <td>1</td>\n",
              "      <td>5130</td>\n",
              "      <td>1</td>\n",
              "      <td>0</td>\n",
              "      <td>23</td>\n",
              "      <td>4</td>\n",
              "      <td>1</td>\n",
              "      <td>10</td>\n",
              "      <td>3</td>\n",
              "      <td>3</td>\n",
              "      <td>10</td>\n",
              "      <td>7</td>\n",
              "      <td>1</td>\n",
              "      <td>7</td>\n",
              "    </tr>\n",
              "    <tr>\n",
              "      <th>2</th>\n",
              "      <td>37</td>\n",
              "      <td>1</td>\n",
              "      <td>2</td>\n",
              "      <td>1</td>\n",
              "      <td>2</td>\n",
              "      <td>2</td>\n",
              "      <td>4</td>\n",
              "      <td>1</td>\n",
              "      <td>2</td>\n",
              "      <td>1</td>\n",
              "      <td>2</td>\n",
              "      <td>3</td>\n",
              "      <td>2</td>\n",
              "      <td>2090</td>\n",
              "      <td>6</td>\n",
              "      <td>1</td>\n",
              "      <td>15</td>\n",
              "      <td>3</td>\n",
              "      <td>0</td>\n",
              "      <td>7</td>\n",
              "      <td>3</td>\n",
              "      <td>3</td>\n",
              "      <td>0</td>\n",
              "      <td>0</td>\n",
              "      <td>0</td>\n",
              "      <td>0</td>\n",
              "    </tr>\n",
              "    <tr>\n",
              "      <th>3</th>\n",
              "      <td>33</td>\n",
              "      <td>0</td>\n",
              "      <td>1</td>\n",
              "      <td>1</td>\n",
              "      <td>3</td>\n",
              "      <td>4</td>\n",
              "      <td>4</td>\n",
              "      <td>0</td>\n",
              "      <td>3</td>\n",
              "      <td>1</td>\n",
              "      <td>6</td>\n",
              "      <td>3</td>\n",
              "      <td>1</td>\n",
              "      <td>2909</td>\n",
              "      <td>1</td>\n",
              "      <td>1</td>\n",
              "      <td>11</td>\n",
              "      <td>3</td>\n",
              "      <td>0</td>\n",
              "      <td>8</td>\n",
              "      <td>3</td>\n",
              "      <td>3</td>\n",
              "      <td>8</td>\n",
              "      <td>7</td>\n",
              "      <td>3</td>\n",
              "      <td>0</td>\n",
              "    </tr>\n",
              "    <tr>\n",
              "      <th>4</th>\n",
              "      <td>27</td>\n",
              "      <td>0</td>\n",
              "      <td>2</td>\n",
              "      <td>1</td>\n",
              "      <td>2</td>\n",
              "      <td>1</td>\n",
              "      <td>1</td>\n",
              "      <td>1</td>\n",
              "      <td>3</td>\n",
              "      <td>1</td>\n",
              "      <td>2</td>\n",
              "      <td>2</td>\n",
              "      <td>1</td>\n",
              "      <td>3468</td>\n",
              "      <td>9</td>\n",
              "      <td>0</td>\n",
              "      <td>12</td>\n",
              "      <td>3</td>\n",
              "      <td>1</td>\n",
              "      <td>6</td>\n",
              "      <td>3</td>\n",
              "      <td>3</td>\n",
              "      <td>2</td>\n",
              "      <td>2</td>\n",
              "      <td>2</td>\n",
              "      <td>2</td>\n",
              "    </tr>\n",
              "  </tbody>\n",
              "</table>\n",
              "</div>"
            ],
            "text/plain": [
              "   Age  Attrition  ...  YearsSinceLastPromotion  YearsWithCurrManager\n",
              "0   41          1  ...                        0                     5\n",
              "1   49          0  ...                        1                     7\n",
              "2   37          1  ...                        0                     0\n",
              "3   33          0  ...                        3                     0\n",
              "4   27          0  ...                        2                     2\n",
              "\n",
              "[5 rows x 26 columns]"
            ]
          },
          "metadata": {
            "tags": []
          },
          "execution_count": 13
        }
      ]
    },
    {
      "cell_type": "markdown",
      "metadata": {
        "id": "sqimEL7wG8bo",
        "colab_type": "text"
      },
      "source": [
        "## 3. Data Exploration"
      ]
    },
    {
      "cell_type": "markdown",
      "metadata": {
        "id": "jeXbewP4G8bp",
        "colab_type": "text"
      },
      "source": [
        "* Find patterns in data through data visualization. Reveal hidden secrets of the data through graphs, analysis and charts.\n",
        "   -  Univariate analysis \n",
        "      * Continous variables : Histograms, boxplots. This gives us understanding about the central tendency and spread\n",
        "      * Categorical variable : Bar chart showing frequency in each category \n",
        "   -  Bivariate analysis\n",
        "      * Continous & Continous : Scatter plots to know how continous variables interact with each other\n",
        "      * Categorical & categorical : Stacked column chart to show how the frequencies are spread between two  \n",
        "        categorical variables\n",
        "      * Categorical & Continous : Boxplots, Swamplots or even bar charts\n",
        "* Detect outliers\n",
        "* Feature engineering "
      ]
    },
    {
      "cell_type": "markdown",
      "metadata": {
        "id": "JcCg5vYdG8bq",
        "colab_type": "text"
      },
      "source": [
        "### 3.1 Get data distribution between output classes"
      ]
    },
    {
      "cell_type": "code",
      "metadata": {
        "id": "lOxZFfBiG8bq",
        "colab_type": "code",
        "colab": {
          "base_uri": "https://localhost:8080/",
          "height": 68
        },
        "outputId": "1b2e0086-5787-4f59-ef84-ef2933ca6dba"
      },
      "source": [
        "data_encoded['Attrition'].value_counts()"
      ],
      "execution_count": 14,
      "outputs": [
        {
          "output_type": "execute_result",
          "data": {
            "text/plain": [
              "0    1233\n",
              "1     237\n",
              "Name: Attrition, dtype: int64"
            ]
          },
          "metadata": {
            "tags": []
          },
          "execution_count": 14
        }
      ]
    },
    {
      "cell_type": "markdown",
      "metadata": {
        "id": "mkCkLvXcG8bt",
        "colab_type": "text"
      },
      "source": [
        "From the above result, we can find that about 82% of people stick to the company while rest of them quit :-(\n",
        "\n",
        "\n",
        "**** Data is unbalanced ****"
      ]
    },
    {
      "cell_type": "markdown",
      "metadata": {
        "id": "yu1SkUhWG8bu",
        "colab_type": "text"
      },
      "source": [
        "### 3.2 Finding correlation between variables"
      ]
    },
    {
      "cell_type": "code",
      "metadata": {
        "id": "em5ehitzG8bv",
        "colab_type": "code",
        "colab": {}
      },
      "source": [
        "data_correlation = data_encoded.corr()"
      ],
      "execution_count": 0,
      "outputs": []
    },
    {
      "cell_type": "code",
      "metadata": {
        "id": "GUl7VILLG8bx",
        "colab_type": "code",
        "colab": {
          "base_uri": "https://localhost:8080/",
          "height": 729
        },
        "outputId": "0937c2d5-c43e-4f25-bc6e-aed484748474"
      },
      "source": [
        "plt.rcParams[\"figure.figsize\"] = [15,10]\n",
        "sns.heatmap(data_correlation,xticklabels=data_correlation.columns,yticklabels=data_correlation.columns)"
      ],
      "execution_count": 16,
      "outputs": [
        {
          "output_type": "execute_result",
          "data": {
            "text/plain": [
              "<matplotlib.axes._subplots.AxesSubplot at 0x7fd0f68ebfd0>"
            ]
          },
          "metadata": {
            "tags": []
          },
          "execution_count": 16
        },
        {
          "output_type": "display_data",
          "data": {
            "image/png": "[encoded data removed]",
            "text/plain": [
              "<Figure size 1080x720 with 2 Axes>"
            ]
          },
          "metadata": {
            "tags": []
          }
        }
      ]
    },
    {
      "cell_type": "markdown",
      "metadata": {
        "id": "UuolYSOMG8bz",
        "colab_type": "text"
      },
      "source": [
        "#### Analysis of correlation results (sample analysis)\n",
        "\n",
        "- Monthly income is highly correlated with Job level.\n",
        "- Job level is highly correlated with total working hours.\n",
        "- Monthly income is highly correlated with total working hours.\n",
        "- Age is also positively correlated with the Total working hours.\n",
        "- Marital status and stock option level are negatively correlated"
      ]
    },
    {
      "cell_type": "code",
      "metadata": {
        "id": "HfCWdewUG8bz",
        "colab_type": "code",
        "colab": {
          "base_uri": "https://localhost:8080/",
          "height": 653
        },
        "outputId": "c037abeb-d93d-4482-da39-d10dfbb79e82"
      },
      "source": [
        "#Viewing the analysis obtained above \n",
        "data_corr_filtered = df_data[['MonthlyIncome', 'TotalWorkingYears', 'Age', 'MaritalStatus', 'StockOptionLevel',\n",
        "                      'JobLevel']]\n",
        "correlation = data_corr_filtered.corr()\n",
        "plt.rcParams[\"figure.figsize\"] = [20,10]\n",
        "sns.heatmap(correlation,xticklabels=data_corr_filtered.columns,yticklabels=data_corr_filtered.columns)"
      ],
      "execution_count": 17,
      "outputs": [
        {
          "output_type": "execute_result",
          "data": {
            "text/plain": [
              "<matplotlib.axes._subplots.AxesSubplot at 0x7fd0f686c0b8>"
            ]
          },
          "metadata": {
            "tags": []
          },
          "execution_count": 17
        },
        {
          "output_type": "display_data",
          "data": {
            "image/png": "[encoded data removed]",
            "text/plain": [
              "<Figure size 1440x720 with 2 Axes>"
            ]
          },
          "metadata": {
            "tags": []
          }
        }
      ]
    },
    {
      "cell_type": "markdown",
      "metadata": {
        "id": "QB2JTYCtG8b1",
        "colab_type": "text"
      },
      "source": [
        "### 3.3 Understanding relationship between features and finding patterns in data through visualization\n",
        "\n",
        "Popular data visualization libraries in python are:\n",
        "     1. Matplotlib\n",
        "     2. Seaborn\n",
        "     3. ggplot\n",
        "     4. Bokeh\n",
        "     5. pygal\n",
        "     6. Plotly\n",
        "     7. geoplotlib\n",
        "     8. Gleam\n",
        "     9. missingno\n",
        "     10. Leather"
      ]
    },
    {
      "cell_type": "markdown",
      "metadata": {
        "id": "33OrO93dG8b3",
        "colab_type": "text"
      },
      "source": [
        "### 3.3.1 Age Analysis\n",
        "Finding relationship between age and attrition. "
      ]
    },
    {
      "cell_type": "code",
      "metadata": {
        "id": "7e5VeuPtG8b3",
        "colab_type": "code",
        "colab": {
          "base_uri": "https://localhost:8080/",
          "height": 479
        },
        "outputId": "a8334034-8e99-43ac-e5f1-58f9903e39c0"
      },
      "source": [
        "#Plot to see distribution of age overall\n",
        "plt.rcParams[\"figure.figsize\"] = [7,7]\n",
        "plt.hist(data_encoded['Age'], bins=np.arange(0,80,10), alpha=0.8, rwidth=0.9, color='blue')"
      ],
      "execution_count": 18,
      "outputs": [
        {
          "output_type": "execute_result",
          "data": {
            "text/plain": [
              "(array([  0.,  17., 309., 622., 349., 168.,   5.]),\n",
              " array([ 0, 10, 20, 30, 40, 50, 60, 70]),\n",
              " <a list of 7 Patch objects>)"
            ]
          },
          "metadata": {
            "tags": []
          },
          "execution_count": 18
        },
        {
          "output_type": "display_data",
          "data": {
            "image/png": "[encoded data removed]",
            "text/plain": [
              "<Figure size 504x504 with 1 Axes>"
            ]
          },
          "metadata": {
            "tags": []
          }
        }
      ]
    },
    {
      "cell_type": "markdown",
      "metadata": {
        "id": "_ykpL9-TG8b5",
        "colab_type": "text"
      },
      "source": [
        "#### Finding based on above plot\n",
        "This plot tells that there are more employees in the range of 30 to 40. Approximately 45% of employees fall in this range."
      ]
    },
    {
      "cell_type": "code",
      "metadata": {
        "id": "sp_To9mCG8b6",
        "colab_type": "code",
        "colab": {}
      },
      "source": [
        "#We are going to bin age (multiples of 10) to see which age group are likely to leave the company.\n",
        "#Before that, let us take only employee who are likely to quit.\n",
        "positive_attrition_df = data_encoded.loc[data_encoded['Attrition'] == 1]\n",
        "negative_attrition_df = data_encoded.loc[data_encoded['Attrition'] == 0]"
      ],
      "execution_count": 0,
      "outputs": []
    },
    {
      "cell_type": "code",
      "metadata": {
        "id": "_qkkIrgDG8b9",
        "colab_type": "code",
        "colab": {
          "base_uri": "https://localhost:8080/",
          "height": 479
        },
        "outputId": "38faa093-10d5-40ff-bd70-2a8afc96deb4"
      },
      "source": [
        "plt.hist(positive_attrition_df['Age'], bins=np.arange(0,80,10), alpha=0.8, rwidth=0.9, color='red')"
      ],
      "execution_count": 21,
      "outputs": [
        {
          "output_type": "execute_result",
          "data": {
            "text/plain": [
              "(array([ 0., 10., 81., 89., 34., 23.,  0.]),\n",
              " array([ 0, 10, 20, 30, 40, 50, 60, 70]),\n",
              " <a list of 7 Patch objects>)"
            ]
          },
          "metadata": {
            "tags": []
          },
          "execution_count": 21
        },
        {
          "output_type": "display_data",
          "data": {
            "image/png": "[encoded data removed]",
            "text/plain": [
              "<Figure size 504x504 with 1 Axes>"
            ]
          },
          "metadata": {
            "tags": []
          }
        }
      ]
    },
    {
      "cell_type": "markdown",
      "metadata": {
        "id": "Z4NWbNSuG8b_",
        "colab_type": "text"
      },
      "source": [
        "#### Findings based on above plot\n",
        "- Employees whose age is in the range of 30 - 40 are more likely to quit.\n",
        "- Employees in the range of 20 to 30 are also equally imposing the threat to employers."
      ]
    },
    {
      "cell_type": "markdown",
      "metadata": {
        "id": "73ryuB4HG8cA",
        "colab_type": "text"
      },
      "source": [
        "### 3.3.2 Business Travel vs Attrition\n",
        "There are 3 categories in this:\n",
        "    1. No travel (0).\n",
        "    2. Travel Frequently (1).\n",
        "    3. Travel Rarely (2).\n",
        "Attrition: No = 0 and Yes = 1"
      ]
    },
    {
      "cell_type": "code",
      "metadata": {
        "id": "RCEfIGu2G8cA",
        "colab_type": "code",
        "colab": {
          "base_uri": "https://localhost:8080/",
          "height": 442
        },
        "outputId": "3b549f5f-b737-41f7-aef0-9c828f680805"
      },
      "source": [
        "ax = sns.countplot(x=\"BusinessTravel\", hue=\"Attrition\", data=data_encoded)\n",
        "for p in ax.patches:\n",
        "    ax.annotate('{}'.format(p.get_height()), (p.get_x(), p.get_height()+1))"
      ],
      "execution_count": 22,
      "outputs": [
        {
          "output_type": "display_data",
          "data": {
            "image/png": "[encoded data removed]",
            "text/plain": [
              "<Figure size 504x504 with 1 Axes>"
            ]
          },
          "metadata": {
            "tags": []
          }
        }
      ]
    },
    {
      "cell_type": "markdown",
      "metadata": {
        "id": "344jkuXOG8cE",
        "colab_type": "text"
      },
      "source": [
        "#### Findings\n",
        "From the above plot it can be inferred that travel can not be a compelling factor for attrition. Employee who travel rarely are likely to quit more"
      ]
    },
    {
      "cell_type": "markdown",
      "metadata": {
        "id": "5DMZDodHG8cE",
        "colab_type": "text"
      },
      "source": [
        "### 3.3.3 Department Vs Attrition\n",
        "There are three categories in department:\n",
        "       1. Human Resources: 0\n",
        "       2. Research & Development: 1\n",
        "       3. Sales: 2\n",
        "Attrition: No = 0 and Yes = 1"
      ]
    },
    {
      "cell_type": "code",
      "metadata": {
        "id": "pTtNC5OOG8cG",
        "colab_type": "code",
        "colab": {
          "base_uri": "https://localhost:8080/",
          "height": 442
        },
        "outputId": "73573641-6f43-4f9b-d5d9-23f321dbd4cb"
      },
      "source": [
        "ax = sns.countplot(x=\"Department\", hue=\"Attrition\", data=data_encoded)\n",
        "for p in ax.patches:\n",
        "    ax.annotate('{}'.format(p.get_height()), (p.get_x(), p.get_height()+1))"
      ],
      "execution_count": 23,
      "outputs": [
        {
          "output_type": "display_data",
          "data": {
            "image/png": "[encoded data removed]",
            "text/plain": [
              "<Figure size 504x504 with 1 Axes>"
            ]
          },
          "metadata": {
            "tags": []
          }
        }
      ]
    },
    {
      "cell_type": "markdown",
      "metadata": {
        "id": "DWHuXunRG8cH",
        "colab_type": "text"
      },
      "source": [
        "#### Inference:\n",
        "    1. 56% of employess from research and development department are likely to quit.\n",
        "    2. 38% of employees from sales department are likely to quit."
      ]
    },
    {
      "cell_type": "markdown",
      "metadata": {
        "id": "cXh0pIXoG8cI",
        "colab_type": "text"
      },
      "source": [
        "### 3.3.4 Distance from home Vs Employee Attrition"
      ]
    },
    {
      "cell_type": "code",
      "metadata": {
        "id": "KEC6tf46G8cI",
        "colab_type": "code",
        "colab": {
          "base_uri": "https://localhost:8080/",
          "height": 479
        },
        "outputId": "5ad7bafd-13a3-4490-9b81-773eeb06cb0b"
      },
      "source": [
        "plt.hist(negative_attrition_df['DistanceFromHome'], bins=np.arange(0,80,10), alpha=0.8, rwidth=0.9, color='red')"
      ],
      "execution_count": 24,
      "outputs": [
        {
          "output_type": "execute_result",
          "data": {
            "text/plain": [
              "(array([807., 246., 180.,   0.,   0.,   0.,   0.]),\n",
              " array([ 0, 10, 20, 30, 40, 50, 60, 70]),\n",
              " <a list of 7 Patch objects>)"
            ]
          },
          "metadata": {
            "tags": []
          },
          "execution_count": 24
        },
        {
          "output_type": "display_data",
          "data": {
            "image/png": "[encoded data removed]",
            "text/plain": [
              "<Figure size 504x504 with 1 Axes>"
            ]
          },
          "metadata": {
            "tags": []
          }
        }
      ]
    },
    {
      "cell_type": "code",
      "metadata": {
        "id": "-kMlHqzdG8cK",
        "colab_type": "code",
        "colab": {
          "base_uri": "https://localhost:8080/",
          "height": 479
        },
        "outputId": "3be3e938-a417-4391-c0b8-84519e9f25b1"
      },
      "source": [
        "plt.hist(positive_attrition_df['DistanceFromHome'], bins=np.arange(0,80,10), alpha=0.8, rwidth=0.9, color='red')"
      ],
      "execution_count": 26,
      "outputs": [
        {
          "output_type": "execute_result",
          "data": {
            "text/plain": [
              "(array([133.,  55.,  49.,   0.,   0.,   0.,   0.]),\n",
              " array([ 0, 10, 20, 30, 40, 50, 60, 70]),\n",
              " <a list of 7 Patch objects>)"
            ]
          },
          "metadata": {
            "tags": []
          },
          "execution_count": 26
        },
        {
          "output_type": "display_data",
          "data": {
            "image/png": "[encoded data removed]",
            "text/plain": [
              "<Figure size 504x504 with 1 Axes>"
            ]
          },
          "metadata": {
            "tags": []
          }
        }
      ]
    },
    {
      "cell_type": "markdown",
      "metadata": {
        "id": "mf455wfuG8cM",
        "colab_type": "text"
      },
      "source": [
        "#### Findings\n",
        "People who live closeby (0-10 miles) are likely to quit more based on the data"
      ]
    },
    {
      "cell_type": "markdown",
      "metadata": {
        "id": "Q5ytD-8CG8cN",
        "colab_type": "text"
      },
      "source": [
        "### 3.3.5 Education vs Attrition\n",
        "There are five categories: \n",
        "     1. Below College - 1 \n",
        "     2. College - 2\n",
        "     3. Bachelor - 3\n",
        "     4. Master - 4\n",
        "     5. Doctor - 5"
      ]
    },
    {
      "cell_type": "code",
      "metadata": {
        "id": "jB61TXqyG8cN",
        "colab_type": "code",
        "colab": {
          "base_uri": "https://localhost:8080/",
          "height": 442
        },
        "outputId": "c6f8ce2b-5db1-4711-8044-b29d8f5941b8"
      },
      "source": [
        "ax = sns.countplot(x=\"Education\", hue=\"Attrition\", data=data_encoded)\n",
        "for p in ax.patches:\n",
        "    ax.annotate('{}'.format(p.get_height()), (p.get_x(), p.get_height()+1))"
      ],
      "execution_count": 27,
      "outputs": [
        {
          "output_type": "display_data",
          "data": {
            "image/png": "[encoded data removed]",
            "text/plain": [
              "<Figure size 504x504 with 1 Axes>"
            ]
          },
          "metadata": {
            "tags": []
          }
        }
      ]
    },
    {
      "cell_type": "markdown",
      "metadata": {
        "id": "HJti1StLG8cP",
        "colab_type": "text"
      },
      "source": [
        "Inference:\n",
        "    1. 41% of employees having bachelor's degree are likely to quit.\n",
        "    2. 24% of employees having master's are the next in line"
      ]
    },
    {
      "cell_type": "markdown",
      "metadata": {
        "id": "YqLnYCmNG8cP",
        "colab_type": "text"
      },
      "source": [
        "### 3.3.6 Gender vs Attrition"
      ]
    },
    {
      "cell_type": "code",
      "metadata": {
        "id": "VTSMAwr4G8cQ",
        "colab_type": "code",
        "colab": {}
      },
      "source": [
        "df_age = data_encoded.copy(deep=True)\n",
        "df_age.loc[df_age['Age'] <= 20, 'Age'] = 0\n",
        "df_age.loc[(df_age['Age'] > 20) & (df_age['Age'] <= 30), 'Age'] = 1\n",
        "df_age.loc[(df_age['Age'] > 30) & (df_age['Age'] <= 40), 'Age'] = 2\n",
        "df_age.loc[(df_age['Age'] > 40) & (df_age['Age'] <= 50), 'Age'] = 3\n",
        "df_age.loc[(df_age['Age'] > 50), 'Age'] = 4"
      ],
      "execution_count": 0,
      "outputs": []
    },
    {
      "cell_type": "code",
      "metadata": {
        "id": "9KSMOd-nG8cT",
        "colab_type": "code",
        "colab": {}
      },
      "source": [
        "df_age = pd.DataFrame({'count': df_age.groupby([\"Gender\", \"Attrition\"]).size()}).reset_index()\n",
        "df_age['Gender-attrition'] = df_age['Gender'].astype(str) + \"-\" + df_age['Attrition'].astype(str).map(str)"
      ],
      "execution_count": 0,
      "outputs": []
    },
    {
      "cell_type": "code",
      "metadata": {
        "id": "iEFHTpCbG8cY",
        "colab_type": "code",
        "colab": {
          "base_uri": "https://localhost:8080/",
          "height": 173
        },
        "outputId": "11067e23-0169-426f-b820-c3eb4f39aeb0"
      },
      "source": [
        "df_age"
      ],
      "execution_count": 30,
      "outputs": [
        {
          "output_type": "execute_result",
          "data": {
            "text/html": [
              "<div>\n",
              "<style scoped>\n",
              "    .dataframe tbody tr th:only-of-type {\n",
              "        vertical-align: middle;\n",
              "    }\n",
              "\n",
              "    .dataframe tbody tr th {\n",
              "        vertical-align: top;\n",
              "    }\n",
              "\n",
              "    .dataframe thead th {\n",
              "        text-align: right;\n",
              "    }\n",
              "</style>\n",
              "<table border=\"1\" class=\"dataframe\">\n",
              "  <thead>\n",
              "    <tr style=\"text-align: right;\">\n",
              "      <th></th>\n",
              "      <th>Gender</th>\n",
              "      <th>Attrition</th>\n",
              "      <th>count</th>\n",
              "      <th>Gender-attrition</th>\n",
              "    </tr>\n",
              "  </thead>\n",
              "  <tbody>\n",
              "    <tr>\n",
              "      <th>0</th>\n",
              "      <td>0</td>\n",
              "      <td>0</td>\n",
              "      <td>501</td>\n",
              "      <td>0-0</td>\n",
              "    </tr>\n",
              "    <tr>\n",
              "      <th>1</th>\n",
              "      <td>0</td>\n",
              "      <td>1</td>\n",
              "      <td>87</td>\n",
              "      <td>0-1</td>\n",
              "    </tr>\n",
              "    <tr>\n",
              "      <th>2</th>\n",
              "      <td>1</td>\n",
              "      <td>0</td>\n",
              "      <td>732</td>\n",
              "      <td>1-0</td>\n",
              "    </tr>\n",
              "    <tr>\n",
              "      <th>3</th>\n",
              "      <td>1</td>\n",
              "      <td>1</td>\n",
              "      <td>150</td>\n",
              "      <td>1-1</td>\n",
              "    </tr>\n",
              "  </tbody>\n",
              "</table>\n",
              "</div>"
            ],
            "text/plain": [
              "   Gender  Attrition  count Gender-attrition\n",
              "0       0          0    501              0-0\n",
              "1       0          1     87              0-1\n",
              "2       1          0    732              1-0\n",
              "3       1          1    150              1-1"
            ]
          },
          "metadata": {
            "tags": []
          },
          "execution_count": 30
        }
      ]
    },
    {
      "cell_type": "markdown",
      "metadata": {
        "id": "Wa3ps9yaG8ca",
        "colab_type": "text"
      },
      "source": [
        "Here,\n",
        "\n",
        "* Gender - 0 and Attrition - 0 ===> Female employees who will stay\n",
        "* Gender - 0 and Attrition - 1 ===> Female employees who will leave\n",
        "* Gender - 1 and Attrition - 0 ===> Male employees who will stay\n",
        "* Gender - 1 and Attrition - 1 ===> Male employees who will leave"
      ]
    },
    {
      "cell_type": "code",
      "metadata": {
        "id": "c_3H2E33G8ca",
        "colab_type": "code",
        "colab": {
          "base_uri": "https://localhost:8080/",
          "height": 384
        },
        "outputId": "1448c951-9249-4daf-e491-c87c1ad2e63d"
      },
      "source": [
        "output_notebook() \n",
        "\n",
        "# x and y axes\n",
        "Gender_Attrition = df_age['Gender-attrition'].tolist()\n",
        "count = df_age['count'].tolist()\n",
        "\n",
        "print(count)\n",
        "\n",
        "# Bokeh's mapping of column names and data lists\n",
        "source = ColumnDataSource(data=dict(Gender_Attrition=Gender_Attrition, count=count, color=Viridis5))\n",
        "\n",
        "plot_bar = figure(x_range=Gender_Attrition, plot_height=350, title=\"Counts\")\n",
        "\n",
        "# Render and show the vbar plot\n",
        "plot_bar.vbar(x='Gender_Attrition', top='count', width=0.9, color='color', source=source)\n",
        "show(plot_bar)\n"
      ],
      "execution_count": 31,
      "outputs": [
        {
          "output_type": "stream",
          "text": [
            "[501, 87, 732, 150]\n"
          ],
          "name": "stdout"
        },
        {
          "output_type": "display_data",
          "data": {
            "application/javascript": [
              "\n",
              "(function(root) {\n",
              "  function now() {\n",
              "    return new Date();\n",
              "  }\n",
              "\n",
              "  var force = true;\n",
              "\n",
              "  if (typeof root._bokeh_onload_callbacks === \"undefined\" || force === true) {\n",
              "    root._bokeh_onload_callbacks = [];\n",
              "    root._bokeh_is_loading = undefined;\n",
              "  }\n",
              "\n",
              "  var JS_MIME_TYPE = 'application/javascript';\n",
              "  var HTML_MIME_TYPE = 'text/html';\n",
              "  var EXEC_MIME_TYPE = 'application/vnd.bokehjs_exec.v0+json';\n",
              "  var CLASS_NAME = 'output_bokeh rendered_html';\n",
              "\n",
              "  /**\n",
              "   * Render data to the DOM node\n",
              "   */\n",
              "  function render(props, node) {\n",
              "    var script = document.createElement(\"script\");\n",
              "    node.appendChild(script);\n",
              "  }\n",
              "\n",
              "  /**\n",
              "   * Handle when an output is cleared or removed\n",
              "   */\n",
              "  function handleClearOutput(event, handle) {\n",
              "    var cell = handle.cell;\n",
              "\n",
              "    var id = cell.output_area._bokeh_element_id;\n",
              "    var server_id = cell.output_area._bokeh_server_id;\n",
              "    // Clean up Bokeh references\n",
              "    if (id != null && id in Bokeh.index) {\n",
              "      Bokeh.index[id].model.document.clear();\n",
              "      delete Bokeh.index[id];\n",
              "    }\n",
              "\n",
              "    if (server_id !== undefined) {\n",
              "      // Clean up Bokeh references\n",
              "      var cmd = \"from bokeh.io.state import curstate; print(curstate().uuid_to_server['\" + server_id + \"'].get_sessions()[0].document.roots[0]._id)\";\n",
              "      cell.notebook.kernel.execute(cmd, {\n",
              "        iopub: {\n",
              "          output: function(msg) {\n",
              "            var id = msg.content.text.trim();\n",
              "            if (id in Bokeh.index) {\n",
              "              Bokeh.index[id].model.document.clear();\n",
              "              delete Bokeh.index[id];\n",
              "            }\n",
              "          }\n",
              "        }\n",
              "      });\n",
              "      // Destroy server and session\n",
              "      var cmd = \"import bokeh.io.notebook as ion; ion.destroy_server('\" + server_id + \"')\";\n",
              "      cell.notebook.kernel.execute(cmd);\n",
              "    }\n",
              "  }\n",
              "\n",
              "  /**\n",
              "   * Handle when a new output is added\n",
              "   */\n",
              "  function handleAddOutput(event, handle) {\n",
              "    var output_area = handle.output_area;\n",
              "    var output = handle.output;\n",
              "\n",
              "    // limit handleAddOutput to display_data with EXEC_MIME_TYPE content only\n",
              "    if ((output.output_type != \"display_data\") || (!output.data.hasOwnProperty(EXEC_MIME_TYPE))) {\n",
              "      return\n",
              "    }\n",
              "\n",
              "    var toinsert = output_area.element.find(\".\" + CLASS_NAME.split(' ')[0]);\n",
              "\n",
              "    if (output.metadata[EXEC_MIME_TYPE][\"id\"] !== undefined) {\n",
              "      toinsert[toinsert.length - 1].firstChild.textContent = output.data[JS_MIME_TYPE];\n",
              "      // store reference to embed id on output_area\n",
              "      output_area._bokeh_element_id = output.metadata[EXEC_MIME_TYPE][\"id\"];\n",
              "    }\n",
              "    if (output.metadata[EXEC_MIME_TYPE][\"server_id\"] !== undefined) {\n",
              "      var bk_div = document.createElement(\"div\");\n",
              "      bk_div.innerHTML = output.data[HTML_MIME_TYPE];\n",
              "      var script_attrs = bk_div.children[0].attributes;\n",
              "      for (var i = 0; i < script_attrs.length; i++) {\n",
              "        toinsert[toinsert.length - 1].firstChild.setAttribute(script_attrs[i].name, script_attrs[i].value);\n",
              "      }\n",
              "      // store reference to server id on output_area\n",
              "      output_area._bokeh_server_id = output.metadata[EXEC_MIME_TYPE][\"server_id\"];\n",
              "    }\n",
              "  }\n",
              "\n",
              "  function register_renderer(events, OutputArea) {\n",
              "\n",
              "    function append_mime(data, metadata, element) {\n",
              "      // create a DOM node to render to\n",
              "      var toinsert = this.create_output_subarea(\n",
              "        metadata,\n",
              "        CLASS_NAME,\n",
              "        EXEC_MIME_TYPE\n",
              "      );\n",
              "      this.keyboard_manager.register_events(toinsert);\n",
              "      // Render to node\n",
              "      var props = {data: data, metadata: metadata[EXEC_MIME_TYPE]};\n",
              "      render(props, toinsert[toinsert.length - 1]);\n",
              "      element.append(toinsert);\n",
              "      return toinsert\n",
              "    }\n",
              "\n",
              "    /* Handle when an output is cleared or removed */\n",
              "    events.on('clear_output.CodeCell', handleClearOutput);\n",
              "    events.on('delete.Cell', handleClearOutput);\n",
              "\n",
              "    /* Handle when a new output is added */\n",
              "    events.on('output_added.OutputArea', handleAddOutput);\n",
              "\n",
              "    /**\n",
              "     * Register the mime type and append_mime function with output_area\n",
              "     */\n",
              "    OutputArea.prototype.register_mime_type(EXEC_MIME_TYPE, append_mime, {\n",
              "      /* Is output safe? */\n",
              "      safe: true,\n",
              "      /* Index of renderer in `output_area.display_order` */\n",
              "      index: 0\n",
              "    });\n",
              "  }\n",
              "\n",
              "  // register the mime type if in Jupyter Notebook environment and previously unregistered\n",
              "  if (root.Jupyter !== undefined) {\n",
              "    var events = require('base/js/events');\n",
              "    var OutputArea = require('notebook/js/outputarea').OutputArea;\n",
              "\n",
              "    if (OutputArea.prototype.mime_types().indexOf(EXEC_MIME_TYPE) == -1) {\n",
              "      register_renderer(events, OutputArea);\n",
              "    }\n",
              "  }\n",
              "\n",
              "  \n",
              "  if (typeof (root._bokeh_timeout) === \"undefined\" || force === true) {\n",
              "    root._bokeh_timeout = Date.now() + 5000;\n",
              "    root._bokeh_failed_load = false;\n",
              "  }\n",
              "\n",
              "  var NB_LOAD_WARNING = {'data': {'text/html':\n",
              "     \"<div style='background-color: #fdd'>\\n\"+\n",
              "     \"<p>\\n\"+\n",
              "     \"BokehJS does not appear to have successfully loaded. If loading BokehJS from CDN, this \\n\"+\n",
              "     \"may be due to a slow or bad network connection. Possible fixes:\\n\"+\n",
              "     \"</p>\\n\"+\n",
              "     \"<ul>\\n\"+\n",
              "     \"<li>re-rerun `output_notebook()` to attempt to load from CDN again, or</li>\\n\"+\n",
              "     \"<li>use INLINE resources instead, as so:</li>\\n\"+\n",
              "     \"</ul>\\n\"+\n",
              "     \"<code>\\n\"+\n",
              "     \"from bokeh.resources import INLINE\\n\"+\n",
              "     \"output_notebook(resources=INLINE)\\n\"+\n",
              "     \"</code>\\n\"+\n",
              "     \"</div>\"}};\n",
              "\n",
              "  function display_loaded() {\n",
              "    var el = document.getElementById(null);\n",
              "    if (el != null) {\n",
              "      el.textContent = \"BokehJS is loading...\";\n",
              "    }\n",
              "    if (root.Bokeh !== undefined) {\n",
              "      if (el != null) {\n",
              "        el.textContent = \"BokehJS \" + root.Bokeh.version + \" successfully loaded.\";\n",
              "      }\n",
              "    } else if (Date.now() < root._bokeh_timeout) {\n",
              "      setTimeout(display_loaded, 100)\n",
              "    }\n",
              "  }\n",
              "\n",
              "\n",
              "  function run_callbacks() {\n",
              "    try {\n",
              "      root._bokeh_onload_callbacks.forEach(function(callback) {\n",
              "        if (callback != null)\n",
              "          callback();\n",
              "      });\n",
              "    } finally {\n",
              "      delete root._bokeh_onload_callbacks\n",
              "    }\n",
              "    console.debug(\"Bokeh: all callbacks have finished\");\n",
              "  }\n",
              "\n",
              "  function load_libs(css_urls, js_urls, callback) {\n",
              "    if (css_urls == null) css_urls = [];\n",
              "    if (js_urls == null) js_urls = [];\n",
              "\n",
              "    root._bokeh_onload_callbacks.push(callback);\n",
              "    if (root._bokeh_is_loading > 0) {\n",
              "      console.debug(\"Bokeh: BokehJS is being loaded, scheduling callback at\", now());\n",
              "      return null;\n",
              "    }\n",
              "    if (js_urls == null || js_urls.length === 0) {\n",
              "      run_callbacks();\n",
              "      return null;\n",
              "    }\n",
              "    console.debug(\"Bokeh: BokehJS not loaded, scheduling load and callback at\", now());\n",
              "    root._bokeh_is_loading = css_urls.length + js_urls.length;\n",
              "\n",
              "    function on_load() {\n",
              "      root._bokeh_is_loading--;\n",
              "      if (root._bokeh_is_loading === 0) {\n",
              "        console.debug(\"Bokeh: all BokehJS libraries/stylesheets loaded\");\n",
              "        run_callbacks()\n",
              "      }\n",
              "    }\n",
              "\n",
              "    function on_error() {\n",
              "      console.error(\"failed to load \" + url);\n",
              "    }\n",
              "\n",
              "    for (var i = 0; i < css_urls.length; i++) {\n",
              "      var url = css_urls[i];\n",
              "      const element = document.createElement(\"link\");\n",
              "      element.onload = on_load;\n",
              "      element.onerror = on_error;\n",
              "      element.rel = \"stylesheet\";\n",
              "      element.type = \"text/css\";\n",
              "      element.href = url;\n",
              "      console.debug(\"Bokeh: injecting link tag for BokehJS stylesheet: \", url);\n",
              "      document.body.appendChild(element);\n",
              "    }\n",
              "\n",
              "    for (var i = 0; i < js_urls.length; i++) {\n",
              "      var url = js_urls[i];\n",
              "      var element = document.createElement('script');\n",
              "      element.onload = on_load;\n",
              "      element.onerror = on_error;\n",
              "      element.async = false;\n",
              "      element.src = url;\n",
              "      console.debug(\"Bokeh: injecting script tag for BokehJS library: \", url);\n",
              "      document.head.appendChild(element);\n",
              "    }\n",
              "  };\n",
              "\n",
              "  function inject_raw_css(css) {\n",
              "    const element = document.createElement(\"style\");\n",
              "    element.appendChild(document.createTextNode(css));\n",
              "    document.body.appendChild(element);\n",
              "  }\n",
              "\n",
              "  \n",
              "  var js_urls = [\"https://cdn.pydata.org/bokeh/release/bokeh-1.4.0.min.js\", \"https://cdn.pydata.org/bokeh/release/bokeh-widgets-1.4.0.min.js\", \"https://cdn.pydata.org/bokeh/release/bokeh-tables-1.4.0.min.js\", \"https://cdn.pydata.org/bokeh/release/bokeh-gl-1.4.0.min.js\"];\n",
              "  var css_urls = [];\n",
              "  \n",
              "\n",
              "  var inline_js = [\n",
              "    function(Bokeh) {\n",
              "      Bokeh.set_log_level(\"info\");\n",
              "    },\n",
              "    function(Bokeh) {\n",
              "    \n",
              "    \n",
              "    }\n",
              "  ];\n",
              "\n",
              "  function run_inline_js() {\n",
              "    \n",
              "    if (root.Bokeh !== undefined || force === true) {\n",
              "      \n",
              "    for (var i = 0; i < inline_js.length; i++) {\n",
              "      inline_js[i].call(root, root.Bokeh);\n",
              "    }\n",
              "    } else if (Date.now() < root._bokeh_timeout) {\n",
              "      setTimeout(run_inline_js, 100);\n",
              "    } else if (!root._bokeh_failed_load) {\n",
              "      console.log(\"Bokeh: BokehJS failed to load within specified timeout.\");\n",
              "      root._bokeh_failed_load = true;\n",
              "    } else if (force !== true) {\n",
              "      var cell = $(document.getElementById(null)).parents('.cell').data().cell;\n",
              "      cell.output_area.append_execute_result(NB_LOAD_WARNING)\n",
              "    }\n",
              "\n",
              "  }\n",
              "\n",
              "  if (root._bokeh_is_loading === 0) {\n",
              "    console.debug(\"Bokeh: BokehJS loaded, going straight to plotting\");\n",
              "    run_inline_js();\n",
              "  } else {\n",
              "    load_libs(css_urls, js_urls, function() {\n",
              "      console.debug(\"Bokeh: BokehJS plotting callback run at\", now());\n",
              "      run_inline_js();\n",
              "    });\n",
              "  }\n",
              "}(window));"
            ],
            "application/vnd.bokehjs_load.v0+json": "\n(function(root) {\n  function now() {\n    return new Date();\n  }\n\n  var force = true;\n\n  if (typeof root._bokeh_onload_callbacks === \"undefined\" || force === true) {\n    root._bokeh_onload_callbacks = [];\n    root._bokeh_is_loading = undefined;\n  }\n\n  \n\n  \n  if (typeof (root._bokeh_timeout) === \"undefined\" || force === true) {\n    root._bokeh_timeout = Date.now() + 5000;\n    root._bokeh_failed_load = false;\n  }\n\n  var NB_LOAD_WARNING = {'data': {'text/html':\n     \"<div style='background-color: #fdd'>\\n\"+\n     \"<p>\\n\"+\n     \"BokehJS does not appear to have successfully loaded. If loading BokehJS from CDN, this \\n\"+\n     \"may be due to a slow or bad network connection. Possible fixes:\\n\"+\n     \"</p>\\n\"+\n     \"<ul>\\n\"+\n     \"<li>re-rerun `output_notebook()` to attempt to load from CDN again, or</li>\\n\"+\n     \"<li>use INLINE resources instead, as so:</li>\\n\"+\n     \"</ul>\\n\"+\n     \"<code>\\n\"+\n     \"from bokeh.resources import INLINE\\n\"+\n     \"output_notebook(resources=INLINE)\\n\"+\n     \"</code>\\n\"+\n     \"</div>\"}};\n\n  function display_loaded() {\n    var el = document.getElementById(null);\n    if (el != null) {\n      el.textContent = \"BokehJS is loading...\";\n    }\n    if (root.Bokeh !== undefined) {\n      if (el != null) {\n        el.textContent = \"BokehJS \" + root.Bokeh.version + \" successfully loaded.\";\n      }\n    } else if (Date.now() < root._bokeh_timeout) {\n      setTimeout(display_loaded, 100)\n    }\n  }\n\n\n  function run_callbacks() {\n    try {\n      root._bokeh_onload_callbacks.forEach(function(callback) {\n        if (callback != null)\n          callback();\n      });\n    } finally {\n      delete root._bokeh_onload_callbacks\n    }\n    console.debug(\"Bokeh: all callbacks have finished\");\n  }\n\n  function load_libs(css_urls, js_urls, callback) {\n    if (css_urls == null) css_urls = [];\n    if (js_urls == null) js_urls = [];\n\n    root._bokeh_onload_callbacks.push(callback);\n    if (root._bokeh_is_loading > 0) {\n      console.debug(\"Bokeh: BokehJS is being loaded, scheduling callback at\", now());\n      return null;\n    }\n    if (js_urls == null || js_urls.length === 0) {\n      run_callbacks();\n      return null;\n    }\n    console.debug(\"Bokeh: BokehJS not loaded, scheduling load and callback at\", now());\n    root._bokeh_is_loading = css_urls.length + js_urls.length;\n\n    function on_load() {\n      root._bokeh_is_loading--;\n      if (root._bokeh_is_loading === 0) {\n        console.debug(\"Bokeh: all BokehJS libraries/stylesheets loaded\");\n        run_callbacks()\n      }\n    }\n\n    function on_error() {\n      console.error(\"failed to load \" + url);\n    }\n\n    for (var i = 0; i < css_urls.length; i++) {\n      var url = css_urls[i];\n      const element = document.createElement(\"link\");\n      element.onload = on_load;\n      element.onerror = on_error;\n      element.rel = \"stylesheet\";\n      element.type = \"text/css\";\n      element.href = url;\n      console.debug(\"Bokeh: injecting link tag for BokehJS stylesheet: \", url);\n      document.body.appendChild(element);\n    }\n\n    for (var i = 0; i < js_urls.length; i++) {\n      var url = js_urls[i];\n      var element = document.createElement('script');\n      element.onload = on_load;\n      element.onerror = on_error;\n      element.async = false;\n      element.src = url;\n      console.debug(\"Bokeh: injecting script tag for BokehJS library: \", url);\n      document.head.appendChild(element);\n    }\n  };\n\n  function inject_raw_css(css) {\n    const element = document.createElement(\"style\");\n    element.appendChild(document.createTextNode(css));\n    document.body.appendChild(element);\n  }\n\n  \n  var js_urls = [\"https://cdn.pydata.org/bokeh/release/bokeh-1.4.0.min.js\", \"https://cdn.pydata.org/bokeh/release/bokeh-widgets-1.4.0.min.js\", \"https://cdn.pydata.org/bokeh/release/bokeh-tables-1.4.0.min.js\", \"https://cdn.pydata.org/bokeh/release/bokeh-gl-1.4.0.min.js\"];\n  var css_urls = [];\n  \n\n  var inline_js = [\n    function(Bokeh) {\n      Bokeh.set_log_level(\"info\");\n    },\n    function(Bokeh) {\n    \n    \n    }\n  ];\n\n  function run_inline_js() {\n    \n    if (root.Bokeh !== undefined || force === true) {\n      \n    for (var i = 0; i < inline_js.length; i++) {\n      inline_js[i].call(root, root.Bokeh);\n    }\n    } else if (Date.now() < root._bokeh_timeout) {\n      setTimeout(run_inline_js, 100);\n    } else if (!root._bokeh_failed_load) {\n      console.log(\"Bokeh: BokehJS failed to load within specified timeout.\");\n      root._bokeh_failed_load = true;\n    } else if (force !== true) {\n      var cell = $(document.getElementById(null)).parents('.cell').data().cell;\n      cell.output_area.append_execute_result(NB_LOAD_WARNING)\n    }\n\n  }\n\n  if (root._bokeh_is_loading === 0) {\n    console.debug(\"Bokeh: BokehJS loaded, going straight to plotting\");\n    run_inline_js();\n  } else {\n    load_libs(css_urls, js_urls, function() {\n      console.debug(\"Bokeh: BokehJS plotting callback run at\", now());\n      run_inline_js();\n    });\n  }\n}(window));"
          },
          "metadata": {
            "tags": []
          }
        },
        {
          "output_type": "display_data",
          "data": {
            "text/html": [
              "\n",
              "\n",
              "\n",
              "\n",
              "\n",
              "\n",
              "  <div class=\"bk-root\" id=\"def63d97-0ec4-419c-a820-b6c3a8268a5d\" data-root-id=\"1002\"></div>\n"
            ]
          },
          "metadata": {
            "tags": []
          }
        },
        {
          "output_type": "display_data",
          "data": {
            "application/javascript": [
              "(function(root) {\n",
              "  function embed_document(root) {\n",
              "    \n",
              "  var docs_json = {\"636b4c93-0005-44ae-bfd0-5f3ae5987579\":{\"roots\":{\"references\":[{\"attributes\":{\"below\":[{\"id\":\"1013\",\"type\":\"CategoricalAxis\"}],\"center\":[{\"id\":\"1016\",\"type\":\"Grid\"},{\"id\":\"1021\",\"type\":\"Grid\"}],\"left\":[{\"id\":\"1017\",\"type\":\"LinearAxis\"}],\"plot_height\":350,\"renderers\":[{\"id\":\"1038\",\"type\":\"GlyphRenderer\"}],\"title\":{\"id\":\"1003\",\"type\":\"Title\"},\"toolbar\":{\"id\":\"1028\",\"type\":\"Toolbar\"},\"x_range\":{\"id\":\"1005\",\"type\":\"FactorRange\"},\"x_scale\":{\"id\":\"1009\",\"type\":\"CategoricalScale\"},\"y_range\":{\"id\":\"1007\",\"type\":\"DataRange1d\"},\"y_scale\":{\"id\":\"1011\",\"type\":\"LinearScale\"}},\"id\":\"1002\",\"subtype\":\"Figure\",\"type\":\"Plot\"},{\"attributes\":{\"formatter\":{\"id\":\"1043\",\"type\":\"BasicTickFormatter\"},\"ticker\":{\"id\":\"1018\",\"type\":\"BasicTicker\"}},\"id\":\"1017\",\"type\":\"LinearAxis\"},{\"attributes\":{},\"id\":\"1011\",\"type\":\"LinearScale\"},{\"attributes\":{\"active_drag\":\"auto\",\"active_inspect\":\"auto\",\"active_multi\":null,\"active_scroll\":\"auto\",\"active_tap\":\"auto\",\"tools\":[{\"id\":\"1022\",\"type\":\"PanTool\"},{\"id\":\"1023\",\"type\":\"WheelZoomTool\"},{\"id\":\"1024\",\"type\":\"BoxZoomTool\"},{\"id\":\"1025\",\"type\":\"SaveTool\"},{\"id\":\"1026\",\"type\":\"ResetTool\"},{\"id\":\"1027\",\"type\":\"HelpTool\"}]},\"id\":\"1028\",\"type\":\"Toolbar\"},{\"attributes\":{\"data_source\":{\"id\":\"1001\",\"type\":\"ColumnDataSource\"},\"glyph\":{\"id\":\"1036\",\"type\":\"VBar\"},\"hover_glyph\":null,\"muted_glyph\":null,\"nonselection_glyph\":{\"id\":\"1037\",\"type\":\"VBar\"},\"selection_glyph\":null,\"view\":{\"id\":\"1039\",\"type\":\"CDSView\"}},\"id\":\"1038\",\"type\":\"GlyphRenderer\"},{\"attributes\":{\"text\":\"Counts\"},\"id\":\"1003\",\"type\":\"Title\"},{\"attributes\":{},\"id\":\"1041\",\"type\":\"CategoricalTickFormatter\"},{\"attributes\":{\"fill_alpha\":{\"value\":0.1},\"fill_color\":{\"value\":\"#1f77b4\"},\"line_alpha\":{\"value\":0.1},\"line_color\":{\"value\":\"#1f77b4\"},\"top\":{\"field\":\"count\"},\"width\":{\"value\":0.9},\"x\":{\"field\":\"Gender_Attrition\"}},\"id\":\"1037\",\"type\":\"VBar\"},{\"attributes\":{\"formatter\":{\"id\":\"1041\",\"type\":\"CategoricalTickFormatter\"},\"ticker\":{\"id\":\"1014\",\"type\":\"CategoricalTicker\"}},\"id\":\"1013\",\"type\":\"CategoricalAxis\"},{\"attributes\":{\"callback\":null},\"id\":\"1007\",\"type\":\"DataRange1d\"},{\"attributes\":{},\"id\":\"1043\",\"type\":\"BasicTickFormatter\"},{\"attributes\":{\"overlay\":{\"id\":\"1047\",\"type\":\"BoxAnnotation\"}},\"id\":\"1024\",\"type\":\"BoxZoomTool\"},{\"attributes\":{},\"id\":\"1009\",\"type\":\"CategoricalScale\"},{\"attributes\":{},\"id\":\"1025\",\"type\":\"SaveTool\"},{\"attributes\":{},\"id\":\"1014\",\"type\":\"CategoricalTicker\"},{\"attributes\":{\"source\":{\"id\":\"1001\",\"type\":\"ColumnDataSource\"}},\"id\":\"1039\",\"type\":\"CDSView\"},{\"attributes\":{\"callback\":null,\"data\":{\"Gender_Attrition\":[\"0-0\",\"0-1\",\"1-0\",\"1-1\"],\"color\":[\"#440154\",\"#3B518A\",\"#208F8C\",\"#5BC862\",\"#FDE724\"],\"count\":[501,87,732,150]},\"selected\":{\"id\":\"1046\",\"type\":\"Selection\"},\"selection_policy\":{\"id\":\"1045\",\"type\":\"UnionRenderers\"}},\"id\":\"1001\",\"type\":\"ColumnDataSource\"},{\"attributes\":{},\"id\":\"1045\",\"type\":\"UnionRenderers\"},{\"attributes\":{\"bottom_units\":\"screen\",\"fill_alpha\":{\"value\":0.5},\"fill_color\":{\"value\":\"lightgrey\"},\"left_units\":\"screen\",\"level\":\"overlay\",\"line_alpha\":{\"value\":1.0},\"line_color\":{\"value\":\"black\"},\"line_dash\":[4,4],\"line_width\":{\"value\":2},\"render_mode\":\"css\",\"right_units\":\"screen\",\"top_units\":\"screen\"},\"id\":\"1047\",\"type\":\"BoxAnnotation\"},{\"attributes\":{\"callback\":null,\"factors\":[\"0-0\",\"0-1\",\"1-0\",\"1-1\"]},\"id\":\"1005\",\"type\":\"FactorRange\"},{\"attributes\":{},\"id\":\"1026\",\"type\":\"ResetTool\"},{\"attributes\":{},\"id\":\"1018\",\"type\":\"BasicTicker\"},{\"attributes\":{\"ticker\":{\"id\":\"1014\",\"type\":\"CategoricalTicker\"}},\"id\":\"1016\",\"type\":\"Grid\"},{\"attributes\":{},\"id\":\"1046\",\"type\":\"Selection\"},{\"attributes\":{},\"id\":\"1027\",\"type\":\"HelpTool\"},{\"attributes\":{\"dimension\":1,\"ticker\":{\"id\":\"1018\",\"type\":\"BasicTicker\"}},\"id\":\"1021\",\"type\":\"Grid\"},{\"attributes\":{},\"id\":\"1022\",\"type\":\"PanTool\"},{\"attributes\":{\"fill_color\":{\"field\":\"color\"},\"line_color\":{\"field\":\"color\"},\"top\":{\"field\":\"count\"},\"width\":{\"value\":0.9},\"x\":{\"field\":\"Gender_Attrition\"}},\"id\":\"1036\",\"type\":\"VBar\"},{\"attributes\":{},\"id\":\"1023\",\"type\":\"WheelZoomTool\"}],\"root_ids\":[\"1002\"]},\"title\":\"Bokeh Application\",\"version\":\"1.4.0\"}};\n",
              "  var render_items = [{\"docid\":\"636b4c93-0005-44ae-bfd0-5f3ae5987579\",\"roots\":{\"1002\":\"def63d97-0ec4-419c-a820-b6c3a8268a5d\"}}];\n",
              "  root.Bokeh.embed.embed_items_notebook(docs_json, render_items);\n",
              "\n",
              "  }\n",
              "  if (root.Bokeh !== undefined) {\n",
              "    embed_document(root);\n",
              "  } else {\n",
              "    var attempts = 0;\n",
              "    var timer = setInterval(function(root) {\n",
              "      if (root.Bokeh !== undefined) {\n",
              "        clearInterval(timer);\n",
              "        embed_document(root);\n",
              "      } else {\n",
              "        attempts++;\n",
              "        if (attempts > 100) {\n",
              "          clearInterval(timer);\n",
              "          console.log(\"Bokeh: ERROR: Unable to run BokehJS code because BokehJS library is missing\");\n",
              "        }\n",
              "      }\n",
              "    }, 10, root)\n",
              "  }\n",
              "})(window);"
            ],
            "application/vnd.bokehjs_exec.v0+json": ""
          },
          "metadata": {
            "tags": [],
            "application/vnd.bokehjs_exec.v0+json": {
              "id": "1002"
            }
          }
        }
      ]
    },
    {
      "cell_type": "markdown",
      "metadata": {
        "id": "pee0WKN7G8cd",
        "colab_type": "text"
      },
      "source": [
        "#### Findings\n",
        "\n",
        "From the above plot, we can infer that male employees are likely to leave organization as they amount to 63% compared to female who have 36 % attrition rate."
      ]
    },
    {
      "cell_type": "markdown",
      "metadata": {
        "id": "AukAT5knG8cf",
        "colab_type": "text"
      },
      "source": [
        "### 3.3.7 Job Role Vs Attrition"
      ]
    },
    {
      "cell_type": "markdown",
      "metadata": {
        "id": "alfOic6uG8cg",
        "colab_type": "text"
      },
      "source": [
        "Categories in job role:\n",
        "* Healthcare Representative : 0 \n",
        "* Human Resources : 1\n",
        "* Laboratory Technician : 2\n",
        "* Manager : 3 \n",
        "* Manufacturing Director : 4\n",
        "* Research Director : 5\n",
        "* Research Scientist : 6\n",
        "* Sales Executive : 7 \n",
        "* Sales Representative : 8"
      ]
    },
    {
      "cell_type": "code",
      "metadata": {
        "id": "7F___IcKG8cg",
        "colab_type": "code",
        "colab": {}
      },
      "source": [
        "df_jrole = pd.DataFrame({'count': data_encoded.groupby([\"JobRole\", \"Attrition\"]).size()}).reset_index()"
      ],
      "execution_count": 0,
      "outputs": []
    },
    {
      "cell_type": "code",
      "metadata": {
        "id": "qhc1SwQ7G8cm",
        "colab_type": "code",
        "colab": {}
      },
      "source": [
        "#Considering attrition case\n",
        "df_jrole_1 = df_jrole.loc[df_jrole['Attrition'] == 1]"
      ],
      "execution_count": 0,
      "outputs": []
    },
    {
      "cell_type": "code",
      "metadata": {
        "id": "8l8z3vHrG8cn",
        "colab_type": "code",
        "colab": {
          "base_uri": "https://localhost:8080/",
          "height": 746
        },
        "outputId": "97edac5a-d2e2-4776-cbd3-3234f8ed7814"
      },
      "source": [
        "import pygal\n",
        "chart = pygal.Bar(print_values=True)\n",
        "chart.x_labels = map(str, range(0,9))\n",
        "chart.add('Count', df_jrole_1['count'])\n",
        "#chart.render()\n",
        "display(SVG(chart.render(disable_xml_declaration=True)))"
      ],
      "execution_count": 34,
      "outputs": [
        {
          "output_type": "display_data",
          "data": {
            "text/plain": [
              "<IPython.core.display.SVG object>"
            ],
            "image/svg+xml": "<svg class=\"pygal-chart\" id=\"chart-7a033655-de66-416c-bb53-fdde3a6a1237\" viewBox=\"0 0 800 600\" xmlns=\"http://www.w3.org/2000/svg\" xmlns:xlink=\"http://www.w3.org/1999/xlink\"><!--Generated with pygal 2.4.0 (lxml) ©Kozea 2012-2016 on 2020-03-13--><!--http://pygal.org--><!--http://github.com/Kozea/pygal--><defs><style type=\"text/css\">#chart-7a033655-de66-416c-bb53-fdde3a6a1237{-webkit-user-select:none;-webkit-font-smoothing:antialiased;font-family:Consolas,&quot;Liberation Mono&quot;,Menlo,Courier,monospace}#chart-7a033655-de66-416c-bb53-fdde3a6a1237 .title{font-family:Consolas,&quot;Liberation Mono&quot;,Menlo,Courier,monospace;font-size:16px}#chart-7a033655-de66-416c-bb53-fdde3a6a1237 .legends .legend text{font-family:Consolas,&quot;Liberation Mono&quot;,Menlo,Courier,monospace;font-size:14px}#chart-7a033655-de66-416c-bb53-fdde3a6a1237 .axis text{font-family:Consolas,&quot;Liberation Mono&quot;,Menlo,Courier,monospace;font-size:10px}#chart-7a033655-de66-416c-bb53-fdde3a6a1237 .axis text.major{font-family:Consolas,&quot;Liberation Mono&quot;,Menlo,Courier,monospace;font-size:10px}#chart-7a033655-de66-416c-bb53-fdde3a6a1237 .text-overlay text.value{font-family:Consolas,&quot;Liberation Mono&quot;,Menlo,Courier,monospace;font-size:16px}#chart-7a033655-de66-416c-bb53-fdde3a6a1237 .text-overlay text.label{font-family:Consolas,&quot;Liberation Mono&quot;,Menlo,Courier,monospace;font-size:10px}#chart-7a033655-de66-416c-bb53-fdde3a6a1237 .tooltip{font-family:Consolas,&quot;Liberation Mono&quot;,Menlo,Courier,monospace;font-size:14px}#chart-7a033655-de66-416c-bb53-fdde3a6a1237 text.no_data{font-family:Consolas,&quot;Liberation Mono&quot;,Menlo,Courier,monospace;font-size:64px}\n#chart-7a033655-de66-416c-bb53-fdde3a6a1237{background-color:rgba(249,249,249,1)}#chart-7a033655-de66-416c-bb53-fdde3a6a1237 path,#chart-7a033655-de66-416c-bb53-fdde3a6a1237 line,#chart-7a033655-de66-416c-bb53-fdde3a6a1237 rect,#chart-7a033655-de66-416c-bb53-fdde3a6a1237 circle{-webkit-transition:150ms;-moz-transition:150ms;transition:150ms}#chart-7a033655-de66-416c-bb53-fdde3a6a1237 .graph &gt; .background{fill:rgba(249,249,249,1)}#chart-7a033655-de66-416c-bb53-fdde3a6a1237 .plot &gt; .background{fill:rgba(255,255,255,1)}#chart-7a033655-de66-416c-bb53-fdde3a6a1237 .graph{fill:rgba(0,0,0,.87)}#chart-7a033655-de66-416c-bb53-fdde3a6a1237 text.no_data{fill:rgba(0,0,0,1)}#chart-7a033655-de66-416c-bb53-fdde3a6a1237 .title{fill:rgba(0,0,0,1)}#chart-7a033655-de66-416c-bb53-fdde3a6a1237 .legends .legend text{fill:rgba(0,0,0,.87)}#chart-7a033655-de66-416c-bb53-fdde3a6a1237 .legends .legend:hover text{fill:rgba(0,0,0,1)}#chart-7a033655-de66-416c-bb53-fdde3a6a1237 .axis .line{stroke:rgba(0,0,0,1)}#chart-7a033655-de66-416c-bb53-fdde3a6a1237 .axis .guide.line{stroke:rgba(0,0,0,.54)}#chart-7a033655-de66-416c-bb53-fdde3a6a1237 .axis .major.line{stroke:rgba(0,0,0,.87)}#chart-7a033655-de66-416c-bb53-fdde3a6a1237 .axis text.major{fill:rgba(0,0,0,1)}#chart-7a033655-de66-416c-bb53-fdde3a6a1237 .axis.y .guides:hover .guide.line,#chart-7a033655-de66-416c-bb53-fdde3a6a1237 .line-graph .axis.x .guides:hover .guide.line,#chart-7a033655-de66-416c-bb53-fdde3a6a1237 .stackedline-graph .axis.x .guides:hover .guide.line,#chart-7a033655-de66-416c-bb53-fdde3a6a1237 .xy-graph .axis.x .guides:hover .guide.line{stroke:rgba(0,0,0,1)}#chart-7a033655-de66-416c-bb53-fdde3a6a1237 .axis .guides:hover text{fill:rgba(0,0,0,1)}#chart-7a033655-de66-416c-bb53-fdde3a6a1237 .reactive{fill-opacity:.7;stroke-opacity:.8}#chart-7a033655-de66-416c-bb53-fdde3a6a1237 .ci{stroke:rgba(0,0,0,.87)}#chart-7a033655-de66-416c-bb53-fdde3a6a1237 .reactive.active,#chart-7a033655-de66-416c-bb53-fdde3a6a1237 .active .reactive{fill-opacity:.8;stroke-opacity:.9;stroke-width:4}#chart-7a033655-de66-416c-bb53-fdde3a6a1237 .ci .reactive.active{stroke-width:1.5}#chart-7a033655-de66-416c-bb53-fdde3a6a1237 .series text{fill:rgba(0,0,0,1)}#chart-7a033655-de66-416c-bb53-fdde3a6a1237 .tooltip rect{fill:rgba(255,255,255,1);stroke:rgba(0,0,0,1);-webkit-transition:opacity 150ms;-moz-transition:opacity 150ms;transition:opacity 150ms}#chart-7a033655-de66-416c-bb53-fdde3a6a1237 .tooltip .label{fill:rgba(0,0,0,.87)}#chart-7a033655-de66-416c-bb53-fdde3a6a1237 .tooltip .label{fill:rgba(0,0,0,.87)}#chart-7a033655-de66-416c-bb53-fdde3a6a1237 .tooltip .legend{font-size:.8em;fill:rgba(0,0,0,.54)}#chart-7a033655-de66-416c-bb53-fdde3a6a1237 .tooltip .x_label{font-size:.6em;fill:rgba(0,0,0,1)}#chart-7a033655-de66-416c-bb53-fdde3a6a1237 .tooltip .xlink{font-size:.5em;text-decoration:underline}#chart-7a033655-de66-416c-bb53-fdde3a6a1237 .tooltip .value{font-size:1.5em}#chart-7a033655-de66-416c-bb53-fdde3a6a1237 .bound{font-size:.5em}#chart-7a033655-de66-416c-bb53-fdde3a6a1237 .max-value{font-size:.75em;fill:rgba(0,0,0,.54)}#chart-7a033655-de66-416c-bb53-fdde3a6a1237 .map-element{fill:rgba(255,255,255,1);stroke:rgba(0,0,0,.54) !important}#chart-7a033655-de66-416c-bb53-fdde3a6a1237 .map-element .reactive{fill-opacity:inherit;stroke-opacity:inherit}#chart-7a033655-de66-416c-bb53-fdde3a6a1237 .color-0,#chart-7a033655-de66-416c-bb53-fdde3a6a1237 .color-0 a:visited{stroke:#F44336;fill:#F44336}#chart-7a033655-de66-416c-bb53-fdde3a6a1237 .text-overlay .color-0 text{fill:black}\n#chart-7a033655-de66-416c-bb53-fdde3a6a1237 text.no_data{text-anchor:middle}#chart-7a033655-de66-416c-bb53-fdde3a6a1237 .guide.line{fill:none}#chart-7a033655-de66-416c-bb53-fdde3a6a1237 .centered{text-anchor:middle}#chart-7a033655-de66-416c-bb53-fdde3a6a1237 .title{text-anchor:middle}#chart-7a033655-de66-416c-bb53-fdde3a6a1237 .legends .legend text{fill-opacity:1}#chart-7a033655-de66-416c-bb53-fdde3a6a1237 .axis.x text{text-anchor:middle}#chart-7a033655-de66-416c-bb53-fdde3a6a1237 .axis.x:not(.web) text[transform]{text-anchor:start}#chart-7a033655-de66-416c-bb53-fdde3a6a1237 .axis.x:not(.web) text[transform].backwards{text-anchor:end}#chart-7a033655-de66-416c-bb53-fdde3a6a1237 .axis.y text{text-anchor:end}#chart-7a033655-de66-416c-bb53-fdde3a6a1237 .axis.y text[transform].backwards{text-anchor:start}#chart-7a033655-de66-416c-bb53-fdde3a6a1237 .axis.y2 text{text-anchor:start}#chart-7a033655-de66-416c-bb53-fdde3a6a1237 .axis.y2 text[transform].backwards{text-anchor:end}#chart-7a033655-de66-416c-bb53-fdde3a6a1237 .axis .guide.line{stroke-dasharray:4,4}#chart-7a033655-de66-416c-bb53-fdde3a6a1237 .axis .major.guide.line{stroke-dasharray:6,6}#chart-7a033655-de66-416c-bb53-fdde3a6a1237 .horizontal .axis.y .guide.line,#chart-7a033655-de66-416c-bb53-fdde3a6a1237 .horizontal .axis.y2 .guide.line,#chart-7a033655-de66-416c-bb53-fdde3a6a1237 .vertical .axis.x .guide.line{opacity:0}#chart-7a033655-de66-416c-bb53-fdde3a6a1237 .horizontal .axis.always_show .guide.line,#chart-7a033655-de66-416c-bb53-fdde3a6a1237 .vertical .axis.always_show .guide.line{opacity:1 !important}#chart-7a033655-de66-416c-bb53-fdde3a6a1237 .axis.y .guides:hover .guide.line,#chart-7a033655-de66-416c-bb53-fdde3a6a1237 .axis.y2 .guides:hover .guide.line,#chart-7a033655-de66-416c-bb53-fdde3a6a1237 .axis.x .guides:hover .guide.line{opacity:1}#chart-7a033655-de66-416c-bb53-fdde3a6a1237 .axis .guides:hover text{opacity:1}#chart-7a033655-de66-416c-bb53-fdde3a6a1237 .nofill{fill:none}#chart-7a033655-de66-416c-bb53-fdde3a6a1237 .subtle-fill{fill-opacity:.2}#chart-7a033655-de66-416c-bb53-fdde3a6a1237 .dot{stroke-width:1px;fill-opacity:1}#chart-7a033655-de66-416c-bb53-fdde3a6a1237 .dot.active{stroke-width:5px}#chart-7a033655-de66-416c-bb53-fdde3a6a1237 .dot.negative{fill:transparent}#chart-7a033655-de66-416c-bb53-fdde3a6a1237 text,#chart-7a033655-de66-416c-bb53-fdde3a6a1237 tspan{stroke:none !important}#chart-7a033655-de66-416c-bb53-fdde3a6a1237 .series text.active{opacity:1}#chart-7a033655-de66-416c-bb53-fdde3a6a1237 .tooltip rect{fill-opacity:.95;stroke-width:.5}#chart-7a033655-de66-416c-bb53-fdde3a6a1237 .tooltip text{fill-opacity:1}#chart-7a033655-de66-416c-bb53-fdde3a6a1237 .showable{visibility:hidden}#chart-7a033655-de66-416c-bb53-fdde3a6a1237 .showable.shown{visibility:visible}#chart-7a033655-de66-416c-bb53-fdde3a6a1237 .gauge-background{fill:rgba(229,229,229,1);stroke:none}#chart-7a033655-de66-416c-bb53-fdde3a6a1237 .bg-lines{stroke:rgba(249,249,249,1);stroke-width:2px}</style><script type=\"text/javascript\">window.pygal = window.pygal || {};window.pygal.config = window.pygal.config || {};window.pygal.config['7a033655-de66-416c-bb53-fdde3a6a1237'] = {&quot;allow_interruptions&quot;: false, &quot;box_mode&quot;: &quot;extremes&quot;, &quot;classes&quot;: [&quot;pygal-chart&quot;], &quot;css&quot;: [&quot;file://style.css&quot;, &quot;file://graph.css&quot;], &quot;defs&quot;: [], &quot;disable_xml_declaration&quot;: true, &quot;dots_size&quot;: 2.5, &quot;dynamic_print_values&quot;: false, &quot;explicit_size&quot;: false, &quot;fill&quot;: false, &quot;force_uri_protocol&quot;: &quot;https&quot;, &quot;formatter&quot;: null, &quot;half_pie&quot;: false, &quot;height&quot;: 600, &quot;include_x_axis&quot;: false, &quot;inner_radius&quot;: 0, &quot;interpolate&quot;: null, &quot;interpolation_parameters&quot;: {}, &quot;interpolation_precision&quot;: 250, &quot;inverse_y_axis&quot;: false, &quot;js&quot;: [&quot;//kozea.github.io/pygal.js/2.0.x/pygal-tooltips.min.js&quot;], &quot;legend_at_bottom&quot;: false, &quot;legend_at_bottom_columns&quot;: null, &quot;legend_box_size&quot;: 12, &quot;logarithmic&quot;: false, &quot;margin&quot;: 20, &quot;margin_bottom&quot;: null, &quot;margin_left&quot;: null, &quot;margin_right&quot;: null, &quot;margin_top&quot;: null, &quot;max_scale&quot;: 16, &quot;min_scale&quot;: 4, &quot;missing_value_fill_truncation&quot;: &quot;x&quot;, &quot;no_data_text&quot;: &quot;No data&quot;, &quot;no_prefix&quot;: false, &quot;order_min&quot;: null, &quot;pretty_print&quot;: false, &quot;print_labels&quot;: false, &quot;print_values&quot;: true, &quot;print_values_position&quot;: &quot;center&quot;, &quot;print_zeroes&quot;: true, &quot;range&quot;: null, &quot;rounded_bars&quot;: null, &quot;secondary_range&quot;: null, &quot;show_dots&quot;: true, &quot;show_legend&quot;: true, &quot;show_minor_x_labels&quot;: true, &quot;show_minor_y_labels&quot;: true, &quot;show_only_major_dots&quot;: false, &quot;show_x_guides&quot;: false, &quot;show_x_labels&quot;: true, &quot;show_y_guides&quot;: true, &quot;show_y_labels&quot;: true, &quot;spacing&quot;: 10, &quot;stack_from_top&quot;: false, &quot;strict&quot;: false, &quot;stroke&quot;: true, &quot;stroke_style&quot;: null, &quot;style&quot;: {&quot;background&quot;: &quot;rgba(249, 249, 249, 1)&quot;, &quot;ci_colors&quot;: [], &quot;colors&quot;: [&quot;#F44336&quot;, &quot;#3F51B5&quot;, &quot;#009688&quot;, &quot;#FFC107&quot;, &quot;#FF5722&quot;, &quot;#9C27B0&quot;, &quot;#03A9F4&quot;, &quot;#8BC34A&quot;, &quot;#FF9800&quot;, &quot;#E91E63&quot;, &quot;#2196F3&quot;, &quot;#4CAF50&quot;, &quot;#FFEB3B&quot;, &quot;#673AB7&quot;, &quot;#00BCD4&quot;, &quot;#CDDC39&quot;, &quot;#9E9E9E&quot;, &quot;#607D8B&quot;], &quot;font_family&quot;: &quot;Consolas, \\&quot;Liberation Mono\\&quot;, Menlo, Courier, monospace&quot;, &quot;foreground&quot;: &quot;rgba(0, 0, 0, .87)&quot;, &quot;foreground_strong&quot;: &quot;rgba(0, 0, 0, 1)&quot;, &quot;foreground_subtle&quot;: &quot;rgba(0, 0, 0, .54)&quot;, &quot;guide_stroke_dasharray&quot;: &quot;4,4&quot;, &quot;label_font_family&quot;: &quot;Consolas, \\&quot;Liberation Mono\\&quot;, Menlo, Courier, monospace&quot;, &quot;label_font_size&quot;: 10, &quot;legend_font_family&quot;: &quot;Consolas, \\&quot;Liberation Mono\\&quot;, Menlo, Courier, monospace&quot;, &quot;legend_font_size&quot;: 14, &quot;major_guide_stroke_dasharray&quot;: &quot;6,6&quot;, &quot;major_label_font_family&quot;: &quot;Consolas, \\&quot;Liberation Mono\\&quot;, Menlo, Courier, monospace&quot;, &quot;major_label_font_size&quot;: 10, &quot;no_data_font_family&quot;: &quot;Consolas, \\&quot;Liberation Mono\\&quot;, Menlo, Courier, monospace&quot;, &quot;no_data_font_size&quot;: 64, &quot;opacity&quot;: &quot;.7&quot;, &quot;opacity_hover&quot;: &quot;.8&quot;, &quot;plot_background&quot;: &quot;rgba(255, 255, 255, 1)&quot;, &quot;stroke_opacity&quot;: &quot;.8&quot;, &quot;stroke_opacity_hover&quot;: &quot;.9&quot;, &quot;title_font_family&quot;: &quot;Consolas, \\&quot;Liberation Mono\\&quot;, Menlo, Courier, monospace&quot;, &quot;title_font_size&quot;: 16, &quot;tooltip_font_family&quot;: &quot;Consolas, \\&quot;Liberation Mono\\&quot;, Menlo, Courier, monospace&quot;, &quot;tooltip_font_size&quot;: 14, &quot;transition&quot;: &quot;150ms&quot;, &quot;value_background&quot;: &quot;rgba(229, 229, 229, 1)&quot;, &quot;value_colors&quot;: [], &quot;value_font_family&quot;: &quot;Consolas, \\&quot;Liberation Mono\\&quot;, Menlo, Courier, monospace&quot;, &quot;value_font_size&quot;: 16, &quot;value_label_font_family&quot;: &quot;Consolas, \\&quot;Liberation Mono\\&quot;, Menlo, Courier, monospace&quot;, &quot;value_label_font_size&quot;: 10}, &quot;title&quot;: null, &quot;tooltip_border_radius&quot;: 0, &quot;tooltip_fancy_mode&quot;: true, &quot;truncate_label&quot;: null, &quot;truncate_legend&quot;: null, &quot;width&quot;: 800, &quot;x_label_rotation&quot;: 0, &quot;x_labels&quot;: [&quot;0&quot;, &quot;1&quot;, &quot;2&quot;, &quot;3&quot;, &quot;4&quot;, &quot;5&quot;, &quot;6&quot;, &quot;7&quot;, &quot;8&quot;], &quot;x_labels_major&quot;: null, &quot;x_labels_major_count&quot;: null, &quot;x_labels_major_every&quot;: null, &quot;x_title&quot;: null, &quot;xrange&quot;: null, &quot;y_label_rotation&quot;: 0, &quot;y_labels&quot;: null, &quot;y_labels_major&quot;: null, &quot;y_labels_major_count&quot;: null, &quot;y_labels_major_every&quot;: null, &quot;y_title&quot;: null, &quot;zero&quot;: 0, &quot;legends&quot;: [&quot;Count&quot;]}</script><script type=\"text/javascript\" xlink:href=\"https://kozea.github.io/pygal.js/2.0.x/pygal-tooltips.min.js\"/></defs><title>Pygal</title><g class=\"graph bar-graph vertical\"><rect class=\"background\" height=\"600\" width=\"800\" x=\"0\" y=\"0\"/><g class=\"plot\" transform=\"translate(106, 20)\"><rect class=\"background\" height=\"540\" width=\"674.0\" x=\"0\" y=\"0\"/><g class=\"axis y always_show\"><g class=\"guides\"><path class=\"axis major line\" d=\"M0.000000 529.615385 h674.000000\"/><text class=\"major\" x=\"-5\" y=\"533.1153846153846\">0</text><title>0</title></g><g class=\"guides\"><path class=\"guide line\" d=\"M0.000000 445.868486 h674.000000\"/><text class=\"\" x=\"-5\" y=\"449.3684863523573\">10</text><title>10</title></g><g class=\"guides\"><path class=\"guide line\" d=\"M0.000000 362.121588 h674.000000\"/><text class=\"\" x=\"-5\" y=\"365.6215880893301\">20</text><title>20</title></g><g class=\"guides\"><path class=\"guide line\" d=\"M0.000000 278.374690 h674.000000\"/><text class=\"\" x=\"-5\" y=\"281.87468982630276\">30</text><title>30</title></g><g class=\"guides\"><path class=\"guide line\" d=\"M0.000000 194.627792 h674.000000\"/><text class=\"\" x=\"-5\" y=\"198.12779156327542\">40</text><title>40</title></g><g class=\"guides\"><path class=\"major guide line\" d=\"M0.000000 110.880893 h674.000000\"/><text class=\"major\" x=\"-5\" y=\"114.38089330024815\">50</text><title>50</title></g><g class=\"guides\"><path class=\"guide line\" d=\"M0.000000 27.133995 h674.000000\"/><text class=\"\" x=\"-5\" y=\"30.63399503722087\">60</text><title>60</title></g></g><g class=\"axis x\"><path class=\"line\" d=\"M0.000000 0.000000 v540.000000\"/><g class=\"guides\"><path class=\"axis guide line\" d=\"M48.965812 0.000000 v540.000000\"/><text class=\"\" x=\"48.965811965811966\" y=\"555.0\">0</text></g><g class=\"guides\"><path class=\"guide line\" d=\"M120.974359 0.000000 v540.000000\"/><text class=\"\" x=\"120.97435897435895\" y=\"555.0\">1</text></g><g class=\"guides\"><path class=\"guide line\" d=\"M192.982906 0.000000 v540.000000\"/><text class=\"\" x=\"192.982905982906\" y=\"555.0\">2</text></g><g class=\"guides\"><path class=\"guide line\" d=\"M264.991453 0.000000 v540.000000\"/><text class=\"\" x=\"264.991452991453\" y=\"555.0\">3</text></g><g class=\"guides\"><path class=\"guide line\" d=\"M337.000000 0.000000 v540.000000\"/><text class=\"\" x=\"337.0\" y=\"555.0\">4</text></g><g class=\"guides\"><path class=\"guide line\" d=\"M409.008547 0.000000 v540.000000\"/><text class=\"\" x=\"409.00854700854705\" y=\"555.0\">5</text></g><g class=\"guides\"><path class=\"guide line\" d=\"M481.017094 0.000000 v540.000000\"/><text class=\"\" x=\"481.017094017094\" y=\"555.0\">6</text></g><g class=\"guides\"><path class=\"guide line\" d=\"M553.025641 0.000000 v540.000000\"/><text class=\"\" x=\"553.025641025641\" y=\"555.0\">7</text></g><g class=\"guides\"><path class=\"guide line\" d=\"M625.034188 0.000000 v540.000000\"/><text class=\"\" x=\"625.034188034188\" y=\"555.0\">8</text></g></g><g class=\"series serie-0 color-0\"><g class=\"bars\"><g class=\"bar\"><rect class=\"rect reactive tooltip-trigger\" height=\"75.37220843672458\" rx=\"0\" ry=\"0\" width=\"55.76341880341881\" x=\"21.08410256410256\" y=\"454.24317617866006\"/><desc class=\"value\">9</desc><desc class=\"x centered\">48.965811965811966</desc><desc class=\"y centered\">491.92928039702235</desc><desc class=\"x_label\">0</desc></g><g class=\"bar\"><rect class=\"rect reactive tooltip-trigger\" height=\"100.49627791563279\" rx=\"0\" ry=\"0\" width=\"55.76341880341881\" x=\"93.09264957264955\" y=\"429.11910669975185\"/><desc class=\"value\">12</desc><desc class=\"x centered\">120.97435897435895</desc><desc class=\"y centered\">479.3672456575682</desc><desc class=\"x_label\">1</desc></g><g class=\"bar\"><rect class=\"rect reactive tooltip-trigger\" height=\"519.2307692307692\" rx=\"0\" ry=\"0\" width=\"55.76341880341881\" x=\"165.10119658119655\" y=\"10.384615384615472\"/><desc class=\"value\">62</desc><desc class=\"x centered\">192.98290598290595</desc><desc class=\"y centered\">270.00000000000006</desc><desc class=\"x_label\">2</desc></g><g class=\"bar\"><rect class=\"rect reactive tooltip-trigger\" height=\"41.87344913151367\" rx=\"0\" ry=\"0\" width=\"55.76341880341881\" x=\"237.10974358974357\" y=\"487.741935483871\"/><desc class=\"value\">5</desc><desc class=\"x centered\">264.991452991453</desc><desc class=\"y centered\">508.6786600496278</desc><desc class=\"x_label\">3</desc></g><g class=\"bar\"><rect class=\"rect reactive tooltip-trigger\" height=\"83.74689826302733\" rx=\"0\" ry=\"0\" width=\"55.76341880341881\" x=\"309.1182905982906\" y=\"445.8684863523573\"/><desc class=\"value\">10</desc><desc class=\"x centered\">337.00000000000006</desc><desc class=\"y centered\">487.741935483871</desc><desc class=\"x_label\">4</desc></g><g class=\"bar\"><rect class=\"rect reactive tooltip-trigger\" height=\"16.749379652605512\" rx=\"0\" ry=\"0\" width=\"55.76341880341881\" x=\"381.1268376068376\" y=\"512.8660049627791\"/><desc class=\"value\">2</desc><desc class=\"x centered\">409.00854700854705</desc><desc class=\"y centered\">521.2406947890819</desc><desc class=\"x_label\">5</desc></g><g class=\"bar\"><rect class=\"rect reactive tooltip-trigger\" height=\"393.61042183622834\" rx=\"0\" ry=\"0\" width=\"55.76341880341881\" x=\"453.1353846153846\" y=\"136.0049627791563\"/><desc class=\"value\">47</desc><desc class=\"x centered\">481.01709401709405</desc><desc class=\"y centered\">332.81017369727044</desc><desc class=\"x_label\">6</desc></g><g class=\"bar\"><rect class=\"rect reactive tooltip-trigger\" height=\"477.3573200992556\" rx=\"0\" ry=\"0\" width=\"55.76341880341881\" x=\"525.1439316239315\" y=\"52.258064516129025\"/><desc class=\"value\">57</desc><desc class=\"x centered\">553.0256410256409</desc><desc class=\"y centered\">290.93672456575683</desc><desc class=\"x_label\">7</desc></g><g class=\"bar\"><rect class=\"rect reactive tooltip-trigger\" height=\"276.3647642679901\" rx=\"0\" ry=\"0\" width=\"55.76341880341881\" x=\"597.1524786324786\" y=\"253.25062034739454\"/><desc class=\"value\">33</desc><desc class=\"x centered\">625.034188034188</desc><desc class=\"y centered\">391.4330024813896</desc><desc class=\"x_label\">8</desc></g></g></g></g><g class=\"titles\"/><g class=\"plot overlay\" transform=\"translate(106, 20)\"><g class=\"series serie-0 color-0\"/></g><g class=\"plot text-overlay\" transform=\"translate(106, 20)\"><g class=\"series serie-0 color-0\"><text class=\"value\" text-anchor=\"middle\" x=\"48.965811965811966\" y=\"497.26261373035567\">9</text><text class=\"value\" text-anchor=\"middle\" x=\"120.97435897435895\" y=\"484.70057899090153\">12</text><text class=\"value\" text-anchor=\"middle\" x=\"192.98290598290595\" y=\"275.33333333333337\">62</text><text class=\"value\" text-anchor=\"middle\" x=\"264.991452991453\" y=\"514.0119933829611\">5</text><text class=\"value\" text-anchor=\"middle\" x=\"337.00000000000006\" y=\"493.0752688172043\">10</text><text class=\"value\" text-anchor=\"middle\" x=\"409.00854700854705\" y=\"526.5740281224153\">2</text><text class=\"value\" text-anchor=\"middle\" x=\"481.01709401709405\" y=\"338.14350703060376\">47</text><text class=\"value\" text-anchor=\"middle\" x=\"553.0256410256409\" y=\"296.27005789909015\">57</text><text class=\"value\" text-anchor=\"middle\" x=\"625.034188034188\" y=\"396.76633581472294\">33</text></g></g><g class=\"plot tooltip-overlay\" transform=\"translate(106, 20)\"><g class=\"tooltip\" style=\"opacity: 0\" transform=\"translate(0 0)\"><rect class=\"tooltip-box\" height=\"0\" rx=\"0\" ry=\"0\" width=\"0\"/><g class=\"text\"/></g></g><g class=\"legends\" transform=\"translate(10, 30)\"><g class=\"legend reactive activate-serie\" id=\"activate-serie-0\"><rect class=\"color-0 reactive\" height=\"12\" width=\"12\" x=\"0.0\" y=\"1.0\"/><text x=\"17.0\" y=\"11.2\">Count</text></g></g><g class=\"legends\" transform=\"translate(790, 30)\"/></g></svg>"
          },
          "metadata": {
            "tags": []
          }
        }
      ]
    },
    {
      "cell_type": "markdown",
      "metadata": {
        "id": "Uf0qgAo0G8cq",
        "colab_type": "text"
      },
      "source": [
        "#### Findings:\n",
        "Top three roles facing attrition\n",
        "- 26% of employees who are likely to quit belong to Laboratory Technician group\n",
        "- 24% of employees belong to Sales Executive group\n",
        "- 19% of employees belong to Research Scientist group"
      ]
    },
    {
      "cell_type": "markdown",
      "metadata": {
        "id": "M84OFYjsG8cq",
        "colab_type": "text"
      },
      "source": [
        "### 3.3.8 Marital Status vs Attrition"
      ]
    },
    {
      "cell_type": "markdown",
      "metadata": {
        "id": "kqVXsM_WG8cr",
        "colab_type": "text"
      },
      "source": [
        "Categories:\n",
        "    1. 'Divorced': 0\n",
        "    2. 'Married' : 1\n",
        "    3. 'Single'  : 2"
      ]
    },
    {
      "cell_type": "code",
      "metadata": {
        "id": "Fc0bcDqpG8cs",
        "colab_type": "code",
        "colab": {
          "base_uri": "https://localhost:8080/",
          "height": 442
        },
        "outputId": "0d68295b-58c5-43ac-b9bb-29203f266324"
      },
      "source": [
        "#analyzing employees who has positive attrition\n",
        "\n",
        "positive_attrition_df['MaritalStatus'].value_counts().plot(kind='bar')"
      ],
      "execution_count": 35,
      "outputs": [
        {
          "output_type": "execute_result",
          "data": {
            "text/plain": [
              "<matplotlib.axes._subplots.AxesSubplot at 0x7fd0f32b9a20>"
            ]
          },
          "metadata": {
            "tags": []
          },
          "execution_count": 35
        },
        {
          "output_type": "display_data",
          "data": {
            "image/png": "[encoded data removed]",
            "text/plain": [
              "<Figure size 504x504 with 1 Axes>"
            ]
          },
          "metadata": {
            "tags": []
          }
        }
      ]
    },
    {
      "cell_type": "markdown",
      "metadata": {
        "id": "sK-dPve_G8ct",
        "colab_type": "text"
      },
      "source": [
        "#### Inference:\n",
        "Nearly 50 % of the employees who are single are likely to quit"
      ]
    },
    {
      "cell_type": "markdown",
      "metadata": {
        "id": "XohToaq2G8cu",
        "colab_type": "text"
      },
      "source": [
        "### 3.3.9 Monthly Income vs Attrition"
      ]
    },
    {
      "cell_type": "code",
      "metadata": {
        "id": "mqWQMuWXG8cu",
        "colab_type": "code",
        "colab": {
          "base_uri": "https://localhost:8080/",
          "height": 442
        },
        "outputId": "9ec8db47-e4dc-415d-e99b-caf98bd58149"
      },
      "source": [
        "sns.distplot(negative_attrition_df['MonthlyIncome'], label='Negative attrition')\n",
        "sns.distplot(positive_attrition_df['MonthlyIncome'], label='positive attrition')\n",
        "plt.legend()\n",
        "plt.show()"
      ],
      "execution_count": 36,
      "outputs": [
        {
          "output_type": "display_data",
          "data": {
            "image/png": "[encoded data removed]",
            "text/plain": [
              "<Figure size 504x504 with 1 Axes>"
            ]
          },
          "metadata": {
            "tags": []
          }
        }
      ]
    },
    {
      "cell_type": "markdown",
      "metadata": {
        "id": "vq_h40ZcG8cw",
        "colab_type": "text"
      },
      "source": [
        "Inference:\n",
        "    Looks like people who are less likely to leave the company are the ones who are less paid."
      ]
    },
    {
      "cell_type": "markdown",
      "metadata": {
        "id": "hj_1yeO2G8cw",
        "colab_type": "text"
      },
      "source": [
        "## 4. Model Development"
      ]
    },
    {
      "cell_type": "markdown",
      "metadata": {
        "id": "LNQLznEXG8cx",
        "colab_type": "text"
      },
      "source": [
        "## 4.1 Extracting label from input data"
      ]
    },
    {
      "cell_type": "code",
      "metadata": {
        "id": "tuADGzQ9G8cx",
        "colab_type": "code",
        "colab": {}
      },
      "source": [
        "input_data = data_encoded.drop(['Attrition'], axis=1)"
      ],
      "execution_count": 0,
      "outputs": []
    },
    {
      "cell_type": "code",
      "metadata": {
        "id": "_9u9iCHSG8c0",
        "colab_type": "code",
        "colab": {
          "base_uri": "https://localhost:8080/",
          "height": 224
        },
        "outputId": "f28693f5-4b44-4ca6-f011-df7e178aaae1"
      },
      "source": [
        "input_data.head()"
      ],
      "execution_count": 38,
      "outputs": [
        {
          "output_type": "execute_result",
          "data": {
            "text/html": [
              "<div>\n",
              "<style scoped>\n",
              "    .dataframe tbody tr th:only-of-type {\n",
              "        vertical-align: middle;\n",
              "    }\n",
              "\n",
              "    .dataframe tbody tr th {\n",
              "        vertical-align: top;\n",
              "    }\n",
              "\n",
              "    .dataframe thead th {\n",
              "        text-align: right;\n",
              "    }\n",
              "</style>\n",
              "<table border=\"1\" class=\"dataframe\">\n",
              "  <thead>\n",
              "    <tr style=\"text-align: right;\">\n",
              "      <th></th>\n",
              "      <th>Age</th>\n",
              "      <th>BusinessTravel</th>\n",
              "      <th>Department</th>\n",
              "      <th>DistanceFromHome</th>\n",
              "      <th>Education</th>\n",
              "      <th>EnvironmentSatisfaction</th>\n",
              "      <th>Gender</th>\n",
              "      <th>JobInvolvement</th>\n",
              "      <th>JobLevel</th>\n",
              "      <th>JobRole</th>\n",
              "      <th>JobSatisfaction</th>\n",
              "      <th>MaritalStatus</th>\n",
              "      <th>MonthlyIncome</th>\n",
              "      <th>NumCompaniesWorked</th>\n",
              "      <th>OverTime</th>\n",
              "      <th>PercentSalaryHike</th>\n",
              "      <th>PerformanceRating</th>\n",
              "      <th>StockOptionLevel</th>\n",
              "      <th>TotalWorkingYears</th>\n",
              "      <th>TrainingTimesLastYear</th>\n",
              "      <th>WorkLifeBalance</th>\n",
              "      <th>YearsAtCompany</th>\n",
              "      <th>YearsInCurrentRole</th>\n",
              "      <th>YearsSinceLastPromotion</th>\n",
              "      <th>YearsWithCurrManager</th>\n",
              "    </tr>\n",
              "  </thead>\n",
              "  <tbody>\n",
              "    <tr>\n",
              "      <th>0</th>\n",
              "      <td>41</td>\n",
              "      <td>2</td>\n",
              "      <td>2</td>\n",
              "      <td>1</td>\n",
              "      <td>2</td>\n",
              "      <td>2</td>\n",
              "      <td>0</td>\n",
              "      <td>3</td>\n",
              "      <td>2</td>\n",
              "      <td>7</td>\n",
              "      <td>4</td>\n",
              "      <td>2</td>\n",
              "      <td>5993</td>\n",
              "      <td>8</td>\n",
              "      <td>1</td>\n",
              "      <td>11</td>\n",
              "      <td>3</td>\n",
              "      <td>0</td>\n",
              "      <td>8</td>\n",
              "      <td>0</td>\n",
              "      <td>1</td>\n",
              "      <td>6</td>\n",
              "      <td>4</td>\n",
              "      <td>0</td>\n",
              "      <td>5</td>\n",
              "    </tr>\n",
              "    <tr>\n",
              "      <th>1</th>\n",
              "      <td>49</td>\n",
              "      <td>1</td>\n",
              "      <td>1</td>\n",
              "      <td>8</td>\n",
              "      <td>1</td>\n",
              "      <td>3</td>\n",
              "      <td>1</td>\n",
              "      <td>2</td>\n",
              "      <td>2</td>\n",
              "      <td>6</td>\n",
              "      <td>2</td>\n",
              "      <td>1</td>\n",
              "      <td>5130</td>\n",
              "      <td>1</td>\n",
              "      <td>0</td>\n",
              "      <td>23</td>\n",
              "      <td>4</td>\n",
              "      <td>1</td>\n",
              "      <td>10</td>\n",
              "      <td>3</td>\n",
              "      <td>3</td>\n",
              "      <td>10</td>\n",
              "      <td>7</td>\n",
              "      <td>1</td>\n",
              "      <td>7</td>\n",
              "    </tr>\n",
              "    <tr>\n",
              "      <th>2</th>\n",
              "      <td>37</td>\n",
              "      <td>2</td>\n",
              "      <td>1</td>\n",
              "      <td>2</td>\n",
              "      <td>2</td>\n",
              "      <td>4</td>\n",
              "      <td>1</td>\n",
              "      <td>2</td>\n",
              "      <td>1</td>\n",
              "      <td>2</td>\n",
              "      <td>3</td>\n",
              "      <td>2</td>\n",
              "      <td>2090</td>\n",
              "      <td>6</td>\n",
              "      <td>1</td>\n",
              "      <td>15</td>\n",
              "      <td>3</td>\n",
              "      <td>0</td>\n",
              "      <td>7</td>\n",
              "      <td>3</td>\n",
              "      <td>3</td>\n",
              "      <td>0</td>\n",
              "      <td>0</td>\n",
              "      <td>0</td>\n",
              "      <td>0</td>\n",
              "    </tr>\n",
              "    <tr>\n",
              "      <th>3</th>\n",
              "      <td>33</td>\n",
              "      <td>1</td>\n",
              "      <td>1</td>\n",
              "      <td>3</td>\n",
              "      <td>4</td>\n",
              "      <td>4</td>\n",
              "      <td>0</td>\n",
              "      <td>3</td>\n",
              "      <td>1</td>\n",
              "      <td>6</td>\n",
              "      <td>3</td>\n",
              "      <td>1</td>\n",
              "      <td>2909</td>\n",
              "      <td>1</td>\n",
              "      <td>1</td>\n",
              "      <td>11</td>\n",
              "      <td>3</td>\n",
              "      <td>0</td>\n",
              "      <td>8</td>\n",
              "      <td>3</td>\n",
              "      <td>3</td>\n",
              "      <td>8</td>\n",
              "      <td>7</td>\n",
              "      <td>3</td>\n",
              "      <td>0</td>\n",
              "    </tr>\n",
              "    <tr>\n",
              "      <th>4</th>\n",
              "      <td>27</td>\n",
              "      <td>2</td>\n",
              "      <td>1</td>\n",
              "      <td>2</td>\n",
              "      <td>1</td>\n",
              "      <td>1</td>\n",
              "      <td>1</td>\n",
              "      <td>3</td>\n",
              "      <td>1</td>\n",
              "      <td>2</td>\n",
              "      <td>2</td>\n",
              "      <td>1</td>\n",
              "      <td>3468</td>\n",
              "      <td>9</td>\n",
              "      <td>0</td>\n",
              "      <td>12</td>\n",
              "      <td>3</td>\n",
              "      <td>1</td>\n",
              "      <td>6</td>\n",
              "      <td>3</td>\n",
              "      <td>3</td>\n",
              "      <td>2</td>\n",
              "      <td>2</td>\n",
              "      <td>2</td>\n",
              "      <td>2</td>\n",
              "    </tr>\n",
              "  </tbody>\n",
              "</table>\n",
              "</div>"
            ],
            "text/plain": [
              "   Age  BusinessTravel  ...  YearsSinceLastPromotion  YearsWithCurrManager\n",
              "0   41               2  ...                        0                     5\n",
              "1   49               1  ...                        1                     7\n",
              "2   37               2  ...                        0                     0\n",
              "3   33               1  ...                        3                     0\n",
              "4   27               2  ...                        2                     2\n",
              "\n",
              "[5 rows x 25 columns]"
            ]
          },
          "metadata": {
            "tags": []
          },
          "execution_count": 38
        }
      ]
    },
    {
      "cell_type": "code",
      "metadata": {
        "id": "HYnoraXDG8c2",
        "colab_type": "code",
        "colab": {}
      },
      "source": [
        "target_data = data_encoded[['Attrition']]"
      ],
      "execution_count": 0,
      "outputs": []
    },
    {
      "cell_type": "code",
      "metadata": {
        "id": "DQCtuXJ0G8c5",
        "colab_type": "code",
        "colab": {
          "base_uri": "https://localhost:8080/",
          "height": 204
        },
        "outputId": "bc9c2471-9911-4e3d-d664-2d9750713e3a"
      },
      "source": [
        "target_data.head()"
      ],
      "execution_count": 40,
      "outputs": [
        {
          "output_type": "execute_result",
          "data": {
            "text/html": [
              "<div>\n",
              "<style scoped>\n",
              "    .dataframe tbody tr th:only-of-type {\n",
              "        vertical-align: middle;\n",
              "    }\n",
              "\n",
              "    .dataframe tbody tr th {\n",
              "        vertical-align: top;\n",
              "    }\n",
              "\n",
              "    .dataframe thead th {\n",
              "        text-align: right;\n",
              "    }\n",
              "</style>\n",
              "<table border=\"1\" class=\"dataframe\">\n",
              "  <thead>\n",
              "    <tr style=\"text-align: right;\">\n",
              "      <th></th>\n",
              "      <th>Attrition</th>\n",
              "    </tr>\n",
              "  </thead>\n",
              "  <tbody>\n",
              "    <tr>\n",
              "      <th>0</th>\n",
              "      <td>1</td>\n",
              "    </tr>\n",
              "    <tr>\n",
              "      <th>1</th>\n",
              "      <td>0</td>\n",
              "    </tr>\n",
              "    <tr>\n",
              "      <th>2</th>\n",
              "      <td>1</td>\n",
              "    </tr>\n",
              "    <tr>\n",
              "      <th>3</th>\n",
              "      <td>0</td>\n",
              "    </tr>\n",
              "    <tr>\n",
              "      <th>4</th>\n",
              "      <td>0</td>\n",
              "    </tr>\n",
              "  </tbody>\n",
              "</table>\n",
              "</div>"
            ],
            "text/plain": [
              "   Attrition\n",
              "0          1\n",
              "1          0\n",
              "2          1\n",
              "3          0\n",
              "4          0"
            ]
          },
          "metadata": {
            "tags": []
          },
          "execution_count": 40
        }
      ]
    },
    {
      "cell_type": "code",
      "metadata": {
        "id": "PIJxjgcOG8c7",
        "colab_type": "code",
        "colab": {
          "base_uri": "https://localhost:8080/",
          "height": 34
        },
        "outputId": "27fed48a-0ed5-4d8e-ce1d-3a7758ae3040"
      },
      "source": [
        "len(input_data.columns)"
      ],
      "execution_count": 41,
      "outputs": [
        {
          "output_type": "execute_result",
          "data": {
            "text/plain": [
              "25"
            ]
          },
          "metadata": {
            "tags": []
          },
          "execution_count": 41
        }
      ]
    },
    {
      "cell_type": "markdown",
      "metadata": {
        "id": "Wf6FtHbGG8c8",
        "colab_type": "text"
      },
      "source": [
        "## 4.2 Feature Selection"
      ]
    },
    {
      "cell_type": "markdown",
      "metadata": {
        "id": "xjItdtM_G8c9",
        "colab_type": "text"
      },
      "source": [
        "It is the process of choosing the best features that can be used in the predictive modeling. \n",
        "\n",
        "1. Fight against the curse of dimensionality.\n",
        "2. Reduce the overall training time.\n",
        "3. Defense against overfitting.\n",
        "4. Increase model generalizability.\n",
        "\n",
        "Some of the feature selection methods are,\n",
        "1. Filter methods\n",
        "   - F Test\n",
        "   - Mutual information\n",
        "   - Variance threshold\n",
        "   - Chi Square\n",
        "   - Correlation coefficient \n",
        "   - ANNOVA\n",
        "   - LDA\n",
        "2. Wrapper methods\n",
        "   - Forward search\n",
        "   - Backward selection\n",
        "   - Recursive feature elimination\n",
        "3. Embedded methods\n",
        "   - LASSO Linear Regression"
      ]
    },
    {
      "cell_type": "code",
      "metadata": {
        "id": "5CVqrhwjG8c9",
        "colab_type": "code",
        "colab": {
          "base_uri": "https://localhost:8080/",
          "height": 170
        },
        "outputId": "22b100ae-c324-48ea-bb83-184316e02b51"
      },
      "source": [
        "input_data.columns"
      ],
      "execution_count": 42,
      "outputs": [
        {
          "output_type": "execute_result",
          "data": {
            "text/plain": [
              "Index(['Age', 'BusinessTravel', 'Department', 'DistanceFromHome', 'Education',\n",
              "       'EnvironmentSatisfaction', 'Gender', 'JobInvolvement', 'JobLevel',\n",
              "       'JobRole', 'JobSatisfaction', 'MaritalStatus', 'MonthlyIncome',\n",
              "       'NumCompaniesWorked', 'OverTime', 'PercentSalaryHike',\n",
              "       'PerformanceRating', 'StockOptionLevel', 'TotalWorkingYears',\n",
              "       'TrainingTimesLastYear', 'WorkLifeBalance', 'YearsAtCompany',\n",
              "       'YearsInCurrentRole', 'YearsSinceLastPromotion',\n",
              "       'YearsWithCurrManager'],\n",
              "      dtype='object')"
            ]
          },
          "metadata": {
            "tags": []
          },
          "execution_count": 42
        }
      ]
    },
    {
      "cell_type": "code",
      "metadata": {
        "id": "9y8ulAoNG8c_",
        "colab_type": "code",
        "colab": {}
      },
      "source": [
        "col_values = list(input_data.columns.values)"
      ],
      "execution_count": 0,
      "outputs": []
    },
    {
      "cell_type": "markdown",
      "metadata": {
        "id": "rCwQI7CYG8dC",
        "colab_type": "text"
      },
      "source": [
        "#### chi-square\n",
        "\n",
        "chi-square test is applied to test the independence of two events. This method is used to evaluate the likelihood of correlation or association between features using their frequency distribution. This works best with categorial features."
      ]
    },
    {
      "cell_type": "code",
      "metadata": {
        "id": "zkN9MErKG8dF",
        "colab_type": "code",
        "colab": {
          "base_uri": "https://localhost:8080/",
          "height": 306
        },
        "outputId": "23f10582-2d28-4a6d-9f70-78a507fef563"
      },
      "source": [
        "#gives top 10 features having maximum chi-square value\n",
        "feature_scores = chi2(input_data, target_data)[0]\n",
        "for score, fname in sorted(zip(feature_scores, col_values), reverse=True)[:17]:\n",
        "    print(fname, score)"
      ],
      "execution_count": 44,
      "outputs": [
        {
          "output_type": "stream",
          "text": [
            "MonthlyIncome 127922.29369381821\n",
            "TotalWorkingYears 230.72161773754925\n",
            "YearsAtCompany 142.10005430324915\n",
            "YearsInCurrentRole 117.5225958913567\n",
            "YearsWithCurrManager 110.6715338985734\n",
            "Age 84.15527681001525\n",
            "OverTime 63.84506671452294\n",
            "DistanceFromHome 63.77214163101213\n",
            "StockOptionLevel 25.26882603175403\n",
            "JobLevel 24.93924234571862\n",
            "MaritalStatus 18.745657458341153\n",
            "JobRole 9.004448467467538\n",
            "YearsSinceLastPromotion 7.601723473243281\n",
            "JobSatisfaction 7.011946634881222\n",
            "EnvironmentSatisfaction 6.890594338387591\n",
            "NumCompaniesWorked 6.438654443594589\n",
            "JobInvolvement 4.60561606667209\n"
          ],
          "name": "stdout"
        }
      ]
    },
    {
      "cell_type": "code",
      "metadata": {
        "id": "uZjZXjCxG8dH",
        "colab_type": "code",
        "colab": {
          "base_uri": "https://localhost:8080/",
          "height": 34
        },
        "outputId": "96c1deda-f156-45ac-e1b8-9896807b98f4"
      },
      "source": [
        "df_data.shape"
      ],
      "execution_count": 45,
      "outputs": [
        {
          "output_type": "execute_result",
          "data": {
            "text/plain": [
              "(1470, 26)"
            ]
          },
          "metadata": {
            "tags": []
          },
          "execution_count": 45
        }
      ]
    },
    {
      "cell_type": "code",
      "metadata": {
        "id": "qZo1pIPuG8dJ",
        "colab_type": "code",
        "colab": {}
      },
      "source": [
        "#column selection based on feature selection \n",
        "data_selected = data_encoded[['MonthlyIncome', 'TotalWorkingYears', 'YearsAtCompany', 'YearsInCurrentRole', \n",
        "                      'YearsWithCurrManager', 'Age', 'OverTime', 'DistanceFromHome', 'StockOptionLevel',\n",
        "                      'JobLevel', 'JobRole', 'WorkLifeBalance', 'Gender', 'Attrition']]"
      ],
      "execution_count": 0,
      "outputs": []
    },
    {
      "cell_type": "code",
      "metadata": {
        "id": "_RGkOJpyG8dK",
        "colab_type": "code",
        "colab": {
          "base_uri": "https://localhost:8080/",
          "height": 224
        },
        "outputId": "46add75e-c722-446a-930a-2f616dddfef8"
      },
      "source": [
        "data_selected.head()"
      ],
      "execution_count": 64,
      "outputs": [
        {
          "output_type": "execute_result",
          "data": {
            "text/html": [
              "<div>\n",
              "<style scoped>\n",
              "    .dataframe tbody tr th:only-of-type {\n",
              "        vertical-align: middle;\n",
              "    }\n",
              "\n",
              "    .dataframe tbody tr th {\n",
              "        vertical-align: top;\n",
              "    }\n",
              "\n",
              "    .dataframe thead th {\n",
              "        text-align: right;\n",
              "    }\n",
              "</style>\n",
              "<table border=\"1\" class=\"dataframe\">\n",
              "  <thead>\n",
              "    <tr style=\"text-align: right;\">\n",
              "      <th></th>\n",
              "      <th>MonthlyIncome</th>\n",
              "      <th>TotalWorkingYears</th>\n",
              "      <th>YearsAtCompany</th>\n",
              "      <th>YearsInCurrentRole</th>\n",
              "      <th>YearsWithCurrManager</th>\n",
              "      <th>Age</th>\n",
              "      <th>OverTime</th>\n",
              "      <th>DistanceFromHome</th>\n",
              "      <th>StockOptionLevel</th>\n",
              "      <th>JobLevel</th>\n",
              "      <th>JobRole</th>\n",
              "      <th>WorkLifeBalance</th>\n",
              "      <th>Gender</th>\n",
              "      <th>Attrition</th>\n",
              "    </tr>\n",
              "  </thead>\n",
              "  <tbody>\n",
              "    <tr>\n",
              "      <th>0</th>\n",
              "      <td>5993</td>\n",
              "      <td>8</td>\n",
              "      <td>6</td>\n",
              "      <td>4</td>\n",
              "      <td>5</td>\n",
              "      <td>41</td>\n",
              "      <td>1</td>\n",
              "      <td>1</td>\n",
              "      <td>0</td>\n",
              "      <td>2</td>\n",
              "      <td>7</td>\n",
              "      <td>1</td>\n",
              "      <td>0</td>\n",
              "      <td>1</td>\n",
              "    </tr>\n",
              "    <tr>\n",
              "      <th>1</th>\n",
              "      <td>5130</td>\n",
              "      <td>10</td>\n",
              "      <td>10</td>\n",
              "      <td>7</td>\n",
              "      <td>7</td>\n",
              "      <td>49</td>\n",
              "      <td>0</td>\n",
              "      <td>8</td>\n",
              "      <td>1</td>\n",
              "      <td>2</td>\n",
              "      <td>6</td>\n",
              "      <td>3</td>\n",
              "      <td>1</td>\n",
              "      <td>0</td>\n",
              "    </tr>\n",
              "    <tr>\n",
              "      <th>2</th>\n",
              "      <td>2090</td>\n",
              "      <td>7</td>\n",
              "      <td>0</td>\n",
              "      <td>0</td>\n",
              "      <td>0</td>\n",
              "      <td>37</td>\n",
              "      <td>1</td>\n",
              "      <td>2</td>\n",
              "      <td>0</td>\n",
              "      <td>1</td>\n",
              "      <td>2</td>\n",
              "      <td>3</td>\n",
              "      <td>1</td>\n",
              "      <td>1</td>\n",
              "    </tr>\n",
              "    <tr>\n",
              "      <th>3</th>\n",
              "      <td>2909</td>\n",
              "      <td>8</td>\n",
              "      <td>8</td>\n",
              "      <td>7</td>\n",
              "      <td>0</td>\n",
              "      <td>33</td>\n",
              "      <td>1</td>\n",
              "      <td>3</td>\n",
              "      <td>0</td>\n",
              "      <td>1</td>\n",
              "      <td>6</td>\n",
              "      <td>3</td>\n",
              "      <td>0</td>\n",
              "      <td>0</td>\n",
              "    </tr>\n",
              "    <tr>\n",
              "      <th>4</th>\n",
              "      <td>3468</td>\n",
              "      <td>6</td>\n",
              "      <td>2</td>\n",
              "      <td>2</td>\n",
              "      <td>2</td>\n",
              "      <td>27</td>\n",
              "      <td>0</td>\n",
              "      <td>2</td>\n",
              "      <td>1</td>\n",
              "      <td>1</td>\n",
              "      <td>2</td>\n",
              "      <td>3</td>\n",
              "      <td>1</td>\n",
              "      <td>0</td>\n",
              "    </tr>\n",
              "  </tbody>\n",
              "</table>\n",
              "</div>"
            ],
            "text/plain": [
              "   MonthlyIncome  TotalWorkingYears  ...  Gender  Attrition\n",
              "0           5993                  8  ...       0          1\n",
              "1           5130                 10  ...       1          0\n",
              "2           2090                  7  ...       1          1\n",
              "3           2909                  8  ...       0          0\n",
              "4           3468                  6  ...       1          0\n",
              "\n",
              "[5 rows x 14 columns]"
            ]
          },
          "metadata": {
            "tags": []
          },
          "execution_count": 64
        }
      ]
    },
    {
      "cell_type": "code",
      "metadata": {
        "id": "LA8uZ3kHG8dM",
        "colab_type": "code",
        "colab": {
          "base_uri": "https://localhost:8080/",
          "height": 34
        },
        "outputId": "abba3463-8de6-4b09-c82c-1843a121331d"
      },
      "source": [
        "len(data_selected.columns)"
      ],
      "execution_count": 65,
      "outputs": [
        {
          "output_type": "execute_result",
          "data": {
            "text/plain": [
              "14"
            ]
          },
          "metadata": {
            "tags": []
          },
          "execution_count": 65
        }
      ]
    },
    {
      "cell_type": "code",
      "metadata": {
        "id": "4dmMjvrhG8dO",
        "colab_type": "code",
        "colab": {
          "base_uri": "https://localhost:8080/",
          "height": 34
        },
        "outputId": "abda1483-40ab-4519-9b28-2971a404b635"
      },
      "source": [
        "data_selected.shape"
      ],
      "execution_count": 66,
      "outputs": [
        {
          "output_type": "execute_result",
          "data": {
            "text/plain": [
              "(1470, 14)"
            ]
          },
          "metadata": {
            "tags": []
          },
          "execution_count": 66
        }
      ]
    },
    {
      "cell_type": "code",
      "metadata": {
        "id": "3QXdMngRG8dU",
        "colab_type": "code",
        "colab": {}
      },
      "source": [
        "input_data = data_selected.drop(['Attrition'], axis=1)\n",
        "target_data = data_selected[['Attrition']]"
      ],
      "execution_count": 0,
      "outputs": []
    },
    {
      "cell_type": "code",
      "metadata": {
        "id": "bnQnpbVJKC-H",
        "colab_type": "code",
        "colab": {
          "base_uri": "https://localhost:8080/",
          "height": 255
        },
        "outputId": "c35718ea-e1a6-42c2-abf6-50b1f2190f89"
      },
      "source": [
        "input_data.dtypes"
      ],
      "execution_count": 69,
      "outputs": [
        {
          "output_type": "execute_result",
          "data": {
            "text/plain": [
              "MonthlyIncome           int64\n",
              "TotalWorkingYears       int64\n",
              "YearsAtCompany          int64\n",
              "YearsInCurrentRole      int64\n",
              "YearsWithCurrManager    int64\n",
              "Age                     int64\n",
              "OverTime                int64\n",
              "DistanceFromHome        int64\n",
              "StockOptionLevel        int64\n",
              "JobLevel                int64\n",
              "JobRole                 int64\n",
              "WorkLifeBalance         int64\n",
              "Gender                  int64\n",
              "dtype: object"
            ]
          },
          "metadata": {
            "tags": []
          },
          "execution_count": 69
        }
      ]
    },
    {
      "cell_type": "markdown",
      "metadata": {
        "id": "A_xB8J4DG8da",
        "colab_type": "text"
      },
      "source": [
        "#### Get Train, Validation and test data"
      ]
    },
    {
      "cell_type": "code",
      "metadata": {
        "id": "2O1DNp77G8db",
        "colab_type": "code",
        "colab": {}
      },
      "source": [
        "train_data = data_selected[0:1400]\n",
        "train_input_data = train_data.drop(['Attrition'], axis=1)\n",
        "train_target_data = train_data[['Attrition']]"
      ],
      "execution_count": 0,
      "outputs": []
    },
    {
      "cell_type": "code",
      "metadata": {
        "id": "NZgV6qsHG8de",
        "colab_type": "code",
        "colab": {
          "base_uri": "https://localhost:8080/",
          "height": 68
        },
        "outputId": "b5817ebd-d4ce-4fd1-c03f-ba5193f0c8a1"
      },
      "source": [
        "#Using 1 sample as test data to check deployment\n",
        "test_data = data_selected[1400:]\n",
        "print('Shape of the test data is ', test_data.shape)\n",
        "test_input_data = test_data.drop(['Attrition'], axis=1)\n",
        "print('Shape of the test input data is ', test_input_data.shape)\n",
        "test_target_data = test_data[['Attrition']]\n",
        "print('Shape of the test target data is ', test_target_data.shape)\n"
      ],
      "execution_count": 127,
      "outputs": [
        {
          "output_type": "stream",
          "text": [
            "Shape of the test data is  (70, 14)\n",
            "Shape of the test input data is  (70, 13)\n",
            "Shape of the test target data is  (70, 1)\n"
          ],
          "name": "stdout"
        }
      ]
    },
    {
      "cell_type": "markdown",
      "metadata": {
        "id": "hCG9-vpKG8dg",
        "colab_type": "text"
      },
      "source": [
        "## 4.4 Algorithm "
      ]
    },
    {
      "cell_type": "markdown",
      "metadata": {
        "id": "cjpk4CTbG8dg",
        "colab_type": "text"
      },
      "source": [
        "This is a highly unbalanced data. Class 0 covers 83.88% of the data whereas class 1 covers 16.12% of the data. Following are the few ways to handle unbalance data.\n",
        "\n",
        "1. Data Level Approach\n",
        "   - Random under-sampling\n",
        "   - Cluster based over sampling\n",
        "   - Synthetic Minority Over-sampling Technique\n",
        "   - Modified Synthetic Minority Over-sampling Technique\n",
        "2. Algorithm Ensemble\n",
        "   - Bagging\n",
        "   - Boosting\n",
        "     - Adaptive Boosting (Ada-boost)\n",
        "     - Gradient Tree Boosting\n",
        "     - XGBoost\n",
        "     \n",
        "     \n",
        "In our model, XGBoost ensemble technique is used."
      ]
    },
    {
      "cell_type": "markdown",
      "metadata": {
        "id": "oYC7aNUPG8dh",
        "colab_type": "text"
      },
      "source": [
        "\n",
        "\n",
        "Many weak and inaccurate classifiers are combined to produce a highly accurate prediction. The classifer is serially trained. Samples that are misclassified in previous round are given more focus. Initially weight is equal for all the samples. Weight of misclassified instances are increased each time and weight of correctly classified instances are decreased, this will let more misclassfied sampled to be selected for the next round. After each classifier is trained, the weight is assigned to the classifier as well based on accuracy. More accurate classifier is assigned higher weight so that it will have more impact in final outcome."
      ]
    },
    {
      "cell_type": "code",
      "metadata": {
        "tags": [],
        "id": "3SEM2Y7BG8dh",
        "colab_type": "code",
        "colab": {
          "base_uri": "https://localhost:8080/",
          "height": 68
        },
        "outputId": "25503d78-1cd3-4e60-e645-7abe18f2dc55"
      },
      "source": [
        "!pip install xgboost\r\n",
        "\r\n"
      ],
      "execution_count": 58,
      "outputs": [
        {
          "output_type": "stream",
          "text": [
            "Requirement already satisfied: xgboost in /usr/local/lib/python3.6/dist-packages (0.90)\n",
            "Requirement already satisfied: scipy in /usr/local/lib/python3.6/dist-packages (from xgboost) (1.4.1)\n",
            "Requirement already satisfied: numpy in /usr/local/lib/python3.6/dist-packages (from xgboost) (1.17.5)\n"
          ],
          "name": "stdout"
        }
      ]
    },
    {
      "cell_type": "code",
      "metadata": {
        "tags": [],
        "id": "oTzMwi-0G8di",
        "colab_type": "code",
        "colab": {}
      },
      "source": [
        "import xgboost"
      ],
      "execution_count": 0,
      "outputs": []
    },
    {
      "cell_type": "code",
      "metadata": {
        "id": "-45o789kG8dj",
        "colab_type": "code",
        "colab": {}
      },
      "source": [
        "#n_estimators is the maximum number of estimators at which the boosting is terminated. Default is 50 and this can be tuned as well.\n",
        "from sklearn.model_selection import GridSearchCV\n",
        "from sklearn.model_selection import cross_val_score"
      ],
      "execution_count": 0,
      "outputs": []
    },
    {
      "cell_type": "markdown",
      "metadata": {
        "id": "VGuz_vs2G8dn",
        "colab_type": "text"
      },
      "source": [
        "Classification model can be evaluated using different metrics. Some of the important metrics are:\n",
        "    1. Confusion matrix\n",
        "    2. Accuracy\n",
        "    3. Precision\n",
        "    4. Recall\n",
        "    5. Specificity\n",
        "    6. F1-Score\n",
        "here we are using accuracy"
      ]
    },
    {
      "cell_type": "code",
      "metadata": {
        "id": "Cl5Prbh5G8do",
        "colab_type": "code",
        "colab": {
          "base_uri": "https://localhost:8080/",
          "height": 323
        },
        "outputId": "db31ad9a-507e-4da1-9d02-ed7ec26bda38"
      },
      "source": [
        "#finding best estimator\n",
        "#tune other parameters for better accuracy\n",
        "param_test1 = {\n",
        " 'max_depth':range(3,10,2),\n",
        " 'min_child_weight':range(1,6,2),\n",
        " 'estimator':[100, 150, 200,300, 400, 500,600,800,1000]\n",
        "}\n",
        "gsearch1 = GridSearchCV(estimator = xgboost.XGBClassifier( learning_rate =0.02, n_estimators=140, max_depth=5,\n",
        " min_child_weight=1,objective= 'binary:logistic',seed=27), \n",
        " param_grid = param_test1, scoring='accuracy',iid=False, cv=5)\n",
        "gsearch1.fit(train_input_data,train_target_data)"
      ],
      "execution_count": 132,
      "outputs": [
        {
          "output_type": "execute_result",
          "data": {
            "text/plain": [
              "GridSearchCV(cv=5, error_score=nan,\n",
              "             estimator=XGBClassifier(base_score=0.5, booster='gbtree',\n",
              "                                     colsample_bylevel=1, colsample_bynode=1,\n",
              "                                     colsample_bytree=1, gamma=0,\n",
              "                                     learning_rate=0.02, max_delta_step=0,\n",
              "                                     max_depth=5, min_child_weight=1,\n",
              "                                     missing=None, n_estimators=140, n_jobs=1,\n",
              "                                     nthread=None, objective='binary:logistic',\n",
              "                                     random_state=0, reg_alpha=0, reg_lambda=1,\n",
              "                                     scale_pos_weight=1, seed=27, silent=None,\n",
              "                                     subsample=1, verbosity=1),\n",
              "             iid=False, n_jobs=None,\n",
              "             param_grid={'estimator': [100, 150, 200, 300, 400, 500, 600, 800,\n",
              "                                       1000],\n",
              "                         'max_depth': range(3, 10, 2),\n",
              "                         'min_child_weight': range(1, 6, 2)},\n",
              "             pre_dispatch='2*n_jobs', refit=True, return_train_score=False,\n",
              "             scoring='accuracy', verbose=0)"
            ]
          },
          "metadata": {
            "tags": []
          },
          "execution_count": 132
        }
      ]
    },
    {
      "cell_type": "code",
      "metadata": {
        "id": "UHHjb1NUXYCt",
        "colab_type": "code",
        "colab": {
          "base_uri": "https://localhost:8080/",
          "height": 34
        },
        "outputId": "9a5ecf90-167c-4e17-b03c-57a04894e111"
      },
      "source": [
        " gsearch1.best_params_, gsearch1.best_score_"
      ],
      "execution_count": 133,
      "outputs": [
        {
          "output_type": "execute_result",
          "data": {
            "text/plain": [
              "({'estimator': 100, 'max_depth': 9, 'min_child_weight': 5}, 0.8514285714285714)"
            ]
          },
          "metadata": {
            "tags": []
          },
          "execution_count": 133
        }
      ]
    },
    {
      "cell_type": "code",
      "metadata": {
        "id": "2evjCtIiG8dq",
        "colab_type": "code",
        "colab": {
          "base_uri": "https://localhost:8080/",
          "height": 136
        },
        "outputId": "eecb5da1-6bc3-455e-f956-9ae569ff6416"
      },
      "source": [
        "#Choose the best estimator value from above and replace the 'num_of_estimators' with the value.and other parameters\n",
        "num_of_estimators =100\n",
        "cls = xgboost.XGBClassifier(learning_rate=0.02, n_estimators=num_of_estimators, objective='binary:logistic',max_depth=9, min_child_weight=5,seed=27)\n",
        "cls.fit(train_input_data, train_target_data)\n",
        "\n"
      ],
      "execution_count": 146,
      "outputs": [
        {
          "output_type": "execute_result",
          "data": {
            "text/plain": [
              "XGBClassifier(base_score=0.5, booster='gbtree', colsample_bylevel=1,\n",
              "              colsample_bynode=1, colsample_bytree=1, gamma=0,\n",
              "              learning_rate=0.02, max_delta_step=0, max_depth=9,\n",
              "              min_child_weight=5, missing=None, n_estimators=100, n_jobs=1,\n",
              "              nthread=None, objective='binary:logistic', random_state=0,\n",
              "              reg_alpha=0, reg_lambda=1, scale_pos_weight=1, seed=27,\n",
              "              silent=None, subsample=1, verbosity=1)"
            ]
          },
          "metadata": {
            "tags": []
          },
          "execution_count": 146
        }
      ]
    },
    {
      "cell_type": "markdown",
      "metadata": {
        "id": "RL2aSGBoG8ds",
        "colab_type": "text"
      },
      "source": [
        "For better accuracy,\n",
        "1. Tune hyper-parameters.\n",
        "2. Try above mentioned methods for handling unbalanced data."
      ]
    },
    {
      "cell_type": "code",
      "metadata": {
        "id": "HrmTAgvcG8dt",
        "colab_type": "code",
        "colab": {
          "base_uri": "https://localhost:8080/",
          "height": 85
        },
        "outputId": "a196eb1a-3a5b-4dcf-afca-4985bc27038c"
      },
      "source": [
        "predict=cls.predict(test_input_data)\n",
        "predict"
      ],
      "execution_count": 147,
      "outputs": [
        {
          "output_type": "execute_result",
          "data": {
            "text/plain": [
              "array([0, 0, 1, 0, 0, 0, 0, 0, 0, 0, 0, 0, 0, 0, 0, 0, 0, 0, 0, 0, 0, 0,\n",
              "       0, 0, 0, 0, 0, 0, 0, 0, 0, 0, 0, 0, 0, 0, 1, 0, 0, 0, 0, 0, 0, 0,\n",
              "       0, 0, 0, 0, 0, 0, 0, 0, 0, 0, 0, 0, 0, 0, 0, 0, 0, 0, 0, 0, 0, 0,\n",
              "       0, 0, 0, 0])"
            ]
          },
          "metadata": {
            "tags": []
          },
          "execution_count": 147
        }
      ]
    },
    {
      "cell_type": "code",
      "metadata": {
        "id": "Hb95d3kzabQV",
        "colab_type": "code",
        "colab": {
          "base_uri": "https://localhost:8080/",
          "height": 34
        },
        "outputId": "e3ec2949-f22a-4d44-bd6c-094923def4ea"
      },
      "source": [
        "from sklearn.metrics import accuracy_score\n",
        "s=accuracy_score(test_target_data,predict)\n",
        "print('accuracy={}%'.format(s*100))"
      ],
      "execution_count": 154,
      "outputs": [
        {
          "output_type": "stream",
          "text": [
            "accuracy=90.0%\n"
          ],
          "name": "stdout"
        }
      ]
    },
    {
      "cell_type": "markdown",
      "metadata": {
        "id": "8QzwVRWFG8du",
        "colab_type": "text"
      },
      "source": [
        "# 5. Inference"
      ]
    },
    {
      "cell_type": "markdown",
      "metadata": {
        "id": "TRZxohMwG8du",
        "colab_type": "text"
      },
      "source": [
        "1. Factors contributing more to the employee attrition are MonthlyIncome, TotalWorkingYears, YearsAtCompany, YearsInCurrentRole, \n",
        "   YearsWithCurrManager, Age, OverTime, DistanceFromHome, StockOptionLevel, JobLevel, JobRole, WorkLifeBalance, Gender.\n",
        "2. Top three roles facing attrition\n",
        "   - 26% of employees who are likely to quit belong to Laboratory Technician group.\n",
        "   - 24% of employees belong to Sales Executive group.\n",
        "   - 19% of employees belong to Research Scientist group.\n",
        "   (other inferences are mentioned below each graph)\n",
        "3. The model developed will be able to predict whether an employee will stay or not. This will help company to know the status of an     \n",
        "   employee in advance and take necessary actions to prevent loss that will incur."
      ]
    },
    {
      "cell_type": "markdown",
      "metadata": {
        "id": "MKl6kStDG8dv",
        "colab_type": "text"
      },
      "source": [
        "# 6. Deployment "
      ]
    },
    {
      "cell_type": "markdown",
      "metadata": {
        "id": "Pogfm3STG8dv",
        "colab_type": "text"
      },
      "source": [
        "Authenticate to the Watson Machine Learning service. Enter the credentials needed. Credentials can be retrieved from the 'Service Credentials' tab of the service instance instance"
      ]
    },
    {
      "cell_type": "markdown",
      "metadata": {
        "id": "2j5u6bjmG8dv",
        "colab_type": "text"
      },
      "source": [
        "<img src=\"https://github.com/IBM/employee-attrition-aif360/raw/master/doc/source/images/deploy.png\" width=\"400\" />"
      ]
    },
    {
      "cell_type": "markdown",
      "metadata": {
        "id": "TViQq-rTG8dw",
        "colab_type": "text"
      },
      "source": [
        "  \n",
        "  \n",
        "Replace the information in the following cell with your Watson Machine Learning (WML) credentials.\n",
        "\n",
        "You can find these credentials in your WML instance dashboard under the Service credentials tab.\n",
        "\n",
        "```\n",
        "wml_credentials = {\n",
        "    \"username\": \"------------\",\n",
        "    \"password\": \"------------\",\n",
        "    \"instance_id\": \"------------\",\n",
        "    \"url\": \"------------\"\n",
        "}\n",
        "```"
      ]
    },
    {
      "cell_type": "code",
      "metadata": {
        "id": "aC0o9_gGG8dw",
        "colab_type": "code",
        "colab": {}
      },
      "source": [
        "# for security credentials are not provided\n",
        "wml_credentials = {\n",
        "}"
      ],
      "execution_count": 0,
      "outputs": []
    },
    {
      "cell_type": "code",
      "metadata": {
        "id": "IKLuTPEIG8dx",
        "colab_type": "code",
        "colab": {}
      },
      "source": [
        "#Create WML API Client\n",
        "client = WatsonMachineLearningAPIClient(wml_credentials)"
      ],
      "execution_count": 0,
      "outputs": []
    },
    {
      "cell_type": "code",
      "metadata": {
        "id": "vbowUJ0yG8dz",
        "colab_type": "code",
        "colab": {}
      },
      "source": [
        "#Create metadata that can be used for creating and saving the custom library. Here, it is for pipeline label encoder.\n",
        "#Give the path of the custom package (zip). \n",
        "library_metadata = {\n",
        "        client.runtimes.LibraryMetaNames.VERSION: \"1.0\",\n",
        "        client.runtimes.LibraryMetaNames.PLATFORM: {\"name\": \"python\", \"versions\": [\"3.5\"]}\n",
        "    }\n",
        "#Store library\n",
        "custom_library_details = client.runtimes.store_library(library_metadata)\n",
        "#Retrieve library uid from the details\n",
        "custom_library_uid = client.runtimes.get_library_uid(custom_library_details)\n",
        "print(\"Custom Library UID is: \" + custom_library_uid)"
      ],
      "execution_count": 0,
      "outputs": []
    },
    {
      "cell_type": "code",
      "metadata": {
        "id": "VmdzwxvqG8d0",
        "colab_type": "code",
        "colab": {}
      },
      "source": [
        "#Define metadata required for creating runtime resource. Yse custom library uid obtained from above step to bind the custom library.\n",
        "#Runtime resource that is being defined here will be used for configuring online deployment runtime environment\n",
        "runtimes_meta = {\n",
        "    client.runtimes.ConfigurationMetaNames.NAME: \"Employee_Attrition\", \n",
        "    client.runtimes.ConfigurationMetaNames.DESCRIPTION: \"Data Science Life Cycle explained through employee attrition problem\", \n",
        "    client.runtimes.ConfigurationMetaNames.PLATFORM: { \"name\": \"python\", \"version\": \"3.5\" }, \n",
        "    client.runtimes.ConfigurationMetaNames.LIBRARIES_UIDS: [custom_library_uid]\n",
        "}"
      ],
      "execution_count": 0,
      "outputs": []
    },
    {
      "cell_type": "code",
      "metadata": {
        "id": "ZWXmC39bG8d1",
        "colab_type": "code",
        "colab": {}
      },
      "source": [
        "#create runtime resource\n",
        "runtime_resource_details = client.runtimes.store(runtimes_meta)\n",
        "runtime_resource_details"
      ],
      "execution_count": 0,
      "outputs": []
    },
    {
      "cell_type": "code",
      "metadata": {
        "id": "-joOfsgmG8d3",
        "colab_type": "code",
        "colab": {}
      },
      "source": [
        "#From the runtime resource retrieve url and uid \n",
        "runtime_url = client.runtimes.get_url(runtime_resource_details)\n",
        "print(\"Runtimes resource URL: \" + runtime_url)\n",
        "runtime_uid = client.runtimes.get_uid(runtime_resource_details)\n",
        "print(\"Runtimes resource UID: \" + runtime_uid)"
      ],
      "execution_count": 0,
      "outputs": []
    },
    {
      "cell_type": "code",
      "metadata": {
        "id": "jq8UAJ9wG8d5",
        "colab_type": "code",
        "colab": {}
      },
      "source": [
        "#client.repository is used for storing and managing the model, definitions, runtime requirements details in WML repository\n",
        "#This metadata associates model with runtime resources\n",
        "model_property = {client.repository.ModelMetaNames.NAME: \"Employee attrition Model\",\n",
        "               client.repository.ModelMetaNames.RUNTIME_UID: runtime_uid\n",
        "              }\n",
        "published_model = client.repository.store_model(model=model_pipeline, meta_props=model_property)"
      ],
      "execution_count": 0,
      "outputs": []
    },
    {
      "cell_type": "code",
      "metadata": {
        "id": "XfDHO6FpG8d8",
        "colab_type": "code",
        "colab": {}
      },
      "source": [
        "#get uid for the stored model\n",
        "published_model_uid = client.repository.get_model_uid(published_model)\n",
        "model_details = client.repository.get_details(published_model_uid)"
      ],
      "execution_count": 0,
      "outputs": []
    },
    {
      "cell_type": "code",
      "metadata": {
        "id": "Yfj5e2ilG8d9",
        "colab_type": "code",
        "colab": {}
      },
      "source": [
        "#create deployment\n",
        "created_deployment = client.deployments.create(published_model_uid, name=\"Emp_attrition_model\")"
      ],
      "execution_count": 0,
      "outputs": []
    },
    {
      "cell_type": "code",
      "metadata": {
        "id": "zni6UJaBG8d-",
        "colab_type": "code",
        "colab": {}
      },
      "source": [
        "#get scoring end point\n",
        "scoring_endpoint = client.deployments.get_scoring_url(created_deployment)\n",
        "print(scoring_endpoint)"
      ],
      "execution_count": 0,
      "outputs": []
    },
    {
      "cell_type": "code",
      "metadata": {
        "id": "SdXH3-ZAG8eB",
        "colab_type": "code",
        "colab": {}
      },
      "source": [
        "#Testing deployment\n",
        "scoring_payload = {'fields': ['MonthlyIncome', 'TotalWorkingYears', 'YearsAtCompany',\n",
        "       'YearsInCurrentRole', 'YearsWithCurrManager', 'Age', 'OverTime',\n",
        "       'DistanceFromHome', 'StockOptionLevel', 'JobLevel', 'JobRole',\n",
        "       'WorkLifeBalance', 'Gender'], \n",
        "                   'values': [[4404, 6, 4, 3, 2, 34, 'No', '8', 0, 2, 'Laboratory Technician', 4, 'Male']]}"
      ],
      "execution_count": 0,
      "outputs": []
    },
    {
      "cell_type": "code",
      "metadata": {
        "id": "EDV3_1zxG8eC",
        "colab_type": "code",
        "colab": {}
      },
      "source": [
        "predictions = client.deployments.score(scoring_endpoint, scoring_payload)"
      ],
      "execution_count": 0,
      "outputs": []
    },
    {
      "cell_type": "code",
      "metadata": {
        "id": "tR3J8CjbG8eD",
        "colab_type": "code",
        "colab": {}
      },
      "source": [
        "print('prediction',json.dumps(predictions, indent=2))"
      ],
      "execution_count": 0,
      "outputs": []
    },
    {
      "cell_type": "markdown",
      "metadata": {
        "id": "hTSAyAq0G8eF",
        "colab_type": "text"
      },
      "source": [
        "**Interpreting the results:**\n",
        "\n",
        "In the \"values\" list, the first value indicates the predicted result - \n",
        "    \n",
        "    0 represents negative employee attrition (employee will stay)\n",
        "    \n",
        "    1 represents positive employee attrition (employee will quit)\n",
        "\n",
        "\n",
        "Next in the list will be the probablities for each of the results -\n",
        "    \n",
        "    The first entry (class 0) represents probability of negative employee attrition\n",
        "    \n",
        "    The second entry (class 1) represents probability of positive employee attrition\n"
      ]
    },
    {
      "cell_type": "code",
      "metadata": {
        "id": "9fB4spiPG8eF",
        "colab_type": "code",
        "colab": {}
      },
      "source": [
        ""
      ],
      "execution_count": 0,
      "outputs": []
    }
  ]
}